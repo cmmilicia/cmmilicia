{
  "nbformat": 4,
  "nbformat_minor": 0,
  "metadata": {
    "colab": {
      "provenance": [],
      "gpuType": "T4",
      "authorship_tag": "ABX9TyMX1sKGwiq/T7Lfo81jVAba",
      "include_colab_link": true
    },
    "kernelspec": {
      "name": "python3",
      "display_name": "Python 3"
    },
    "language_info": {
      "name": "python"
    },
    "accelerator": "GPU"
  },
  "cells": [
    {
      "cell_type": "markdown",
      "metadata": {
        "id": "view-in-github",
        "colab_type": "text"
      },
      "source": [
        "<a href=\"https://colab.research.google.com/github/cmmilicia/cmmilicia/blob/main/Ultra.ipynb\" target=\"_parent\"><img src=\"https://colab.research.google.com/assets/colab-badge.svg\" alt=\"Open In Colab\"/></a>"
      ]
    },
    {
      "cell_type": "code",
      "execution_count": null,
      "metadata": {
        "id": "NR3-eH4kTN7O",
        "colab": {
          "base_uri": "https://localhost:8080/",
          "height": 1000
        },
        "outputId": "d50c9665-80c2-4912-9063-d8529ca72353"
      },
      "outputs": [
        {
          "output_type": "stream",
          "name": "stdout",
          "text": [
            "Using device: cuda\n",
            "\u001b[34m\u001b[1mengine/trainer: \u001b[0mtask=detect, mode=train, model=/content/Ultra/yolov8n.pt, data=/content/Ultra/ds3/ds3.yaml, epochs=20, time=None, patience=100, batch=32, imgsz=640, save=True, save_period=-1, cache=False, device=cuda, workers=8, project=None, name=train4, exist_ok=False, pretrained=True, optimizer=auto, verbose=True, seed=0, deterministic=True, single_cls=False, rect=False, cos_lr=False, close_mosaic=10, resume=False, amp=True, fraction=1.0, profile=False, freeze=None, multi_scale=False, overlap_mask=True, mask_ratio=4, dropout=0.0, val=True, split=val, save_json=False, save_hybrid=False, conf=None, iou=0.7, max_det=300, half=False, dnn=False, plots=True, source=None, vid_stride=1, stream_buffer=False, visualize=False, augment=False, agnostic_nms=False, classes=None, retina_masks=False, embed=None, show=False, save_frames=False, save_txt=False, save_conf=False, save_crop=False, show_labels=True, show_conf=True, show_boxes=True, line_width=None, format=torchscript, keras=False, optimize=False, int8=False, dynamic=False, simplify=True, opset=None, workspace=None, nms=False, lr0=0.01, lrf=0.01, momentum=0.937, weight_decay=0.0005, warmup_epochs=3.0, warmup_momentum=0.8, warmup_bias_lr=0.1, box=7.5, cls=0.5, dfl=1.5, pose=12.0, kobj=1.0, nbs=64, hsv_h=0.015, hsv_s=0.7, hsv_v=0.4, degrees=0.0, translate=0.1, scale=0.5, shear=0.0, perspective=0.0, flipud=0.0, fliplr=0.5, bgr=0.0, mosaic=1.0, mixup=0.0, copy_paste=0.0, copy_paste_mode=flip, auto_augment=randaugment, erasing=0.4, crop_fraction=1.0, cfg=None, tracker=botsort.yaml, save_dir=runs/detect/train4\n",
            "Overriding model.yaml nc=80 with nc=1\n",
            "\n",
            "                   from  n    params  module                                       arguments                     \n",
            "  0                  -1  1       464  ultralytics.nn.modules.conv.Conv             [3, 16, 3, 2]                 \n",
            "  1                  -1  1      4672  ultralytics.nn.modules.conv.Conv             [16, 32, 3, 2]                \n",
            "  2                  -1  1      7360  ultralytics.nn.modules.block.C2f             [32, 32, 1, True]             \n",
            "  3                  -1  1     18560  ultralytics.nn.modules.conv.Conv             [32, 64, 3, 2]                \n",
            "  4                  -1  2     49664  ultralytics.nn.modules.block.C2f             [64, 64, 2, True]             \n",
            "  5                  -1  1     73984  ultralytics.nn.modules.conv.Conv             [64, 128, 3, 2]               \n",
            "  6                  -1  2    197632  ultralytics.nn.modules.block.C2f             [128, 128, 2, True]           \n",
            "  7                  -1  1    295424  ultralytics.nn.modules.conv.Conv             [128, 256, 3, 2]              \n",
            "  8                  -1  1    460288  ultralytics.nn.modules.block.C2f             [256, 256, 1, True]           \n",
            "  9                  -1  1    164608  ultralytics.nn.modules.block.SPPF            [256, 256, 5]                 \n",
            " 10                  -1  1         0  torch.nn.modules.upsampling.Upsample         [None, 2, 'nearest']          \n",
            " 11             [-1, 6]  1         0  ultralytics.nn.modules.conv.Concat           [1]                           \n",
            " 12                  -1  1    148224  ultralytics.nn.modules.block.C2f             [384, 128, 1]                 \n",
            " 13                  -1  1         0  torch.nn.modules.upsampling.Upsample         [None, 2, 'nearest']          \n",
            " 14             [-1, 4]  1         0  ultralytics.nn.modules.conv.Concat           [1]                           \n",
            " 15                  -1  1     37248  ultralytics.nn.modules.block.C2f             [192, 64, 1]                  \n",
            " 16                  -1  1     36992  ultralytics.nn.modules.conv.Conv             [64, 64, 3, 2]                \n",
            " 17            [-1, 12]  1         0  ultralytics.nn.modules.conv.Concat           [1]                           \n",
            " 18                  -1  1    123648  ultralytics.nn.modules.block.C2f             [192, 128, 1]                 \n",
            " 19                  -1  1    147712  ultralytics.nn.modules.conv.Conv             [128, 128, 3, 2]              \n",
            " 20             [-1, 9]  1         0  ultralytics.nn.modules.conv.Concat           [1]                           \n",
            " 21                  -1  1    493056  ultralytics.nn.modules.block.C2f             [384, 256, 1]                 \n",
            " 22        [15, 18, 21]  1    751507  ultralytics.nn.modules.head.Detect           [1, [64, 128, 256]]           \n",
            "Model summary: 225 layers, 3,011,043 parameters, 3,011,027 gradients, 8.2 GFLOPs\n",
            "\n",
            "Transferred 319/355 items from pretrained weights\n",
            "\u001b[34m\u001b[1mTensorBoard: \u001b[0mStart with 'tensorboard --logdir runs/detect/train4', view at http://localhost:6006/\n",
            "Freezing layer 'model.22.dfl.conv.weight'\n",
            "\u001b[34m\u001b[1mAMP: \u001b[0mrunning Automatic Mixed Precision (AMP) checks...\n",
            "\u001b[34m\u001b[1mAMP: \u001b[0mchecks passed ✅\n"
          ]
        },
        {
          "output_type": "stream",
          "name": "stderr",
          "text": [
            "\u001b[34m\u001b[1mtrain: \u001b[0mScanning /content/Ultra/ds3/train/labels.cache... 346 images, 0 backgrounds, 0 corrupt: 100%|██████████| 346/346 [00:00<?, ?it/s]"
          ]
        },
        {
          "output_type": "stream",
          "name": "stdout",
          "text": [
            "\u001b[34m\u001b[1malbumentations: \u001b[0mBlur(p=0.01, blur_limit=(3, 7)), MedianBlur(p=0.01, blur_limit=(3, 7)), ToGray(p=0.01, num_output_channels=3, method='weighted_average'), CLAHE(p=0.01, clip_limit=(1.0, 4.0), tile_grid_size=(8, 8))\n"
          ]
        },
        {
          "output_type": "stream",
          "name": "stderr",
          "text": [
            "\n",
            "\u001b[34m\u001b[1mval: \u001b[0mScanning /content/Ultra/ds3/val/labels.cache... 87 images, 0 backgrounds, 0 corrupt: 100%|██████████| 87/87 [00:00<?, ?it/s]\n"
          ]
        },
        {
          "output_type": "stream",
          "name": "stdout",
          "text": [
            "Plotting labels to runs/detect/train4/labels.jpg... \n",
            "\u001b[34m\u001b[1moptimizer:\u001b[0m 'optimizer=auto' found, ignoring 'lr0=0.01' and 'momentum=0.937' and determining best 'optimizer', 'lr0' and 'momentum' automatically... \n",
            "\u001b[34m\u001b[1moptimizer:\u001b[0m AdamW(lr=0.002, momentum=0.9) with parameter groups 57 weight(decay=0.0), 64 weight(decay=0.0005), 63 bias(decay=0.0)\n",
            "\u001b[34m\u001b[1mTensorBoard: \u001b[0mmodel graph visualization added ✅\n",
            "Image sizes 640 train, 640 val\n",
            "Using 2 dataloader workers\n",
            "Logging results to \u001b[1mruns/detect/train4\u001b[0m\n",
            "Starting training for 20 epochs...\n",
            "\n",
            "      Epoch    GPU_mem   box_loss   cls_loss   dfl_loss  Instances       Size\n"
          ]
        },
        {
          "output_type": "stream",
          "name": "stderr",
          "text": [
            "       1/20      4.51G      1.631      4.063      1.488         55        640: 100%|██████████| 11/11 [00:07<00:00,  1.53it/s]\n",
            "                 Class     Images  Instances      Box(P          R      mAP50  mAP50-95): 100%|██████████| 2/2 [00:01<00:00,  1.35it/s]"
          ]
        },
        {
          "output_type": "stream",
          "name": "stdout",
          "text": [
            "                   all         87         87    0.00295      0.885      0.215      0.101\n"
          ]
        },
        {
          "output_type": "stream",
          "name": "stderr",
          "text": [
            "\n"
          ]
        },
        {
          "output_type": "stream",
          "name": "stdout",
          "text": [
            "\n",
            "      Epoch    GPU_mem   box_loss   cls_loss   dfl_loss  Instances       Size\n"
          ]
        },
        {
          "output_type": "stream",
          "name": "stderr",
          "text": [
            "       2/20      4.01G      1.348      2.313      1.146         42        640: 100%|██████████| 11/11 [00:05<00:00,  1.86it/s]\n",
            "                 Class     Images  Instances      Box(P          R      mAP50  mAP50-95): 100%|██████████| 2/2 [00:01<00:00,  1.92it/s]"
          ]
        },
        {
          "output_type": "stream",
          "name": "stdout",
          "text": [
            "                   all         87         87    0.00314      0.943      0.642      0.328\n"
          ]
        },
        {
          "output_type": "stream",
          "name": "stderr",
          "text": [
            "\n"
          ]
        },
        {
          "output_type": "stream",
          "name": "stdout",
          "text": [
            "\n",
            "      Epoch    GPU_mem   box_loss   cls_loss   dfl_loss  Instances       Size\n"
          ]
        },
        {
          "output_type": "stream",
          "name": "stderr",
          "text": [
            "       3/20         4G       1.41      1.959        1.2         48        640: 100%|██████████| 11/11 [00:05<00:00,  1.96it/s]\n",
            "                 Class     Images  Instances      Box(P          R      mAP50  mAP50-95): 100%|██████████| 2/2 [00:01<00:00,  1.36it/s]"
          ]
        },
        {
          "output_type": "stream",
          "name": "stdout",
          "text": [
            "                   all         87         87    0.00318      0.954      0.537      0.299\n"
          ]
        },
        {
          "output_type": "stream",
          "name": "stderr",
          "text": [
            "\n"
          ]
        },
        {
          "output_type": "stream",
          "name": "stdout",
          "text": [
            "\n",
            "      Epoch    GPU_mem   box_loss   cls_loss   dfl_loss  Instances       Size\n"
          ]
        },
        {
          "output_type": "stream",
          "name": "stderr",
          "text": [
            "       4/20         4G      1.392      1.749      1.189         60        640: 100%|██████████| 11/11 [00:04<00:00,  2.39it/s]\n",
            "                 Class     Images  Instances      Box(P          R      mAP50  mAP50-95): 100%|██████████| 2/2 [00:01<00:00,  1.87it/s]"
          ]
        },
        {
          "output_type": "stream",
          "name": "stdout",
          "text": [
            "                   all         87         87      0.836     0.0589      0.214      0.122\n"
          ]
        },
        {
          "output_type": "stream",
          "name": "stderr",
          "text": [
            "\n"
          ]
        },
        {
          "output_type": "stream",
          "name": "stdout",
          "text": [
            "\n",
            "      Epoch    GPU_mem   box_loss   cls_loss   dfl_loss  Instances       Size\n"
          ]
        },
        {
          "output_type": "stream",
          "name": "stderr",
          "text": [
            "       5/20         4G      1.407       1.66      1.223         53        640: 100%|██████████| 11/11 [00:05<00:00,  2.02it/s]\n",
            "                 Class     Images  Instances      Box(P          R      mAP50  mAP50-95): 100%|██████████| 2/2 [00:01<00:00,  1.91it/s]"
          ]
        },
        {
          "output_type": "stream",
          "name": "stdout",
          "text": [
            "                   all         87         87      0.493      0.112      0.242      0.141\n"
          ]
        },
        {
          "output_type": "stream",
          "name": "stderr",
          "text": [
            "\n"
          ]
        },
        {
          "output_type": "stream",
          "name": "stdout",
          "text": [
            "\n",
            "      Epoch    GPU_mem   box_loss   cls_loss   dfl_loss  Instances       Size\n"
          ]
        },
        {
          "output_type": "stream",
          "name": "stderr",
          "text": [
            "       6/20         4G      1.379      1.575      1.201         57        640: 100%|██████████| 11/11 [00:04<00:00,  2.46it/s]\n",
            "                 Class     Images  Instances      Box(P          R      mAP50  mAP50-95): 100%|██████████| 2/2 [00:00<00:00,  2.01it/s]"
          ]
        },
        {
          "output_type": "stream",
          "name": "stdout",
          "text": [
            "                   all         87         87      0.733      0.287      0.386      0.195\n"
          ]
        },
        {
          "output_type": "stream",
          "name": "stderr",
          "text": [
            "\n"
          ]
        },
        {
          "output_type": "stream",
          "name": "stdout",
          "text": [
            "\n",
            "      Epoch    GPU_mem   box_loss   cls_loss   dfl_loss  Instances       Size\n"
          ]
        },
        {
          "output_type": "stream",
          "name": "stderr",
          "text": [
            "       7/20         4G      1.341       1.46      1.184         54        640: 100%|██████████| 11/11 [00:04<00:00,  2.29it/s]\n",
            "                 Class     Images  Instances      Box(P          R      mAP50  mAP50-95): 100%|██████████| 2/2 [00:01<00:00,  1.69it/s]"
          ]
        },
        {
          "output_type": "stream",
          "name": "stdout",
          "text": [
            "                   all         87         87      0.316      0.161      0.138     0.0656\n"
          ]
        },
        {
          "output_type": "stream",
          "name": "stderr",
          "text": [
            "\n"
          ]
        },
        {
          "output_type": "stream",
          "name": "stdout",
          "text": [
            "\n",
            "      Epoch    GPU_mem   box_loss   cls_loss   dfl_loss  Instances       Size\n"
          ]
        },
        {
          "output_type": "stream",
          "name": "stderr",
          "text": [
            "       8/20         4G      1.332      1.433      1.183         56        640: 100%|██████████| 11/11 [00:05<00:00,  2.01it/s]\n",
            "                 Class     Images  Instances      Box(P          R      mAP50  mAP50-95): 100%|██████████| 2/2 [00:01<00:00,  1.78it/s]"
          ]
        },
        {
          "output_type": "stream",
          "name": "stdout",
          "text": [
            "                   all         87         87       0.74      0.457        0.5      0.273\n"
          ]
        },
        {
          "output_type": "stream",
          "name": "stderr",
          "text": [
            "\n"
          ]
        },
        {
          "output_type": "stream",
          "name": "stdout",
          "text": [
            "\n",
            "      Epoch    GPU_mem   box_loss   cls_loss   dfl_loss  Instances       Size\n"
          ]
        },
        {
          "output_type": "stream",
          "name": "stderr",
          "text": [
            "       9/20         4G      1.398      1.371      1.213         48        640: 100%|██████████| 11/11 [00:04<00:00,  2.50it/s]\n",
            "                 Class     Images  Instances      Box(P          R      mAP50  mAP50-95): 100%|██████████| 2/2 [00:01<00:00,  1.74it/s]"
          ]
        },
        {
          "output_type": "stream",
          "name": "stdout",
          "text": [
            "                   all         87         87      0.422       0.46       0.38      0.214\n"
          ]
        },
        {
          "output_type": "stream",
          "name": "stderr",
          "text": [
            "\n"
          ]
        },
        {
          "output_type": "stream",
          "name": "stdout",
          "text": [
            "\n",
            "      Epoch    GPU_mem   box_loss   cls_loss   dfl_loss  Instances       Size\n"
          ]
        },
        {
          "output_type": "stream",
          "name": "stderr",
          "text": [
            "      10/20         4G      1.367      1.283      1.206         49        640: 100%|██████████| 11/11 [00:05<00:00,  1.96it/s]\n",
            "                 Class     Images  Instances      Box(P          R      mAP50  mAP50-95): 100%|██████████| 2/2 [00:01<00:00,  1.86it/s]"
          ]
        },
        {
          "output_type": "stream",
          "name": "stdout",
          "text": [
            "                   all         87         87      0.794      0.575       0.68      0.374\n"
          ]
        },
        {
          "output_type": "stream",
          "name": "stderr",
          "text": [
            "\n"
          ]
        },
        {
          "output_type": "stream",
          "name": "stdout",
          "text": [
            "Closing dataloader mosaic\n",
            "\u001b[34m\u001b[1malbumentations: \u001b[0mBlur(p=0.01, blur_limit=(3, 7)), MedianBlur(p=0.01, blur_limit=(3, 7)), ToGray(p=0.01, num_output_channels=3, method='weighted_average'), CLAHE(p=0.01, clip_limit=(1.0, 4.0), tile_grid_size=(8, 8))\n",
            "\n",
            "      Epoch    GPU_mem   box_loss   cls_loss   dfl_loss  Instances       Size\n"
          ]
        },
        {
          "output_type": "stream",
          "name": "stderr",
          "text": [
            "      11/20         4G      1.334      1.538      1.225         26        640: 100%|██████████| 11/11 [00:09<00:00,  1.12it/s]\n",
            "                 Class     Images  Instances      Box(P          R      mAP50  mAP50-95): 100%|██████████| 2/2 [00:00<00:00,  2.10it/s]"
          ]
        },
        {
          "output_type": "stream",
          "name": "stdout",
          "text": [
            "                   all         87         87      0.767      0.604      0.706      0.386\n"
          ]
        },
        {
          "output_type": "stream",
          "name": "stderr",
          "text": [
            "\n"
          ]
        },
        {
          "output_type": "stream",
          "name": "stdout",
          "text": [
            "\n",
            "      Epoch    GPU_mem   box_loss   cls_loss   dfl_loss  Instances       Size\n"
          ]
        },
        {
          "output_type": "stream",
          "name": "stderr",
          "text": [
            "      12/20      4.01G      1.336      1.435      1.192         26        640: 100%|██████████| 11/11 [00:04<00:00,  2.26it/s]\n",
            "                 Class     Images  Instances      Box(P          R      mAP50  mAP50-95): 100%|██████████| 2/2 [00:01<00:00,  1.48it/s]"
          ]
        },
        {
          "output_type": "stream",
          "name": "stdout",
          "text": [
            "                   all         87         87       0.41      0.543      0.418        0.2\n"
          ]
        },
        {
          "output_type": "stream",
          "name": "stderr",
          "text": [
            "\n"
          ]
        },
        {
          "output_type": "stream",
          "name": "stdout",
          "text": [
            "\n",
            "      Epoch    GPU_mem   box_loss   cls_loss   dfl_loss  Instances       Size\n"
          ]
        },
        {
          "output_type": "stream",
          "name": "stderr",
          "text": [
            "      13/20         4G      1.305      1.369      1.196         25        640: 100%|██████████| 11/11 [00:04<00:00,  2.62it/s]\n",
            "                 Class     Images  Instances      Box(P          R      mAP50  mAP50-95): 100%|██████████| 2/2 [00:00<00:00,  2.18it/s]"
          ]
        },
        {
          "output_type": "stream",
          "name": "stdout",
          "text": [
            "                   all         87         87      0.838      0.759      0.819      0.417\n"
          ]
        },
        {
          "output_type": "stream",
          "name": "stderr",
          "text": [
            "\n"
          ]
        },
        {
          "output_type": "stream",
          "name": "stdout",
          "text": [
            "\n",
            "      Epoch    GPU_mem   box_loss   cls_loss   dfl_loss  Instances       Size\n"
          ]
        },
        {
          "output_type": "stream",
          "name": "stderr",
          "text": [
            "      14/20         4G      1.257      1.315       1.14         26        640: 100%|██████████| 11/11 [00:05<00:00,  2.16it/s]\n",
            "                 Class     Images  Instances      Box(P          R      mAP50  mAP50-95): 100%|██████████| 2/2 [00:01<00:00,  1.75it/s]"
          ]
        },
        {
          "output_type": "stream",
          "name": "stdout",
          "text": [
            "                   all         87         87      0.887       0.81      0.873      0.486\n"
          ]
        },
        {
          "output_type": "stream",
          "name": "stderr",
          "text": [
            "\n"
          ]
        },
        {
          "output_type": "stream",
          "name": "stdout",
          "text": [
            "\n",
            "      Epoch    GPU_mem   box_loss   cls_loss   dfl_loss  Instances       Size\n"
          ]
        },
        {
          "output_type": "stream",
          "name": "stderr",
          "text": [
            "      15/20         4G      1.249       1.22      1.168         26        640: 100%|██████████| 11/11 [00:04<00:00,  2.55it/s]\n",
            "                 Class     Images  Instances      Box(P          R      mAP50  mAP50-95): 100%|██████████| 2/2 [00:00<00:00,  2.12it/s]"
          ]
        },
        {
          "output_type": "stream",
          "name": "stdout",
          "text": [
            "                   all         87         87       0.95       0.77      0.881      0.486\n"
          ]
        },
        {
          "output_type": "stream",
          "name": "stderr",
          "text": [
            "\n"
          ]
        },
        {
          "output_type": "stream",
          "name": "stdout",
          "text": [
            "\n",
            "      Epoch    GPU_mem   box_loss   cls_loss   dfl_loss  Instances       Size\n"
          ]
        },
        {
          "output_type": "stream",
          "name": "stderr",
          "text": [
            "      16/20         4G      1.208      1.171      1.147         26        640: 100%|██████████| 11/11 [00:05<00:00,  2.06it/s]\n",
            "                 Class     Images  Instances      Box(P          R      mAP50  mAP50-95): 100%|██████████| 2/2 [00:01<00:00,  1.97it/s]"
          ]
        },
        {
          "output_type": "stream",
          "name": "stdout",
          "text": [
            "                   all         87         87      0.907      0.805      0.894      0.504\n"
          ]
        },
        {
          "output_type": "stream",
          "name": "stderr",
          "text": [
            "\n"
          ]
        },
        {
          "output_type": "stream",
          "name": "stdout",
          "text": [
            "\n",
            "      Epoch    GPU_mem   box_loss   cls_loss   dfl_loss  Instances       Size\n"
          ]
        },
        {
          "output_type": "stream",
          "name": "stderr",
          "text": [
            "      17/20         4G      1.156      1.056      1.117         25        640: 100%|██████████| 11/11 [00:04<00:00,  2.55it/s]\n",
            "                 Class     Images  Instances      Box(P          R      mAP50  mAP50-95): 100%|██████████| 2/2 [00:01<00:00,  1.96it/s]"
          ]
        },
        {
          "output_type": "stream",
          "name": "stdout",
          "text": [
            "                   all         87         87      0.882      0.775      0.872      0.511\n"
          ]
        },
        {
          "output_type": "stream",
          "name": "stderr",
          "text": [
            "\n"
          ]
        },
        {
          "output_type": "stream",
          "name": "stdout",
          "text": [
            "\n",
            "      Epoch    GPU_mem   box_loss   cls_loss   dfl_loss  Instances       Size\n"
          ]
        },
        {
          "output_type": "stream",
          "name": "stderr",
          "text": [
            "      18/20         4G      1.159      1.025      1.123         26        640: 100%|██████████| 11/11 [00:04<00:00,  2.54it/s]\n",
            "                 Class     Images  Instances      Box(P          R      mAP50  mAP50-95): 100%|██████████| 2/2 [00:00<00:00,  2.25it/s]"
          ]
        },
        {
          "output_type": "stream",
          "name": "stdout",
          "text": [
            "                   all         87         87      0.911       0.82      0.909      0.528\n"
          ]
        },
        {
          "output_type": "stream",
          "name": "stderr",
          "text": [
            "\n"
          ]
        },
        {
          "output_type": "stream",
          "name": "stdout",
          "text": [
            "\n",
            "      Epoch    GPU_mem   box_loss   cls_loss   dfl_loss  Instances       Size\n"
          ]
        },
        {
          "output_type": "stream",
          "name": "stderr",
          "text": [
            "      19/20         4G      1.122     0.9781      1.093         26        640: 100%|██████████| 11/11 [00:04<00:00,  2.28it/s]\n",
            "                 Class     Images  Instances      Box(P          R      mAP50  mAP50-95): 100%|██████████| 2/2 [00:01<00:00,  1.65it/s]"
          ]
        },
        {
          "output_type": "stream",
          "name": "stdout",
          "text": [
            "                   all         87         87      0.872      0.885      0.889      0.515\n"
          ]
        },
        {
          "output_type": "stream",
          "name": "stderr",
          "text": [
            "\n"
          ]
        },
        {
          "output_type": "stream",
          "name": "stdout",
          "text": [
            "\n",
            "      Epoch    GPU_mem   box_loss   cls_loss   dfl_loss  Instances       Size\n"
          ]
        },
        {
          "output_type": "stream",
          "name": "stderr",
          "text": [
            "      20/20         4G      1.102      0.947      1.076         26        640: 100%|██████████| 11/11 [00:04<00:00,  2.61it/s]\n",
            "                 Class     Images  Instances      Box(P          R      mAP50  mAP50-95): 100%|██████████| 2/2 [00:01<00:00,  1.91it/s]"
          ]
        },
        {
          "output_type": "stream",
          "name": "stdout",
          "text": [
            "                   all         87         87      0.896      0.897      0.902      0.522\n"
          ]
        },
        {
          "output_type": "stream",
          "name": "stderr",
          "text": [
            "\n"
          ]
        },
        {
          "output_type": "stream",
          "name": "stdout",
          "text": [
            "\n",
            "20 epochs completed in 0.047 hours.\n",
            "Optimizer stripped from runs/detect/train4/weights/last.pt, 6.2MB\n",
            "Optimizer stripped from runs/detect/train4/weights/best.pt, 6.2MB\n",
            "\n",
            "Validating runs/detect/train4/weights/best.pt...\n",
            "Ultralytics 8.3.75 🚀 Python-3.11.11 torch-2.5.1+cu124 CUDA:0 (Tesla T4, 15095MiB)\n",
            "Model summary (fused): 168 layers, 3,005,843 parameters, 0 gradients, 8.1 GFLOPs\n"
          ]
        },
        {
          "output_type": "stream",
          "name": "stderr",
          "text": [
            "                 Class     Images  Instances      Box(P          R      mAP50  mAP50-95): 100%|██████████| 2/2 [00:01<00:00,  1.35it/s]\n"
          ]
        },
        {
          "output_type": "stream",
          "name": "stdout",
          "text": [
            "                   all         87         87      0.911      0.819      0.909      0.529\n",
            "Speed: 0.2ms preprocess, 2.1ms inference, 0.0ms loss, 1.9ms postprocess per image\n",
            "Results saved to \u001b[1mruns/detect/train4\u001b[0m\n",
            "\n",
            "image 1/1 /content/Ultra/1.jpg: 640x480 1 plate, 34.8ms\n",
            "Speed: 3.9ms preprocess, 34.8ms inference, 2.1ms postprocess per image at shape (1, 3, 640, 480)\n"
          ]
        },
        {
          "output_type": "error",
          "ename": "AttributeError",
          "evalue": "'list' object has no attribute 'show'",
          "traceback": [
            "\u001b[0;31m---------------------------------------------------------------------------\u001b[0m",
            "\u001b[0;31mAttributeError\u001b[0m                            Traceback (most recent call last)",
            "\u001b[0;32m<ipython-input-8-e6f9c2c6b85d>\u001b[0m in \u001b[0;36m<cell line: 0>\u001b[0;34m()\u001b[0m\n\u001b[1;32m     18\u001b[0m \u001b[0;31m# Executar inferência numa fotografia\u001b[0m\u001b[0;34m\u001b[0m\u001b[0;34m\u001b[0m\u001b[0m\n\u001b[1;32m     19\u001b[0m \u001b[0mresults\u001b[0m \u001b[0;34m=\u001b[0m \u001b[0mmodel\u001b[0m\u001b[0;34m(\u001b[0m\u001b[0;34m\"/content/Ultra/1.jpg\"\u001b[0m\u001b[0;34m)\u001b[0m\u001b[0;34m\u001b[0m\u001b[0;34m\u001b[0m\u001b[0m\n\u001b[0;32m---> 20\u001b[0;31m \u001b[0mresults\u001b[0m\u001b[0;34m.\u001b[0m\u001b[0mshow\u001b[0m\u001b[0;34m(\u001b[0m\u001b[0;34m)\u001b[0m  \u001b[0;31m# Mostrar os resultados da inferência\u001b[0m\u001b[0;34m\u001b[0m\u001b[0;34m\u001b[0m\u001b[0m\n\u001b[0m",
            "\u001b[0;31mAttributeError\u001b[0m: 'list' object has no attribute 'show'"
          ]
        }
      ],
      "source": [
        "#!pip install ultralytics\n",
        "from ultralytics import YOLO\n",
        "import torch\n",
        "\n",
        "# Verificar se a GPU está disponível\n",
        "device = torch.device('cuda' if torch.cuda.is_available() else 'cpu')\n",
        "print(\"Using device:\", device)\n",
        "\n",
        "# Carregar o modelo pré-treinado\n",
        "model = YOLO(\"/content/Ultra/yolov8n.pt\")\n",
        "\n",
        "# Especificar o caminho completo para o ficheiro data.yaml\n",
        "data_yaml_path = \"/content/Ultra/ds3/ds3.yaml\"\n",
        "\n",
        "# Treinar o modelo com configuração otimizada\n",
        "results = model.train(data=data_yaml_path, epochs=20, batch=32, imgsz=640, workers=8, device=device)\n",
        "\n",
        "# Executar inferência numa fotografia\n",
        "results = model(\"/content/Ultra/1.jpg\")\n",
        "\n",
        "if results:\n",
        "    results[0].show()  # Mostrar os resultados da inferência for the first image\n",
        "else:\n",
        "    print(\"No results found.\")\n",
        "#results.show()  # Mostrar os resultados da inferência\n"
      ]
    },
    {
      "source": [
        "from IPython import get_ipython\n",
        "from IPython.display import display\n",
        "# %%\n",
        "#!pip install ultralytics\n",
        "from ultralytics import YOLO\n",
        "import torch\n",
        "import os\n",
        "\n",
        "# Verificar se a GPU está disponível\n",
        "device = torch.device('cuda' if torch.cuda.is_available() else 'cpu')\n",
        "print(\"Using device:\", device)\n",
        "\n",
        "# Carregar o modelo pré-treinado\n",
        "model = YOLO(\"/content/Ultra/yolov8n.pt\")  # Assuming this is your trained model\n",
        "\n",
        "# Executar inferência numa fotografia\n",
        "#results = model(\"/content/Ultra/3.jpg\")\n",
        "\n",
        "# Get a list of all image files in the 'imgs' folder\n",
        "image_folder = \"/content/Ultra/imgs\"  # Replace with the actual path to your imgs folder\n",
        "image_files = [f for f in os.listdir(image_folder) if os.path.isfile(os.path.join(image_folder, f))]\n",
        "\n",
        "# Loop through each image file and perform inference\n",
        "for image_file in image_files:\n",
        "    image_path = os.path.join(image_folder, image_file)\n",
        "    results = model(image_path)\n",
        "\n",
        "if results:\n",
        "  for result in results:\n",
        "    display(result)  # Assuming .imgs[0] holds the image data\n",
        "    display(result.img)\n",
        "    print(result.save_dir)  # Print the directory where the result is saved\n",
        "           # Or, save the results with a unique name:\n",
        "    #result.save(save_dir='results', file_name=f'result_{image_file}')\n",
        "    result.save(filename=os.path.join('results', f'result_{image_file}'))  # Corrected\n",
        "    # ... other code ...\n",
        "    #result.show()\n",
        "    #results[0].show()  # Mostrar os resultados da inferência for the first image\n",
        "else:\n",
        "    print(\"No results found.\")"
      ],
      "cell_type": "code",
      "metadata": {
        "colab": {
          "base_uri": "https://localhost:8080/",
          "height": 1000
        },
        "id": "bYd4ohvEM5Po",
        "outputId": "6f9d1fa4-2b57-4605-9f94-d96b1bff7212"
      },
      "execution_count": 18,
      "outputs": [
        {
          "output_type": "stream",
          "name": "stdout",
          "text": [
            "Using device: cuda\n",
            "\n",
            "image 1/1 /content/Ultra/imgs/4.jpg: 640x480 2 cars, 8.0ms\n",
            "Speed: 3.3ms preprocess, 8.0ms inference, 1.3ms postprocess per image at shape (1, 3, 640, 480)\n",
            "\n",
            "image 1/1 /content/Ultra/imgs/2.jpg: 640x480 1 car, 9.0ms\n",
            "Speed: 4.9ms preprocess, 9.0ms inference, 1.3ms postprocess per image at shape (1, 3, 640, 480)\n",
            "\n",
            "image 1/1 /content/Ultra/imgs/3.jpg: 640x480 3 cars, 11.0ms\n",
            "Speed: 4.5ms preprocess, 11.0ms inference, 1.8ms postprocess per image at shape (1, 3, 640, 480)\n",
            "\n",
            "image 1/1 /content/Ultra/imgs/1.jpg: 640x480 1 car, 10.0ms\n",
            "Speed: 4.7ms preprocess, 10.0ms inference, 1.7ms postprocess per image at shape (1, 3, 640, 480)\n"
          ]
        },
        {
          "output_type": "display_data",
          "data": {
            "text/plain": [
              "ultralytics.engine.results.Results object with attributes:\n",
              "\n",
              "boxes: ultralytics.engine.results.Boxes object\n",
              "keypoints: None\n",
              "masks: None\n",
              "names: {0: 'person', 1: 'bicycle', 2: 'car', 3: 'motorcycle', 4: 'airplane', 5: 'bus', 6: 'train', 7: 'truck', 8: 'boat', 9: 'traffic light', 10: 'fire hydrant', 11: 'stop sign', 12: 'parking meter', 13: 'bench', 14: 'bird', 15: 'cat', 16: 'dog', 17: 'horse', 18: 'sheep', 19: 'cow', 20: 'elephant', 21: 'bear', 22: 'zebra', 23: 'giraffe', 24: 'backpack', 25: 'umbrella', 26: 'handbag', 27: 'tie', 28: 'suitcase', 29: 'frisbee', 30: 'skis', 31: 'snowboard', 32: 'sports ball', 33: 'kite', 34: 'baseball bat', 35: 'baseball glove', 36: 'skateboard', 37: 'surfboard', 38: 'tennis racket', 39: 'bottle', 40: 'wine glass', 41: 'cup', 42: 'fork', 43: 'knife', 44: 'spoon', 45: 'bowl', 46: 'banana', 47: 'apple', 48: 'sandwich', 49: 'orange', 50: 'broccoli', 51: 'carrot', 52: 'hot dog', 53: 'pizza', 54: 'donut', 55: 'cake', 56: 'chair', 57: 'couch', 58: 'potted plant', 59: 'bed', 60: 'dining table', 61: 'toilet', 62: 'tv', 63: 'laptop', 64: 'mouse', 65: 'remote', 66: 'keyboard', 67: 'cell phone', 68: 'microwave', 69: 'oven', 70: 'toaster', 71: 'sink', 72: 'refrigerator', 73: 'book', 74: 'clock', 75: 'vase', 76: 'scissors', 77: 'teddy bear', 78: 'hair drier', 79: 'toothbrush'}\n",
              "obb: None\n",
              "orig_img: array([[[250, 243, 248],\n",
              "        [251, 244, 249],\n",
              "        [249, 242, 247],\n",
              "        ...,\n",
              "        [ 65, 106,  99],\n",
              "        [ 65, 106, 101],\n",
              "        [ 67, 108, 103]],\n",
              "\n",
              "       [[251, 244, 249],\n",
              "        [255, 248, 253],\n",
              "        [250, 243, 248],\n",
              "        ...,\n",
              "        [ 67, 108, 101],\n",
              "        [ 71, 111, 106],\n",
              "        [ 71, 112, 107]],\n",
              "\n",
              "       [[247, 240, 245],\n",
              "        [251, 244, 249],\n",
              "        [248, 241, 246],\n",
              "        ...,\n",
              "        [ 61,  98,  94],\n",
              "        [ 71, 108, 104],\n",
              "        [ 72, 109, 105]],\n",
              "\n",
              "       ...,\n",
              "\n",
              "       [[151, 144, 141],\n",
              "        [150, 143, 140],\n",
              "        [152, 145, 142],\n",
              "        ...,\n",
              "        [115, 113, 119],\n",
              "        [117, 115, 121],\n",
              "        [115, 113, 119]],\n",
              "\n",
              "       [[148, 141, 138],\n",
              "        [146, 139, 136],\n",
              "        [148, 141, 138],\n",
              "        ...,\n",
              "        [114, 112, 118],\n",
              "        [115, 113, 119],\n",
              "        [111, 109, 115]],\n",
              "\n",
              "       [[152, 145, 142],\n",
              "        [146, 139, 136],\n",
              "        [147, 140, 137],\n",
              "        ...,\n",
              "        [111, 109, 115],\n",
              "        [115, 113, 119],\n",
              "        [115, 113, 119]]], dtype=uint8)\n",
              "orig_shape: (4000, 3000)\n",
              "path: '/content/Ultra/imgs/1.jpg'\n",
              "probs: None\n",
              "save_dir: 'runs/detect/predict'\n",
              "speed: {'preprocess': 4.671898000196961, 'inference': 9.951336000085576, 'postprocess': 1.7205799995281268}"
            ]
          },
          "metadata": {}
        },
        {
          "output_type": "error",
          "ename": "AttributeError",
          "evalue": "'Results' object has no attribute 'img'. See valid attributes below.\n\n    A class for storing and manipulating inference results.\n\n    This class encapsulates the functionality for handling detection, segmentation, pose estimation,\n    and classification results from YOLO models.\n\n    Attributes:\n        orig_img (numpy.ndarray): Original image as a numpy array.\n        orig_shape (Tuple[int, int]): Original image shape in (height, width) format.\n        boxes (Boxes | None): Object containing detection bounding boxes.\n        masks (Masks | None): Object containing detection masks.\n        probs (Probs | None): Object containing class probabilities for classification tasks.\n        keypoints (Keypoints | None): Object containing detected keypoints for each object.\n        obb (OBB | None): Object containing oriented bounding boxes.\n        speed (Dict[str, float | None]): Dictionary of preprocess, inference, and postprocess speeds.\n        names (Dict[int, str]): Dictionary mapping class IDs to class names.\n        path (str): Path to the image file.\n        _keys (Tuple[str, ...]): Tuple of attribute names for internal use.\n\n    Methods:\n        update: Updates object attributes with new detection results.\n        cpu: Returns a copy of the Results object with all tensors on CPU memory.\n        numpy: Returns a copy of the Results object with all tensors as numpy arrays.\n        cuda: Returns a copy of the Results object with all tensors on GPU memory.\n        to: Returns a copy of the Results object with tensors on a specified device and dtype.\n        new: Returns a new Results object with the same image, path, and names.\n        plot: Plots detection results on an input image, returning an annotated image.\n        show: Shows annotated results on screen.\n        save: Saves annotated results to file.\n        verbose: Returns a log string for each task, detailing detections and classifications.\n        save_txt: Saves detection results to a text file.\n        save_crop: Saves cropped detection images.\n        tojson: Converts detection results to JSON format.\n\n    Examples:\n        >>> results = model(\"path/to/image.jpg\")\n        >>> for result in results:\n        ...     print(result.boxes)  # Print detection boxes\n        ...     result.show()  # Display the annotated image\n        ...     result.save(filename=\"result.jpg\")  # Save annotated image\n    ",
          "traceback": [
            "\u001b[0;31m---------------------------------------------------------------------------\u001b[0m",
            "\u001b[0;31mAttributeError\u001b[0m                            Traceback (most recent call last)",
            "\u001b[0;32m<ipython-input-18-b3727bb68043>\u001b[0m in \u001b[0;36m<cell line: 0>\u001b[0;34m()\u001b[0m\n\u001b[1;32m     29\u001b[0m   \u001b[0;32mfor\u001b[0m \u001b[0mresult\u001b[0m \u001b[0;32min\u001b[0m \u001b[0mresults\u001b[0m\u001b[0;34m:\u001b[0m\u001b[0;34m\u001b[0m\u001b[0;34m\u001b[0m\u001b[0m\n\u001b[1;32m     30\u001b[0m     \u001b[0mdisplay\u001b[0m\u001b[0;34m(\u001b[0m\u001b[0mresult\u001b[0m\u001b[0;34m)\u001b[0m  \u001b[0;31m# Assuming .imgs[0] holds the image data\u001b[0m\u001b[0;34m\u001b[0m\u001b[0;34m\u001b[0m\u001b[0m\n\u001b[0;32m---> 31\u001b[0;31m     \u001b[0mdisplay\u001b[0m\u001b[0;34m(\u001b[0m\u001b[0mresult\u001b[0m\u001b[0;34m.\u001b[0m\u001b[0mimg\u001b[0m\u001b[0;34m)\u001b[0m\u001b[0;34m\u001b[0m\u001b[0;34m\u001b[0m\u001b[0m\n\u001b[0m\u001b[1;32m     32\u001b[0m     \u001b[0mprint\u001b[0m\u001b[0;34m(\u001b[0m\u001b[0mresult\u001b[0m\u001b[0;34m.\u001b[0m\u001b[0msave_dir\u001b[0m\u001b[0;34m)\u001b[0m  \u001b[0;31m# Print the directory where the result is saved\u001b[0m\u001b[0;34m\u001b[0m\u001b[0;34m\u001b[0m\u001b[0m\n\u001b[1;32m     33\u001b[0m            \u001b[0;31m# Or, save the results with a unique name:\u001b[0m\u001b[0;34m\u001b[0m\u001b[0;34m\u001b[0m\u001b[0m\n",
            "\u001b[0;32m/usr/local/lib/python3.11/dist-packages/ultralytics/utils/__init__.py\u001b[0m in \u001b[0;36m__getattr__\u001b[0;34m(self, attr)\u001b[0m\n\u001b[1;32m    237\u001b[0m         \u001b[0;34m\"\"\"Custom attribute access error message with helpful information.\"\"\"\u001b[0m\u001b[0;34m\u001b[0m\u001b[0;34m\u001b[0m\u001b[0m\n\u001b[1;32m    238\u001b[0m         \u001b[0mname\u001b[0m \u001b[0;34m=\u001b[0m \u001b[0mself\u001b[0m\u001b[0;34m.\u001b[0m\u001b[0m__class__\u001b[0m\u001b[0;34m.\u001b[0m\u001b[0m__name__\u001b[0m\u001b[0;34m\u001b[0m\u001b[0;34m\u001b[0m\u001b[0m\n\u001b[0;32m--> 239\u001b[0;31m         \u001b[0;32mraise\u001b[0m \u001b[0mAttributeError\u001b[0m\u001b[0;34m(\u001b[0m\u001b[0;34mf\"'{name}' object has no attribute '{attr}'. See valid attributes below.\\n{self.__doc__}\"\u001b[0m\u001b[0;34m)\u001b[0m\u001b[0;34m\u001b[0m\u001b[0;34m\u001b[0m\u001b[0m\n\u001b[0m\u001b[1;32m    240\u001b[0m \u001b[0;34m\u001b[0m\u001b[0m\n\u001b[1;32m    241\u001b[0m \u001b[0;34m\u001b[0m\u001b[0m\n",
            "\u001b[0;31mAttributeError\u001b[0m: 'Results' object has no attribute 'img'. See valid attributes below.\n\n    A class for storing and manipulating inference results.\n\n    This class encapsulates the functionality for handling detection, segmentation, pose estimation,\n    and classification results from YOLO models.\n\n    Attributes:\n        orig_img (numpy.ndarray): Original image as a numpy array.\n        orig_shape (Tuple[int, int]): Original image shape in (height, width) format.\n        boxes (Boxes | None): Object containing detection bounding boxes.\n        masks (Masks | None): Object containing detection masks.\n        probs (Probs | None): Object containing class probabilities for classification tasks.\n        keypoints (Keypoints | None): Object containing detected keypoints for each object.\n        obb (OBB | None): Object containing oriented bounding boxes.\n        speed (Dict[str, float | None]): Dictionary of preprocess, inference, and postprocess speeds.\n        names (Dict[int, str]): Dictionary mapping class IDs to class names.\n        path (str): Path to the image file.\n        _keys (Tuple[str, ...]): Tuple of attribute names for internal use.\n\n    Methods:\n        update: Updates object attributes with new detection results.\n        cpu: Returns a copy of the Results object with all tensors on CPU memory.\n        numpy: Returns a copy of the Results object with all tensors as numpy arrays.\n        cuda: Returns a copy of the Results object with all tensors on GPU memory.\n        to: Returns a copy of the Results object with tensors on a specified device and dtype.\n        new: Returns a new Results object with the same image, path, and names.\n        plot: Plots detection results on an input image, returning an annotated image.\n        show: Shows annotated results on screen.\n        save: Saves annotated results to file.\n        verbose: Returns a log string for each task, detailing detections and classifications.\n        save_txt: Saves detection results to a text file.\n        save_crop: Saves cropped detection images.\n        tojson: Converts detection results to JSON format.\n\n    Examples:\n        >>> results = model(\"path/to/image.jpg\")\n        >>> for result in results:\n        ...     print(result.boxes)  # Print detection boxes\n        ...     result.show()  # Display the annotated image\n        ...     result.save(filename=\"result.jpg\")  # Save annotated image\n    "
          ]
        }
      ]
    },
    {
      "source": [
        "from IPython import get_ipython\n",
        "from IPython.display import display\n",
        "# %%\n",
        "#!pip install ultralytics\n",
        "from ultralytics import YOLO\n",
        "import torch\n",
        "import os\n",
        "\n",
        "# Verificar se a GPU está disponível\n",
        "device = torch.device('cuda' if torch.cuda.is_available() else 'cpu')\n",
        "print(\"Using device:\", device)\n",
        "\n",
        "# Carregar o modelo pré-treinado SMALL\n",
        "model = YOLO(\"/content/Ultra/yolov8s.pt\")  # Assuming this is your trained model\n",
        "# Carregar o modelo pré-treinado nano com muitas coisas para detectar\n",
        "#model = YOLO(\"/content/Ultra/yolov8n.pt\")\n",
        "# Carregar o modelo pré-treinado nano com muitas coisas para detectar\n",
        "#model = YOLO(\"/content/Ultra/yolov7.pt\")\n",
        "\n",
        "# Especificar o caminho completo para o ficheiro data.yaml\n",
        "data_yaml_path = \"/content/Ultra/ds3/ds3.yaml\"\n",
        "\n",
        "# Treinar o modelo com configuração otimizada\n",
        "results = model.train(data=data_yaml_path, epochs=20, batch=32, imgsz=640, workers=8, device=device)\n",
        "\n",
        "# Executar inferência numa fotografia\n",
        "#results = model(\"/content/Ultra/3.jpg\")\n",
        "\n",
        "# Get a list of all image files in the 'imgs' folder\n",
        "image_folder = \"/content/Ultra/imgs\"  # Replace with the actual path to your imgs folder\n",
        "image_files = [f for f in os.listdir(image_folder) if os.path.isfile(os.path.join(image_folder, f))]\n",
        "\n",
        "# Loop through each image file and perform inference\n",
        "for image_file in image_files:\n",
        "    image_path = os.path.join(image_folder, image_file)\n",
        "    results += model(image_path)\n",
        "\n",
        "if results:\n",
        "  for result in results:\n",
        "    print(result.boxes)\n",
        "    display(result)  # Assuming .imgs[0] holds the image data\n",
        "    # Access the image data using .orig_img instead of .img\n",
        "    print(f\"/n/n/n \")\n",
        "    display(result.orig_img)\n",
        "    print(result.save_dir)  # Print the directory where the result is saved\n",
        "           # Or, save the results with a unique name:\n",
        "    #result.save(save_dir='results', file_name=f'result_{image_file}')\n",
        "    result.save(filename=os.path.join('results', f'result_{image_file}'))  # Corrected\n",
        "    # ... other code ...\n",
        "    result.show()\n",
        "    #results[0].show()  # Mostrar os resultados da inferência for the first image\n",
        "else:\n",
        "    print(\"No results found.\")"
      ],
      "cell_type": "code",
      "metadata": {
        "colab": {
          "base_uri": "https://localhost:8080/",
          "height": 1000
        },
        "id": "YZLCEBjXVUwU",
        "outputId": "624f3b6e-3013-489a-a8f4-481fbf57f8b1"
      },
      "execution_count": 28,
      "outputs": [
        {
          "output_type": "stream",
          "name": "stdout",
          "text": [
            "Using device: cuda\n",
            "\u001b[34m\u001b[1mengine/trainer: \u001b[0mtask=detect, mode=train, model=/content/Ultra/yolov8s.pt, data=/content/Ultra/ds3/ds3.yaml, epochs=20, time=None, patience=100, batch=32, imgsz=640, save=True, save_period=-1, cache=False, device=cuda, workers=8, project=None, name=train5, exist_ok=False, pretrained=True, optimizer=auto, verbose=True, seed=0, deterministic=True, single_cls=False, rect=False, cos_lr=False, close_mosaic=10, resume=False, amp=True, fraction=1.0, profile=False, freeze=None, multi_scale=False, overlap_mask=True, mask_ratio=4, dropout=0.0, val=True, split=val, save_json=False, save_hybrid=False, conf=None, iou=0.7, max_det=300, half=False, dnn=False, plots=True, source=None, vid_stride=1, stream_buffer=False, visualize=False, augment=False, agnostic_nms=False, classes=None, retina_masks=False, embed=None, show=False, save_frames=False, save_txt=False, save_conf=False, save_crop=False, show_labels=True, show_conf=True, show_boxes=True, line_width=None, format=torchscript, keras=False, optimize=False, int8=False, dynamic=False, simplify=True, opset=None, workspace=None, nms=False, lr0=0.01, lrf=0.01, momentum=0.937, weight_decay=0.0005, warmup_epochs=3.0, warmup_momentum=0.8, warmup_bias_lr=0.1, box=7.5, cls=0.5, dfl=1.5, pose=12.0, kobj=1.0, nbs=64, hsv_h=0.015, hsv_s=0.7, hsv_v=0.4, degrees=0.0, translate=0.1, scale=0.5, shear=0.0, perspective=0.0, flipud=0.0, fliplr=0.5, bgr=0.0, mosaic=1.0, mixup=0.0, copy_paste=0.0, copy_paste_mode=flip, auto_augment=randaugment, erasing=0.4, crop_fraction=1.0, cfg=None, tracker=botsort.yaml, save_dir=runs/detect/train5\n",
            "Overriding model.yaml nc=80 with nc=1\n",
            "\n",
            "                   from  n    params  module                                       arguments                     \n",
            "  0                  -1  1       928  ultralytics.nn.modules.conv.Conv             [3, 32, 3, 2]                 \n",
            "  1                  -1  1     18560  ultralytics.nn.modules.conv.Conv             [32, 64, 3, 2]                \n",
            "  2                  -1  1     29056  ultralytics.nn.modules.block.C2f             [64, 64, 1, True]             \n",
            "  3                  -1  1     73984  ultralytics.nn.modules.conv.Conv             [64, 128, 3, 2]               \n",
            "  4                  -1  2    197632  ultralytics.nn.modules.block.C2f             [128, 128, 2, True]           \n",
            "  5                  -1  1    295424  ultralytics.nn.modules.conv.Conv             [128, 256, 3, 2]              \n",
            "  6                  -1  2    788480  ultralytics.nn.modules.block.C2f             [256, 256, 2, True]           \n",
            "  7                  -1  1   1180672  ultralytics.nn.modules.conv.Conv             [256, 512, 3, 2]              \n",
            "  8                  -1  1   1838080  ultralytics.nn.modules.block.C2f             [512, 512, 1, True]           \n",
            "  9                  -1  1    656896  ultralytics.nn.modules.block.SPPF            [512, 512, 5]                 \n",
            " 10                  -1  1         0  torch.nn.modules.upsampling.Upsample         [None, 2, 'nearest']          \n",
            " 11             [-1, 6]  1         0  ultralytics.nn.modules.conv.Concat           [1]                           \n",
            " 12                  -1  1    591360  ultralytics.nn.modules.block.C2f             [768, 256, 1]                 \n",
            " 13                  -1  1         0  torch.nn.modules.upsampling.Upsample         [None, 2, 'nearest']          \n",
            " 14             [-1, 4]  1         0  ultralytics.nn.modules.conv.Concat           [1]                           \n",
            " 15                  -1  1    148224  ultralytics.nn.modules.block.C2f             [384, 128, 1]                 \n",
            " 16                  -1  1    147712  ultralytics.nn.modules.conv.Conv             [128, 128, 3, 2]              \n",
            " 17            [-1, 12]  1         0  ultralytics.nn.modules.conv.Concat           [1]                           \n",
            " 18                  -1  1    493056  ultralytics.nn.modules.block.C2f             [384, 256, 1]                 \n",
            " 19                  -1  1    590336  ultralytics.nn.modules.conv.Conv             [256, 256, 3, 2]              \n",
            " 20             [-1, 9]  1         0  ultralytics.nn.modules.conv.Concat           [1]                           \n",
            " 21                  -1  1   1969152  ultralytics.nn.modules.block.C2f             [768, 512, 1]                 \n",
            " 22        [15, 18, 21]  1   2116435  ultralytics.nn.modules.head.Detect           [1, [128, 256, 512]]          \n",
            "Model summary: 225 layers, 11,135,987 parameters, 11,135,971 gradients, 28.6 GFLOPs\n",
            "\n",
            "Transferred 349/355 items from pretrained weights\n",
            "\u001b[34m\u001b[1mTensorBoard: \u001b[0mStart with 'tensorboard --logdir runs/detect/train5', view at http://localhost:6006/\n",
            "Freezing layer 'model.22.dfl.conv.weight'\n",
            "\u001b[34m\u001b[1mAMP: \u001b[0mrunning Automatic Mixed Precision (AMP) checks...\n",
            "\u001b[34m\u001b[1mAMP: \u001b[0mchecks passed ✅\n"
          ]
        },
        {
          "output_type": "stream",
          "name": "stderr",
          "text": [
            "\u001b[34m\u001b[1mtrain: \u001b[0mScanning /content/Ultra/ds3/train/labels.cache... 346 images, 0 backgrounds, 0 corrupt: 100%|██████████| 346/346 [00:00<?, ?it/s]"
          ]
        },
        {
          "output_type": "stream",
          "name": "stdout",
          "text": [
            "\u001b[34m\u001b[1malbumentations: \u001b[0mBlur(p=0.01, blur_limit=(3, 7)), MedianBlur(p=0.01, blur_limit=(3, 7)), ToGray(p=0.01, num_output_channels=3, method='weighted_average'), CLAHE(p=0.01, clip_limit=(1.0, 4.0), tile_grid_size=(8, 8))\n"
          ]
        },
        {
          "output_type": "stream",
          "name": "stderr",
          "text": [
            "\n",
            "\u001b[34m\u001b[1mval: \u001b[0mScanning /content/Ultra/ds3/val/labels.cache... 87 images, 0 backgrounds, 0 corrupt: 100%|██████████| 87/87 [00:00<?, ?it/s]\n"
          ]
        },
        {
          "output_type": "stream",
          "name": "stdout",
          "text": [
            "Plotting labels to runs/detect/train5/labels.jpg... \n",
            "\u001b[34m\u001b[1moptimizer:\u001b[0m 'optimizer=auto' found, ignoring 'lr0=0.01' and 'momentum=0.937' and determining best 'optimizer', 'lr0' and 'momentum' automatically... \n",
            "\u001b[34m\u001b[1moptimizer:\u001b[0m AdamW(lr=0.002, momentum=0.9) with parameter groups 57 weight(decay=0.0), 64 weight(decay=0.0005), 63 bias(decay=0.0)\n",
            "\u001b[34m\u001b[1mTensorBoard: \u001b[0mmodel graph visualization added ✅\n",
            "Image sizes 640 train, 640 val\n",
            "Using 2 dataloader workers\n",
            "Logging results to \u001b[1mruns/detect/train5\u001b[0m\n",
            "Starting training for 20 epochs...\n",
            "\n",
            "      Epoch    GPU_mem   box_loss   cls_loss   dfl_loss  Instances       Size\n"
          ]
        },
        {
          "output_type": "stream",
          "name": "stderr",
          "text": [
            "       1/20      7.44G      1.901       9.48      1.627         55        640: 100%|██████████| 11/11 [00:07<00:00,  1.41it/s]\n",
            "                 Class     Images  Instances      Box(P          R      mAP50  mAP50-95): 100%|██████████| 2/2 [00:02<00:00,  1.13s/it]"
          ]
        },
        {
          "output_type": "stream",
          "name": "stdout",
          "text": [
            "                   all         87         87      0.256      0.264      0.189      0.104\n"
          ]
        },
        {
          "output_type": "stream",
          "name": "stderr",
          "text": [
            "\n"
          ]
        },
        {
          "output_type": "stream",
          "name": "stdout",
          "text": [
            "\n",
            "      Epoch    GPU_mem   box_loss   cls_loss   dfl_loss  Instances       Size\n"
          ]
        },
        {
          "output_type": "stream",
          "name": "stderr",
          "text": [
            "       2/20       7.3G      1.336      2.399       1.19         42        640: 100%|██████████| 11/11 [00:05<00:00,  1.88it/s]\n",
            "                 Class     Images  Instances      Box(P          R      mAP50  mAP50-95): 100%|██████████| 2/2 [00:01<00:00,  1.75it/s]"
          ]
        },
        {
          "output_type": "stream",
          "name": "stdout",
          "text": [
            "                   all         87         87      0.707      0.713      0.711      0.335\n"
          ]
        },
        {
          "output_type": "stream",
          "name": "stderr",
          "text": [
            "\n"
          ]
        },
        {
          "output_type": "stream",
          "name": "stdout",
          "text": [
            "\n",
            "      Epoch    GPU_mem   box_loss   cls_loss   dfl_loss  Instances       Size\n"
          ]
        },
        {
          "output_type": "stream",
          "name": "stderr",
          "text": [
            "       3/20      7.29G      1.459      1.371      1.256         48        640: 100%|██████████| 11/11 [00:07<00:00,  1.47it/s]\n",
            "                 Class     Images  Instances      Box(P          R      mAP50  mAP50-95): 100%|██████████| 2/2 [00:01<00:00,  1.63it/s]"
          ]
        },
        {
          "output_type": "stream",
          "name": "stdout",
          "text": [
            "                   all         87         87      0.681      0.713       0.65      0.322\n"
          ]
        },
        {
          "output_type": "stream",
          "name": "stderr",
          "text": [
            "\n"
          ]
        },
        {
          "output_type": "stream",
          "name": "stdout",
          "text": [
            "\n",
            "      Epoch    GPU_mem   box_loss   cls_loss   dfl_loss  Instances       Size\n"
          ]
        },
        {
          "output_type": "stream",
          "name": "stderr",
          "text": [
            "       4/20      7.29G      1.431      1.105      1.262         60        640: 100%|██████████| 11/11 [00:06<00:00,  1.74it/s]\n",
            "                 Class     Images  Instances      Box(P          R      mAP50  mAP50-95): 100%|██████████| 2/2 [00:01<00:00,  1.75it/s]"
          ]
        },
        {
          "output_type": "stream",
          "name": "stdout",
          "text": [
            "                   all         87         87      0.529      0.621       0.56      0.234\n"
          ]
        },
        {
          "output_type": "stream",
          "name": "stderr",
          "text": [
            "\n"
          ]
        },
        {
          "output_type": "stream",
          "name": "stdout",
          "text": [
            "\n",
            "      Epoch    GPU_mem   box_loss   cls_loss   dfl_loss  Instances       Size\n"
          ]
        },
        {
          "output_type": "stream",
          "name": "stderr",
          "text": [
            "       5/20      7.29G      1.495      1.207      1.337         53        640: 100%|██████████| 11/11 [00:05<00:00,  1.94it/s]\n",
            "                 Class     Images  Instances      Box(P          R      mAP50  mAP50-95): 100%|██████████| 2/2 [00:01<00:00,  1.65it/s]"
          ]
        },
        {
          "output_type": "stream",
          "name": "stdout",
          "text": [
            "                   all         87         87      0.227       0.69      0.199      0.104\n"
          ]
        },
        {
          "output_type": "stream",
          "name": "stderr",
          "text": [
            "\n"
          ]
        },
        {
          "output_type": "stream",
          "name": "stdout",
          "text": [
            "\n",
            "      Epoch    GPU_mem   box_loss   cls_loss   dfl_loss  Instances       Size\n"
          ]
        },
        {
          "output_type": "stream",
          "name": "stderr",
          "text": [
            "       6/20      7.68G      1.454      1.077      1.297         57        640: 100%|██████████| 11/11 [00:05<00:00,  1.91it/s]\n",
            "                 Class     Images  Instances      Box(P          R      mAP50  mAP50-95): 100%|██████████| 2/2 [00:01<00:00,  1.85it/s]"
          ]
        },
        {
          "output_type": "stream",
          "name": "stdout",
          "text": [
            "                   all         87         87     0.0171       0.54     0.0118    0.00566\n"
          ]
        },
        {
          "output_type": "stream",
          "name": "stderr",
          "text": [
            "\n"
          ]
        },
        {
          "output_type": "stream",
          "name": "stdout",
          "text": [
            "\n",
            "      Epoch    GPU_mem   box_loss   cls_loss   dfl_loss  Instances       Size\n"
          ]
        },
        {
          "output_type": "stream",
          "name": "stderr",
          "text": [
            "       7/20      7.29G      1.402      1.021      1.245         54        640: 100%|██████████| 11/11 [00:06<00:00,  1.78it/s]\n",
            "                 Class     Images  Instances      Box(P          R      mAP50  mAP50-95): 100%|██████████| 2/2 [00:01<00:00,  1.88it/s]"
          ]
        },
        {
          "output_type": "stream",
          "name": "stdout",
          "text": [
            "                   all         87         87      0.404      0.276      0.162     0.0756\n"
          ]
        },
        {
          "output_type": "stream",
          "name": "stderr",
          "text": [
            "\n"
          ]
        },
        {
          "output_type": "stream",
          "name": "stdout",
          "text": [
            "\n",
            "      Epoch    GPU_mem   box_loss   cls_loss   dfl_loss  Instances       Size\n"
          ]
        },
        {
          "output_type": "stream",
          "name": "stderr",
          "text": [
            "       8/20      7.67G      1.342      1.029      1.234         56        640: 100%|██████████| 11/11 [00:05<00:00,  1.92it/s]\n",
            "                 Class     Images  Instances      Box(P          R      mAP50  mAP50-95): 100%|██████████| 2/2 [00:01<00:00,  1.21it/s]"
          ]
        },
        {
          "output_type": "stream",
          "name": "stdout",
          "text": [
            "                   all         87         87     0.0599      0.448     0.0461     0.0241\n"
          ]
        },
        {
          "output_type": "stream",
          "name": "stderr",
          "text": [
            "\n"
          ]
        },
        {
          "output_type": "stream",
          "name": "stdout",
          "text": [
            "\n",
            "      Epoch    GPU_mem   box_loss   cls_loss   dfl_loss  Instances       Size\n"
          ]
        },
        {
          "output_type": "stream",
          "name": "stderr",
          "text": [
            "       9/20      7.29G      1.387     0.9772      1.273         48        640: 100%|██████████| 11/11 [00:05<00:00,  1.94it/s]\n",
            "                 Class     Images  Instances      Box(P          R      mAP50  mAP50-95): 100%|██████████| 2/2 [00:01<00:00,  1.84it/s]"
          ]
        },
        {
          "output_type": "stream",
          "name": "stdout",
          "text": [
            "                   all         87         87      0.108      0.506     0.0824     0.0395\n"
          ]
        },
        {
          "output_type": "stream",
          "name": "stderr",
          "text": [
            "\n"
          ]
        },
        {
          "output_type": "stream",
          "name": "stdout",
          "text": [
            "\n",
            "      Epoch    GPU_mem   box_loss   cls_loss   dfl_loss  Instances       Size\n"
          ]
        },
        {
          "output_type": "stream",
          "name": "stderr",
          "text": [
            "      10/20      7.67G      1.448     0.9577      1.282         49        640: 100%|██████████| 11/11 [00:06<00:00,  1.76it/s]\n",
            "                 Class     Images  Instances      Box(P          R      mAP50  mAP50-95): 100%|██████████| 2/2 [00:01<00:00,  1.72it/s]"
          ]
        },
        {
          "output_type": "stream",
          "name": "stdout",
          "text": [
            "                   all         87         87      0.872      0.759      0.853      0.442\n"
          ]
        },
        {
          "output_type": "stream",
          "name": "stderr",
          "text": [
            "\n"
          ]
        },
        {
          "output_type": "stream",
          "name": "stdout",
          "text": [
            "Closing dataloader mosaic\n",
            "\u001b[34m\u001b[1malbumentations: \u001b[0mBlur(p=0.01, blur_limit=(3, 7)), MedianBlur(p=0.01, blur_limit=(3, 7)), ToGray(p=0.01, num_output_channels=3, method='weighted_average'), CLAHE(p=0.01, clip_limit=(1.0, 4.0), tile_grid_size=(8, 8))\n",
            "\n",
            "      Epoch    GPU_mem   box_loss   cls_loss   dfl_loss  Instances       Size\n"
          ]
        },
        {
          "output_type": "stream",
          "name": "stderr",
          "text": [
            "      11/20      7.29G      1.387     0.9921      1.295         26        640: 100%|██████████| 11/11 [00:10<00:00,  1.03it/s]\n",
            "                 Class     Images  Instances      Box(P          R      mAP50  mAP50-95): 100%|██████████| 2/2 [00:01<00:00,  1.82it/s]"
          ]
        },
        {
          "output_type": "stream",
          "name": "stdout",
          "text": [
            "                   all         87         87     0.0109      0.874       0.01    0.00529\n"
          ]
        },
        {
          "output_type": "stream",
          "name": "stderr",
          "text": [
            "\n"
          ]
        },
        {
          "output_type": "stream",
          "name": "stdout",
          "text": [
            "\n",
            "      Epoch    GPU_mem   box_loss   cls_loss   dfl_loss  Instances       Size\n"
          ]
        },
        {
          "output_type": "stream",
          "name": "stderr",
          "text": [
            "      12/20      7.35G      1.362     0.9539      1.279         26        640: 100%|██████████| 11/11 [00:06<00:00,  1.73it/s]\n",
            "                 Class     Images  Instances      Box(P          R      mAP50  mAP50-95): 100%|██████████| 2/2 [00:01<00:00,  1.59it/s]"
          ]
        },
        {
          "output_type": "stream",
          "name": "stdout",
          "text": [
            "                   all         87         87      0.713      0.601      0.635      0.328\n"
          ]
        },
        {
          "output_type": "stream",
          "name": "stderr",
          "text": [
            "\n"
          ]
        },
        {
          "output_type": "stream",
          "name": "stdout",
          "text": [
            "\n",
            "      Epoch    GPU_mem   box_loss   cls_loss   dfl_loss  Instances       Size\n"
          ]
        },
        {
          "output_type": "stream",
          "name": "stderr",
          "text": [
            "      13/20      7.29G      1.318      0.927      1.296         25        640: 100%|██████████| 11/11 [00:05<00:00,  1.94it/s]\n",
            "                 Class     Images  Instances      Box(P          R      mAP50  mAP50-95): 100%|██████████| 2/2 [00:01<00:00,  1.70it/s]"
          ]
        },
        {
          "output_type": "stream",
          "name": "stdout",
          "text": [
            "                   all         87         87      0.279       0.69      0.288      0.144\n"
          ]
        },
        {
          "output_type": "stream",
          "name": "stderr",
          "text": [
            "\n"
          ]
        },
        {
          "output_type": "stream",
          "name": "stdout",
          "text": [
            "\n",
            "      Epoch    GPU_mem   box_loss   cls_loss   dfl_loss  Instances       Size\n"
          ]
        },
        {
          "output_type": "stream",
          "name": "stderr",
          "text": [
            "      14/20      7.35G      1.337     0.8527      1.246         26        640: 100%|██████████| 11/11 [00:05<00:00,  1.96it/s]\n",
            "                 Class     Images  Instances      Box(P          R      mAP50  mAP50-95): 100%|██████████| 2/2 [00:01<00:00,  1.93it/s]"
          ]
        },
        {
          "output_type": "stream",
          "name": "stdout",
          "text": [
            "                   all         87         87      0.842      0.759      0.803      0.381\n"
          ]
        },
        {
          "output_type": "stream",
          "name": "stderr",
          "text": [
            "\n"
          ]
        },
        {
          "output_type": "stream",
          "name": "stdout",
          "text": [
            "\n",
            "      Epoch    GPU_mem   box_loss   cls_loss   dfl_loss  Instances       Size\n"
          ]
        },
        {
          "output_type": "stream",
          "name": "stderr",
          "text": [
            "      15/20      7.29G      1.281     0.8164      1.258         26        640: 100%|██████████| 11/11 [00:05<00:00,  1.84it/s]\n",
            "                 Class     Images  Instances      Box(P          R      mAP50  mAP50-95): 100%|██████████| 2/2 [00:01<00:00,  1.73it/s]"
          ]
        },
        {
          "output_type": "stream",
          "name": "stdout",
          "text": [
            "                   all         87         87      0.898      0.747       0.85      0.428\n"
          ]
        },
        {
          "output_type": "stream",
          "name": "stderr",
          "text": [
            "\n"
          ]
        },
        {
          "output_type": "stream",
          "name": "stdout",
          "text": [
            "\n",
            "      Epoch    GPU_mem   box_loss   cls_loss   dfl_loss  Instances       Size\n"
          ]
        },
        {
          "output_type": "stream",
          "name": "stderr",
          "text": [
            "      16/20      7.68G      1.216     0.7635       1.23         26        640: 100%|██████████| 11/11 [00:05<00:00,  1.90it/s]\n",
            "                 Class     Images  Instances      Box(P          R      mAP50  mAP50-95): 100%|██████████| 2/2 [00:01<00:00,  1.47it/s]"
          ]
        },
        {
          "output_type": "stream",
          "name": "stdout",
          "text": [
            "                   all         87         87      0.929      0.805      0.878      0.438\n"
          ]
        },
        {
          "output_type": "stream",
          "name": "stderr",
          "text": [
            "\n"
          ]
        },
        {
          "output_type": "stream",
          "name": "stdout",
          "text": [
            "\n",
            "      Epoch    GPU_mem   box_loss   cls_loss   dfl_loss  Instances       Size\n"
          ]
        },
        {
          "output_type": "stream",
          "name": "stderr",
          "text": [
            "      17/20      7.29G      1.217     0.7314      1.204         25        640: 100%|██████████| 11/11 [00:05<00:00,  1.91it/s]\n",
            "                 Class     Images  Instances      Box(P          R      mAP50  mAP50-95): 100%|██████████| 2/2 [00:00<00:00,  2.23it/s]"
          ]
        },
        {
          "output_type": "stream",
          "name": "stdout",
          "text": [
            "                   all         87         87      0.878      0.829      0.901      0.483\n"
          ]
        },
        {
          "output_type": "stream",
          "name": "stderr",
          "text": [
            "\n"
          ]
        },
        {
          "output_type": "stream",
          "name": "stdout",
          "text": [
            "\n",
            "      Epoch    GPU_mem   box_loss   cls_loss   dfl_loss  Instances       Size\n"
          ]
        },
        {
          "output_type": "stream",
          "name": "stderr",
          "text": [
            "      18/20      7.68G      1.174      0.697      1.177         26        640: 100%|██████████| 11/11 [00:06<00:00,  1.81it/s]\n",
            "                 Class     Images  Instances      Box(P          R      mAP50  mAP50-95): 100%|██████████| 2/2 [00:01<00:00,  1.86it/s]"
          ]
        },
        {
          "output_type": "stream",
          "name": "stdout",
          "text": [
            "                   all         87         87      0.858      0.899      0.904      0.542\n"
          ]
        },
        {
          "output_type": "stream",
          "name": "stderr",
          "text": [
            "\n"
          ]
        },
        {
          "output_type": "stream",
          "name": "stdout",
          "text": [
            "\n",
            "      Epoch    GPU_mem   box_loss   cls_loss   dfl_loss  Instances       Size\n"
          ]
        },
        {
          "output_type": "stream",
          "name": "stderr",
          "text": [
            "      19/20      7.29G      1.163     0.6638      1.173         26        640: 100%|██████████| 11/11 [00:06<00:00,  1.75it/s]\n",
            "                 Class     Images  Instances      Box(P          R      mAP50  mAP50-95): 100%|██████████| 2/2 [00:01<00:00,  1.30it/s]"
          ]
        },
        {
          "output_type": "stream",
          "name": "stdout",
          "text": [
            "                   all         87         87      0.874      0.881      0.919      0.537\n"
          ]
        },
        {
          "output_type": "stream",
          "name": "stderr",
          "text": [
            "\n"
          ]
        },
        {
          "output_type": "stream",
          "name": "stdout",
          "text": [
            "\n",
            "      Epoch    GPU_mem   box_loss   cls_loss   dfl_loss  Instances       Size\n"
          ]
        },
        {
          "output_type": "stream",
          "name": "stderr",
          "text": [
            "      20/20      7.68G      1.132     0.6428      1.143         26        640: 100%|██████████| 11/11 [00:05<00:00,  1.91it/s]\n",
            "                 Class     Images  Instances      Box(P          R      mAP50  mAP50-95): 100%|██████████| 2/2 [00:00<00:00,  2.09it/s]"
          ]
        },
        {
          "output_type": "stream",
          "name": "stdout",
          "text": [
            "                   all         87         87      0.935      0.862      0.921      0.566\n"
          ]
        },
        {
          "output_type": "stream",
          "name": "stderr",
          "text": [
            "\n"
          ]
        },
        {
          "output_type": "stream",
          "name": "stdout",
          "text": [
            "\n",
            "20 epochs completed in 0.053 hours.\n",
            "Optimizer stripped from runs/detect/train5/weights/last.pt, 22.5MB\n",
            "Optimizer stripped from runs/detect/train5/weights/best.pt, 22.5MB\n",
            "\n",
            "Validating runs/detect/train5/weights/best.pt...\n",
            "Ultralytics 8.3.75 🚀 Python-3.11.11 torch-2.5.1+cu124 CUDA:0 (Tesla T4, 15095MiB)\n",
            "Model summary (fused): 168 layers, 11,125,971 parameters, 0 gradients, 28.4 GFLOPs\n"
          ]
        },
        {
          "output_type": "stream",
          "name": "stderr",
          "text": [
            "                 Class     Images  Instances      Box(P          R      mAP50  mAP50-95): 100%|██████████| 2/2 [00:01<00:00,  1.54it/s]\n"
          ]
        },
        {
          "output_type": "stream",
          "name": "stdout",
          "text": [
            "                   all         87         87      0.935      0.862      0.921      0.566\n",
            "Speed: 0.2ms preprocess, 3.7ms inference, 0.0ms loss, 1.8ms postprocess per image\n",
            "Results saved to \u001b[1mruns/detect/train5\u001b[0m\n",
            "\n",
            "image 1/1 /content/Ultra/imgs/4.jpg: 640x480 1 plate, 35.5ms\n",
            "Speed: 3.3ms preprocess, 35.5ms inference, 1.4ms postprocess per image at shape (1, 3, 640, 480)\n"
          ]
        },
        {
          "output_type": "error",
          "ename": "TypeError",
          "evalue": "unsupported operand type(s) for +=: 'DetMetrics' and 'list'",
          "traceback": [
            "\u001b[0;31m---------------------------------------------------------------------------\u001b[0m",
            "\u001b[0;31mTypeError\u001b[0m                                 Traceback (most recent call last)",
            "\u001b[0;32m<ipython-input-28-ed69357455eb>\u001b[0m in \u001b[0;36m<cell line: 0>\u001b[0;34m()\u001b[0m\n\u001b[1;32m     34\u001b[0m \u001b[0;32mfor\u001b[0m \u001b[0mimage_file\u001b[0m \u001b[0;32min\u001b[0m \u001b[0mimage_files\u001b[0m\u001b[0;34m:\u001b[0m\u001b[0;34m\u001b[0m\u001b[0;34m\u001b[0m\u001b[0m\n\u001b[1;32m     35\u001b[0m     \u001b[0mimage_path\u001b[0m \u001b[0;34m=\u001b[0m \u001b[0mos\u001b[0m\u001b[0;34m.\u001b[0m\u001b[0mpath\u001b[0m\u001b[0;34m.\u001b[0m\u001b[0mjoin\u001b[0m\u001b[0;34m(\u001b[0m\u001b[0mimage_folder\u001b[0m\u001b[0;34m,\u001b[0m \u001b[0mimage_file\u001b[0m\u001b[0;34m)\u001b[0m\u001b[0;34m\u001b[0m\u001b[0;34m\u001b[0m\u001b[0m\n\u001b[0;32m---> 36\u001b[0;31m     \u001b[0mresults\u001b[0m \u001b[0;34m+=\u001b[0m \u001b[0mmodel\u001b[0m\u001b[0;34m(\u001b[0m\u001b[0mimage_path\u001b[0m\u001b[0;34m)\u001b[0m\u001b[0;34m\u001b[0m\u001b[0;34m\u001b[0m\u001b[0m\n\u001b[0m\u001b[1;32m     37\u001b[0m \u001b[0;34m\u001b[0m\u001b[0m\n\u001b[1;32m     38\u001b[0m \u001b[0;32mif\u001b[0m \u001b[0mresults\u001b[0m\u001b[0;34m:\u001b[0m\u001b[0;34m\u001b[0m\u001b[0;34m\u001b[0m\u001b[0m\n",
            "\u001b[0;31mTypeError\u001b[0m: unsupported operand type(s) for +=: 'DetMetrics' and 'list'"
          ]
        }
      ]
    },
    {
      "source": [
        "from IPython import get_ipython\n",
        "from IPython.display import display\n",
        "# %%\n",
        "#!pip install ultralytics\n",
        "from ultralytics import YOLO\n",
        "import torch\n",
        "import os\n",
        "\n",
        "# Verificar se a GPU está disponível\n",
        "device = torch.device('cuda' if torch.cuda.is_available() else 'cpu')\n",
        "print(\"Using device:\", device)\n",
        "\n",
        "# Carregar o modelo pré-treinado SMALL\n",
        "model = YOLO(\"/content/Ultra/yolov8s.pt\")  # Assuming this is your trained model\n",
        "# Carregar o modelo pré-treinado nano com muitas coisas para detectar\n",
        "#model = YOLO(\"/content/Ultra/yolov8n.pt\")\n",
        "# Carregar o modelo pré-treinado nano com muitas coisas para detectar\n",
        "#model = YOLO(\"/content/Ultra/yolov7.pt\")\n",
        "\n",
        "# Especificar o caminho completo para o ficheiro data.yaml\n",
        "data_yaml_path = \"/content/Ultra/ds3/ds3.yaml\"\n",
        "\n",
        "# Treinar o modelo com configuração otimizada\n",
        "results = model.train(data=data_yaml_path, epochs=20, batch=32, imgsz=640, workers=8, device=device)\n",
        "\n",
        "# Executar inferência numa fotografia\n",
        "#results = model(\"/content/Ultra/3.jpg\")\n",
        "\n",
        "# Get a list of all image files in the 'imgs' folder\n",
        "image_folder = \"/content/Ultra/imgs\"  # Replace with the actual path to your imgs folder\n",
        "image_files = [f for f in os.listdir(image_folder) if os.path.isfile(os.path.join(image_folder, f))]\n",
        "\n",
        "# Create an empty list to store all inference results\n",
        "all_results = []\n",
        "\n",
        "# Loop through each image file and perform inference\n",
        "for image_file in image_files:\n",
        "    image_path = os.path.join(image_folder, image_file)\n",
        "    results = model(image_path)  # Get results for the current image\n",
        "    all_results.extend(results)  # Add the results to the list\n",
        "\n",
        "# Now, 'all_results' contains a list of Results objects for all images\n",
        "\n",
        "if all_results:\n",
        "  for result in all_results:\n",
        "    print(result.boxes)\n",
        "    display(result)  # Assuming .imgs[0] holds the image data\n",
        "    # Access the image data using .orig_img instead of .img\n",
        "    print(f\"/n/n/n \")\n",
        "    display(result.orig_img)\n",
        "    print(result.save_dir)  # Print the directory where the result is saved\n",
        "    result.save(filename=os.path.join('results', f'result_{image_file}'))  # Corrected\n",
        "    result.show()\n",
        "else:\n",
        "    print(\"No results found.\")"
      ],
      "cell_type": "code",
      "metadata": {
        "id": "Zt2qoUDqcNFO"
      },
      "execution_count": null,
      "outputs": []
    },
    {
      "source": [
        "!apt-get install unrar"
      ],
      "cell_type": "code",
      "metadata": {
        "colab": {
          "base_uri": "https://localhost:8080/"
        },
        "id": "9om2JiIlFK-R",
        "outputId": "3f33c958-5071-4b04-97d9-76f7d8484fc9"
      },
      "execution_count": null,
      "outputs": [
        {
          "output_type": "stream",
          "name": "stdout",
          "text": [
            "Reading package lists... Done\n",
            "Building dependency tree... Done\n",
            "Reading state information... Done\n",
            "unrar is already the newest version (1:6.1.5-1).\n",
            "0 upgraded, 0 newly installed, 0 to remove and 20 not upgraded.\n"
          ]
        }
      ]
    },
    {
      "source": [
        "!unrar x /content/ds3v2.rar /content/Ultra"
      ],
      "cell_type": "code",
      "metadata": {
        "colab": {
          "base_uri": "https://localhost:8080/"
        },
        "id": "9fMA-ESxFVKa",
        "outputId": "46ecae1b-f632-4e04-b866-a39e9b45da7d"
      },
      "execution_count": null,
      "outputs": [
        {
          "output_type": "stream",
          "name": "stdout",
          "text": [
            "\n",
            "UNRAR 6.11 beta 1 freeware      Copyright (c) 1993-2022 Alexander Roshal\n",
            "\n",
            "\n",
            "Extracting from /content/ds3v2.rar\n",
            "\n",
            "Creating    /content/Ultra/ds3                                        OK\n",
            "Extracting  /content/Ultra/ds3/data.yaml                                 \b\b\b\b  0%\b\b\b\b\b  OK \n",
            "Extracting  /content/Ultra/ds3/ds3.yaml                                  \b\b\b\b  0%\b\b\b\b\b  OK \n",
            "Extracting  /content/Ultra/ds3/ds3v2.py                                  \b\b\b\b  0%\b\b\b\b\b  OK \n",
            "Creating    /content/Ultra/ds3/train                                  OK\n",
            "Creating    /content/Ultra/ds3/train/images                           OK\n",
            "Extracting  /content/Ultra/ds3/train/images/Cars0.png                    \b\b\b\b  0%\b\b\b\b\b  OK \n",
            "Extracting  /content/Ultra/ds3/train/images/Cars1.png                    \b\b\b\b  0%\b\b\b\b\b  OK \n",
            "Extracting  /content/Ultra/ds3/train/images/Cars10.png                   \b\b\b\b  0%\b\b\b\b\b  OK \n",
            "Extracting  /content/Ultra/ds3/train/images/Cars100.png                  \b\b\b\b  0%\b\b\b\b\b  OK \n",
            "Extracting  /content/Ultra/ds3/train/images/Cars101.png                  \b\b\b\b  1%\b\b\b\b\b  OK \n",
            "Extracting  /content/Ultra/ds3/train/images/Cars102.png                  \b\b\b\b  1%\b\b\b\b\b  OK \n",
            "Extracting  /content/Ultra/ds3/train/images/Cars103.png                  \b\b\b\b  1%\b\b\b\b\b  OK \n",
            "Extracting  /content/Ultra/ds3/train/images/Cars104.png                  \b\b\b\b  1%\b\b\b\b\b  OK \n",
            "Extracting  /content/Ultra/ds3/train/images/Cars105.png                  \b\b\b\b  1%\b\b\b\b\b  OK \n",
            "Extracting  /content/Ultra/ds3/train/images/Cars106.png                  \b\b\b\b  2%\b\b\b\b\b  OK \n",
            "Extracting  /content/Ultra/ds3/train/images/Cars107.png                  \b\b\b\b  2%\b\b\b\b\b  OK \n",
            "Extracting  /content/Ultra/ds3/train/images/Cars108.png                  \b\b\b\b  2%\b\b\b\b\b  OK \n",
            "Extracting  /content/Ultra/ds3/train/images/Cars11.png                   \b\b\b\b  2%\b\b\b\b\b  OK \n",
            "Extracting  /content/Ultra/ds3/train/images/Cars111.png                  \b\b\b\b  2%\b\b\b\b\b  OK \n",
            "Extracting  /content/Ultra/ds3/train/images/Cars112.png                  \b\b\b\b  2%\b\b\b\b\b  OK \n",
            "Extracting  /content/Ultra/ds3/train/images/Cars113.png                  \b\b\b\b  3%\b\b\b\b\b  OK \n",
            "Extracting  /content/Ultra/ds3/train/images/Cars114.png                  \b\b\b\b  3%\b\b\b\b\b  OK \n",
            "Extracting  /content/Ultra/ds3/train/images/Cars115.png                  \b\b\b\b  3%\b\b\b\b\b  OK \n",
            "Extracting  /content/Ultra/ds3/train/images/Cars116.png                  \b\b\b\b  3%\b\b\b\b\b  OK \n",
            "Extracting  /content/Ultra/ds3/train/images/Cars117.png                  \b\b\b\b  4%\b\b\b\b\b  OK \n",
            "Extracting  /content/Ultra/ds3/train/images/Cars118.png                  \b\b\b\b  4%\b\b\b\b\b  OK \n",
            "Extracting  /content/Ultra/ds3/train/images/Cars121.png                  \b\b\b\b  4%\b\b\b\b\b  OK \n",
            "Extracting  /content/Ultra/ds3/train/images/Cars122.png                  \b\b\b\b  4%\b\b\b\b\b  OK \n",
            "Extracting  /content/Ultra/ds3/train/images/Cars123.png                  \b\b\b\b  5%\b\b\b\b\b  OK \n",
            "Extracting  /content/Ultra/ds3/train/images/Cars124.png                  \b\b\b\b  5%\b\b\b\b\b  OK \n",
            "Extracting  /content/Ultra/ds3/train/images/Cars125.png                  \b\b\b\b  5%\b\b\b\b\b  OK \n",
            "Extracting  /content/Ultra/ds3/train/images/Cars126.png                  \b\b\b\b  5%\b\b\b\b\b  OK \n",
            "Extracting  /content/Ultra/ds3/train/images/Cars128.png                  \b\b\b\b  6%\b\b\b\b\b  OK \n",
            "Extracting  /content/Ultra/ds3/train/images/Cars129.png                  \b\b\b\b  6%\b\b\b\b\b  OK \n",
            "Extracting  /content/Ultra/ds3/train/images/Cars13.png                   \b\b\b\b  6%\b\b\b\b\b  OK \n",
            "Extracting  /content/Ultra/ds3/train/images/Cars130.png                  \b\b\b\b  6%\b\b\b\b\b  OK \n",
            "Extracting  /content/Ultra/ds3/train/images/Cars131.png                  \b\b\b\b  6%\b\b\b\b\b  OK \n",
            "Extracting  /content/Ultra/ds3/train/images/Cars132.png                  \b\b\b\b  7%\b\b\b\b\b  OK \n",
            "Extracting  /content/Ultra/ds3/train/images/Cars133.png                  \b\b\b\b  7%\b\b\b\b\b  OK \n",
            "Extracting  /content/Ultra/ds3/train/images/Cars134.png                  \b\b\b\b  7%\b\b\b\b\b  OK \n",
            "Extracting  /content/Ultra/ds3/train/images/Cars136.png                  \b\b\b\b  7%\b\b\b\b\b  OK \n",
            "Extracting  /content/Ultra/ds3/train/images/Cars137.png                  \b\b\b\b  8%\b\b\b\b\b  OK \n",
            "Extracting  /content/Ultra/ds3/train/images/Cars138.png                  \b\b\b\b  8%\b\b\b\b\b  OK \n",
            "Extracting  /content/Ultra/ds3/train/images/Cars139.png                  \b\b\b\b  8%\b\b\b\b\b  OK \n",
            "Extracting  /content/Ultra/ds3/train/images/Cars14.png                   \b\b\b\b  8%\b\b\b\b\b  OK \n",
            "Extracting  /content/Ultra/ds3/train/images/Cars140.png                  \b\b\b\b  9%\b\b\b\b\b  OK \n",
            "Extracting  /content/Ultra/ds3/train/images/Cars141.png                  \b\b\b\b  9%\b\b\b\b\b  OK \n",
            "Extracting  /content/Ultra/ds3/train/images/Cars142.png                  \b\b\b\b  9%\b\b\b\b\b  OK \n",
            "Extracting  /content/Ultra/ds3/train/images/Cars143.png                  \b\b\b\b  9%\b\b\b\b\b  OK \n",
            "Extracting  /content/Ultra/ds3/train/images/Cars144.png                  \b\b\b\b  9%\b\b\b\b\b  OK \n",
            "Extracting  /content/Ultra/ds3/train/images/Cars145.png                  \b\b\b\b  9%\b\b\b\b\b  OK \n",
            "Extracting  /content/Ultra/ds3/train/images/Cars146.png                  \b\b\b\b 10%\b\b\b\b\b  OK \n",
            "Extracting  /content/Ultra/ds3/train/images/Cars147.png                  \b\b\b\b 10%\b\b\b\b\b  OK \n",
            "Extracting  /content/Ultra/ds3/train/images/Cars148.png                  \b\b\b\b 10%\b\b\b\b\b  OK \n",
            "Extracting  /content/Ultra/ds3/train/images/Cars149.png                  \b\b\b\b 10%\b\b\b\b\b  OK \n",
            "Extracting  /content/Ultra/ds3/train/images/Cars15.png                   \b\b\b\b 11%\b\b\b\b\b  OK \n",
            "Extracting  /content/Ultra/ds3/train/images/Cars150.png                  \b\b\b\b 11%\b\b\b\b\b  OK \n",
            "Extracting  /content/Ultra/ds3/train/images/Cars151.png                  \b\b\b\b 11%\b\b\b\b\b  OK \n",
            "Extracting  /content/Ultra/ds3/train/images/Cars152.png                  \b\b\b\b 11%\b\b\b\b\b  OK \n",
            "Extracting  /content/Ultra/ds3/train/images/Cars153.png                  \b\b\b\b 11%\b\b\b\b\b  OK \n",
            "Extracting  /content/Ultra/ds3/train/images/Cars154.png                  \b\b\b\b 12%\b\b\b\b\b  OK \n",
            "Extracting  /content/Ultra/ds3/train/images/Cars155.png                  \b\b\b\b 12%\b\b\b\b\b  OK \n",
            "Extracting  /content/Ultra/ds3/train/images/Cars158.png                  \b\b\b\b 12%\b\b\b\b\b  OK \n",
            "Extracting  /content/Ultra/ds3/train/images/Cars16.png                   \b\b\b\b 12%\b\b\b\b\b  OK \n",
            "Extracting  /content/Ultra/ds3/train/images/Cars160.png                  \b\b\b\b 12%\b\b\b\b\b  OK \n",
            "Extracting  /content/Ultra/ds3/train/images/Cars163.png                  \b\b\b\b 13%\b\b\b\b\b  OK \n",
            "Extracting  /content/Ultra/ds3/train/images/Cars167.png                  \b\b\b\b 13%\b\b\b\b\b  OK \n",
            "Extracting  /content/Ultra/ds3/train/images/Cars168.png                  \b\b\b\b 13%\b\b\b\b\b  OK \n",
            "Extracting  /content/Ultra/ds3/train/images/Cars169.png                  \b\b\b\b 13%\b\b\b\b\b  OK \n",
            "Extracting  /content/Ultra/ds3/train/images/Cars17.png                   \b\b\b\b 14%\b\b\b\b\b  OK \n",
            "Extracting  /content/Ultra/ds3/train/images/Cars170.png                  \b\b\b\b 14%\b\b\b\b\b  OK \n",
            "Extracting  /content/Ultra/ds3/train/images/Cars171.png                  \b\b\b\b 14%\b\b\b\b\b  OK \n",
            "Extracting  /content/Ultra/ds3/train/images/Cars172.png                  \b\b\b\b 14%\b\b\b\b\b  OK \n",
            "Extracting  /content/Ultra/ds3/train/images/Cars173.png                  \b\b\b\b 14%\b\b\b\b\b  OK \n",
            "Extracting  /content/Ultra/ds3/train/images/Cars175.png                  \b\b\b\b 15%\b\b\b\b\b  OK \n",
            "Extracting  /content/Ultra/ds3/train/images/Cars176.png                  \b\b\b\b 15%\b\b\b\b\b  OK \n",
            "Extracting  /content/Ultra/ds3/train/images/Cars177.png                  \b\b\b\b 15%\b\b\b\b\b  OK \n",
            "Extracting  /content/Ultra/ds3/train/images/Cars18.png                   \b\b\b\b 15%\b\b\b\b\b  OK \n",
            "Extracting  /content/Ultra/ds3/train/images/Cars180.png                  \b\b\b\b 16%\b\b\b\b\b  OK \n",
            "Extracting  /content/Ultra/ds3/train/images/Cars181.png                  \b\b\b\b 16%\b\b\b\b\b  OK \n",
            "Extracting  /content/Ultra/ds3/train/images/Cars182.png                  \b\b\b\b 16%\b\b\b\b\b  OK \n",
            "Extracting  /content/Ultra/ds3/train/images/Cars184.png                  \b\b\b\b 16%\b\b\b\b\b  OK \n",
            "Extracting  /content/Ultra/ds3/train/images/Cars185.png                  \b\b\b\b 17%\b\b\b\b\b  OK \n",
            "Extracting  /content/Ultra/ds3/train/images/Cars186.png                  \b\b\b\b 17%\b\b\b\b\b  OK \n",
            "Extracting  /content/Ultra/ds3/train/images/Cars187.png                  \b\b\b\b 17%\b\b\b\b\b  OK \n",
            "Extracting  /content/Ultra/ds3/train/images/Cars188.png                  \b\b\b\b 17%\b\b\b\b\b  OK \n",
            "Extracting  /content/Ultra/ds3/train/images/Cars189.png                  \b\b\b\b 17%\b\b\b\b\b  OK \n",
            "Extracting  /content/Ultra/ds3/train/images/Cars19.png                   \b\b\b\b 18%\b\b\b\b\b  OK \n",
            "Extracting  /content/Ultra/ds3/train/images/Cars190.png                  \b\b\b\b 18%\b\b\b\b\b  OK \n",
            "Extracting  /content/Ultra/ds3/train/images/Cars191.png                  \b\b\b\b 18%\b\b\b\b\b  OK \n",
            "Extracting  /content/Ultra/ds3/train/images/Cars192.png                  \b\b\b\b 18%\b\b\b\b\b  OK \n",
            "Extracting  /content/Ultra/ds3/train/images/Cars193.png                  \b\b\b\b 19%\b\b\b\b\b  OK \n",
            "Extracting  /content/Ultra/ds3/train/images/Cars195.png                  \b\b\b\b 19%\b\b\b\b\b  OK \n",
            "Extracting  /content/Ultra/ds3/train/images/Cars196.png                  \b\b\b\b 19%\b\b\b\b\b  OK \n",
            "Extracting  /content/Ultra/ds3/train/images/Cars197.png                  \b\b\b\b 19%\b\b\b\b\b  OK \n",
            "Extracting  /content/Ultra/ds3/train/images/Cars199.png                  \b\b\b\b 19%\b\b\b\b\b  OK \n",
            "Extracting  /content/Ultra/ds3/train/images/Cars20.png                   \b\b\b\b 20%\b\b\b\b\b  OK \n",
            "Extracting  /content/Ultra/ds3/train/images/Cars200.png                  \b\b\b\b 20%\b\b\b\b\b  OK \n",
            "Extracting  /content/Ultra/ds3/train/images/Cars201.png                  \b\b\b\b 20%\b\b\b\b\b  OK \n",
            "Extracting  /content/Ultra/ds3/train/images/Cars203.png                  \b\b\b\b 20%\b\b\b\b\b  OK \n",
            "Extracting  /content/Ultra/ds3/train/images/Cars204.png                  \b\b\b\b 20%\b\b\b\b\b  OK \n",
            "Extracting  /content/Ultra/ds3/train/images/Cars205.png                  \b\b\b\b 21%\b\b\b\b\b  OK \n",
            "Extracting  /content/Ultra/ds3/train/images/Cars206.png                  \b\b\b\b 21%\b\b\b\b\b  OK \n",
            "Extracting  /content/Ultra/ds3/train/images/Cars207.png                  \b\b\b\b 21%\b\b\b\b\b  OK \n",
            "Extracting  /content/Ultra/ds3/train/images/Cars209.png                  \b\b\b\b 21%\b\b\b\b\b  OK \n",
            "Extracting  /content/Ultra/ds3/train/images/Cars211.png                  \b\b\b\b 22%\b\b\b\b\b  OK \n",
            "Extracting  /content/Ultra/ds3/train/images/Cars212.png                  \b\b\b\b 22%\b\b\b\b\b  OK \n",
            "Extracting  /content/Ultra/ds3/train/images/Cars213.png                  \b\b\b\b 22%\b\b\b\b\b  OK \n",
            "Extracting  /content/Ultra/ds3/train/images/Cars214.png                  \b\b\b\b 23%\b\b\b\b\b  OK \n",
            "Extracting  /content/Ultra/ds3/train/images/Cars215.png                  \b\b\b\b 23%\b\b\b\b\b  OK \n",
            "Extracting  /content/Ultra/ds3/train/images/Cars216.png                  \b\b\b\b 23%\b\b\b\b\b  OK \n",
            "Extracting  /content/Ultra/ds3/train/images/Cars217.png                  \b\b\b\b 23%\b\b\b\b\b  OK \n",
            "Extracting  /content/Ultra/ds3/train/images/Cars219.png                  \b\b\b\b 23%\b\b\b\b\b  OK \n",
            "Extracting  /content/Ultra/ds3/train/images/Cars22.png                   \b\b\b\b 23%\b\b\b\b\b  OK \n",
            "Extracting  /content/Ultra/ds3/train/images/Cars220.png                  \b\b\b\b 24%\b\b\b\b\b  OK \n",
            "Extracting  /content/Ultra/ds3/train/images/Cars221.png                  \b\b\b\b 24%\b\b\b\b\b  OK \n",
            "Extracting  /content/Ultra/ds3/train/images/Cars222.png                  \b\b\b\b 24%\b\b\b\b\b  OK \n",
            "Extracting  /content/Ultra/ds3/train/images/Cars223.png                  \b\b\b\b 24%\b\b\b\b\b  OK \n",
            "Extracting  /content/Ultra/ds3/train/images/Cars224.png                  \b\b\b\b 24%\b\b\b\b\b  OK \n",
            "Extracting  /content/Ultra/ds3/train/images/Cars225.png                  \b\b\b\b 25%\b\b\b\b\b  OK \n",
            "Extracting  /content/Ultra/ds3/train/images/Cars226.png                  \b\b\b\b 25%\b\b\b\b\b  OK \n",
            "Extracting  /content/Ultra/ds3/train/images/Cars227.png                  \b\b\b\b 25%\b\b\b\b\b  OK \n",
            "Extracting  /content/Ultra/ds3/train/images/Cars228.png                  \b\b\b\b 25%\b\b\b\b\b  OK \n",
            "Extracting  /content/Ultra/ds3/train/images/Cars23.png                   \b\b\b\b 26%\b\b\b\b\b  OK \n",
            "Extracting  /content/Ultra/ds3/train/images/Cars231.png                  \b\b\b\b 26%\b\b\b\b\b  OK \n",
            "Extracting  /content/Ultra/ds3/train/images/Cars232.png                  \b\b\b\b 26%\b\b\b\b\b  OK \n",
            "Extracting  /content/Ultra/ds3/train/images/Cars233.png                  \b\b\b\b 26%\b\b\b\b\b  OK \n",
            "Extracting  /content/Ultra/ds3/train/images/Cars234.png                  \b\b\b\b 27%\b\b\b\b\b  OK \n",
            "Extracting  /content/Ultra/ds3/train/images/Cars235.png                  \b\b\b\b 27%\b\b\b\b\b  OK \n",
            "Extracting  /content/Ultra/ds3/train/images/Cars236.png                  \b\b\b\b 27%\b\b\b\b\b  OK \n",
            "Extracting  /content/Ultra/ds3/train/images/Cars237.png                  \b\b\b\b 27%\b\b\b\b\b  OK \n",
            "Extracting  /content/Ultra/ds3/train/images/Cars238.png                  \b\b\b\b 27%\b\b\b\b\b  OK \n",
            "Extracting  /content/Ultra/ds3/train/images/Cars239.png                  \b\b\b\b 27%\b\b\b\b\b  OK \n",
            "Extracting  /content/Ultra/ds3/train/images/Cars24.png                   \b\b\b\b 28%\b\b\b\b\b  OK \n",
            "Extracting  /content/Ultra/ds3/train/images/Cars240.png                  \b\b\b\b 28%\b\b\b\b\b  OK \n",
            "Extracting  /content/Ultra/ds3/train/images/Cars241.png                  \b\b\b\b 28%\b\b\b\b\b  OK \n",
            "Extracting  /content/Ultra/ds3/train/images/Cars243.png                  \b\b\b\b 28%\b\b\b\b\b  OK \n",
            "Extracting  /content/Ultra/ds3/train/images/Cars244.png                  \b\b\b\b 29%\b\b\b\b\b  OK \n",
            "Extracting  /content/Ultra/ds3/train/images/Cars245.png                  \b\b\b\b 29%\b\b\b\b\b  OK \n",
            "Extracting  /content/Ultra/ds3/train/images/Cars247.png                  \b\b\b\b 29%\b\b\b\b\b  OK \n",
            "Extracting  /content/Ultra/ds3/train/images/Cars248.png                  \b\b\b\b 29%\b\b\b\b\b  OK \n",
            "Extracting  /content/Ultra/ds3/train/images/Cars249.png                  \b\b\b\b 30%\b\b\b\b\b  OK \n",
            "Extracting  /content/Ultra/ds3/train/images/Cars250.png                  \b\b\b\b 30%\b\b\b\b\b  OK \n",
            "Extracting  /content/Ultra/ds3/train/images/Cars251.png                  \b\b\b\b 30%\b\b\b\b\b  OK \n",
            "Extracting  /content/Ultra/ds3/train/images/Cars252.png                  \b\b\b\b 30%\b\b\b\b\b  OK \n",
            "Extracting  /content/Ultra/ds3/train/images/Cars256.png                  \b\b\b\b 31%\b\b\b\b\b  OK \n",
            "Extracting  /content/Ultra/ds3/train/images/Cars258.png                  \b\b\b\b 31%\b\b\b\b\b  OK \n",
            "Extracting  /content/Ultra/ds3/train/images/Cars259.png                  \b\b\b\b 31%\b\b\b\b\b  OK \n",
            "Extracting  /content/Ultra/ds3/train/images/Cars26.png                   \b\b\b\b 31%\b\b\b\b\b  OK \n",
            "Extracting  /content/Ultra/ds3/train/images/Cars261.png                  \b\b\b\b 31%\b\b\b\b\b  OK \n",
            "Extracting  /content/Ultra/ds3/train/images/Cars262.png                  \b\b\b\b 32%\b\b\b\b\b  OK \n",
            "Extracting  /content/Ultra/ds3/train/images/Cars263.png                  \b\b\b\b 32%\b\b\b\b\b  OK \n",
            "Extracting  /content/Ultra/ds3/train/images/Cars264.png                  \b\b\b\b 32%\b\b\b\b\b  OK \n",
            "Extracting  /content/Ultra/ds3/train/images/Cars267.png                  \b\b\b\b 32%\b\b\b\b\b  OK \n",
            "Extracting  /content/Ultra/ds3/train/images/Cars268.png                  \b\b\b\b 32%\b\b\b\b\b  OK \n",
            "Extracting  /content/Ultra/ds3/train/images/Cars269.png                  \b\b\b\b 33%\b\b\b\b\b  OK \n",
            "Extracting  /content/Ultra/ds3/train/images/Cars27.png                   \b\b\b\b 33%\b\b\b\b\b  OK \n",
            "Extracting  /content/Ultra/ds3/train/images/Cars270.png                  \b\b\b\b 33%\b\b\b\b\b  OK \n",
            "Extracting  /content/Ultra/ds3/train/images/Cars271.png                  \b\b\b\b 33%\b\b\b\b\b  OK \n",
            "Extracting  /content/Ultra/ds3/train/images/Cars272.png                  \b\b\b\b 33%\b\b\b\b\b  OK \n",
            "Extracting  /content/Ultra/ds3/train/images/Cars274.png                  \b\b\b\b 34%\b\b\b\b\b  OK \n",
            "Extracting  /content/Ultra/ds3/train/images/Cars275.png                  \b\b\b\b 34%\b\b\b\b\b  OK \n",
            "Extracting  /content/Ultra/ds3/train/images/Cars277.png                  \b\b\b\b 34%\b\b\b\b\b  OK \n",
            "Extracting  /content/Ultra/ds3/train/images/Cars278.png                  \b\b\b\b 34%\b\b\b\b\b  OK \n",
            "Extracting  /content/Ultra/ds3/train/images/Cars279.png                  \b\b\b\b 35%\b\b\b\b\b  OK \n",
            "Extracting  /content/Ultra/ds3/train/images/Cars280.png                  \b\b\b\b 35%\b\b\b\b\b  OK \n",
            "Extracting  /content/Ultra/ds3/train/images/Cars282.png                  \b\b\b\b 35%\b\b\b\b\b  OK \n",
            "Extracting  /content/Ultra/ds3/train/images/Cars283.png                  \b\b\b\b 35%\b\b\b\b\b  OK \n",
            "Extracting  /content/Ultra/ds3/train/images/Cars285.png                  \b\b\b\b 36%\b\b\b\b\b  OK \n",
            "Extracting  /content/Ultra/ds3/train/images/Cars286.png                  \b\b\b\b 36%\b\b\b\b\b  OK \n",
            "Extracting  /content/Ultra/ds3/train/images/Cars288.png                  \b\b\b\b 36%\b\b\b\b\b  OK \n",
            "Extracting  /content/Ultra/ds3/train/images/Cars289.png                  \b\b\b\b 36%\b\b\b\b\b  OK \n",
            "Extracting  /content/Ultra/ds3/train/images/Cars29.png                   \b\b\b\b 37%\b\b\b\b\b  OK \n",
            "Extracting  /content/Ultra/ds3/train/images/Cars290.png                  \b\b\b\b 37%\b\b\b\b\b  OK \n",
            "Extracting  /content/Ultra/ds3/train/images/Cars291.png                  \b\b\b\b 37%\b\b\b\b\b  OK \n",
            "Extracting  /content/Ultra/ds3/train/images/Cars292.png                  \b\b\b\b 37%\b\b\b\b\b  OK \n",
            "Extracting  /content/Ultra/ds3/train/images/Cars293.png                  \b\b\b\b 38%\b\b\b\b\b  OK \n",
            "Extracting  /content/Ultra/ds3/train/images/Cars294.png                  \b\b\b\b 38%\b\b\b\b\b  OK \n",
            "Extracting  /content/Ultra/ds3/train/images/Cars295.png                  \b\b\b\b 38%\b\b\b\b\b  OK \n",
            "Extracting  /content/Ultra/ds3/train/images/Cars296.png                  \b\b\b\b 38%\b\b\b\b\b  OK \n",
            "Extracting  /content/Ultra/ds3/train/images/Cars297.png                  \b\b\b\b 39%\b\b\b\b\b  OK \n",
            "Extracting  /content/Ultra/ds3/train/images/Cars298.png                  \b\b\b\b 39%\b\b\b\b\b  OK \n",
            "Extracting  /content/Ultra/ds3/train/images/Cars299.png                  \b\b\b\b 39%\b\b\b\b\b  OK \n",
            "Extracting  /content/Ultra/ds3/train/images/Cars3.png                    \b\b\b\b 39%\b\b\b\b\b  OK \n",
            "Extracting  /content/Ultra/ds3/train/images/Cars30.png                   \b\b\b\b 40%\b\b\b\b\b  OK \n",
            "Extracting  /content/Ultra/ds3/train/images/Cars300.png                  \b\b\b\b 40%\b\b\b\b\b  OK \n",
            "Extracting  /content/Ultra/ds3/train/images/Cars301.png                  \b\b\b\b 40%\b\b\b\b\b  OK \n",
            "Extracting  /content/Ultra/ds3/train/images/Cars302.png                  \b\b\b\b 40%\b\b\b\b\b  OK \n",
            "Extracting  /content/Ultra/ds3/train/images/Cars303.png                  \b\b\b\b 40%\b\b\b\b\b  OK \n",
            "Extracting  /content/Ultra/ds3/train/images/Cars304.png                  \b\b\b\b 41%\b\b\b\b\b  OK \n",
            "Extracting  /content/Ultra/ds3/train/images/Cars305.png                  \b\b\b\b 41%\b\b\b\b\b  OK \n",
            "Extracting  /content/Ultra/ds3/train/images/Cars306.png                  \b\b\b\b 41%\b\b\b\b\b  OK \n",
            "Extracting  /content/Ultra/ds3/train/images/Cars308.png                  \b\b\b\b 41%\b\b\b\b\b  OK \n",
            "Extracting  /content/Ultra/ds3/train/images/Cars309.png                  \b\b\b\b 42%\b\b\b\b\b  OK \n",
            "Extracting  /content/Ultra/ds3/train/images/Cars31.png                   \b\b\b\b 42%\b\b\b\b\b  OK \n",
            "Extracting  /content/Ultra/ds3/train/images/Cars310.png                  \b\b\b\b 42%\b\b\b\b\b  OK \n",
            "Extracting  /content/Ultra/ds3/train/images/Cars312.png                  \b\b\b\b 42%\b\b\b\b\b  OK \n",
            "Extracting  /content/Ultra/ds3/train/images/Cars313.png                  \b\b\b\b 43%\b\b\b\b\b  OK \n",
            "Extracting  /content/Ultra/ds3/train/images/Cars314.png                  \b\b\b\b 43%\b\b\b\b\b  OK \n",
            "Extracting  /content/Ultra/ds3/train/images/Cars315.png                  \b\b\b\b 43%\b\b\b\b\b  OK \n",
            "Extracting  /content/Ultra/ds3/train/images/Cars316.png                  \b\b\b\b 43%\b\b\b\b\b  OK \n",
            "Extracting  /content/Ultra/ds3/train/images/Cars317.png                  \b\b\b\b 44%\b\b\b\b\b  OK \n",
            "Extracting  /content/Ultra/ds3/train/images/Cars318.png                  \b\b\b\b 44%\b\b\b\b\b  OK \n",
            "Extracting  /content/Ultra/ds3/train/images/Cars321.png                  \b\b\b\b 44%\b\b\b\b\b  OK \n",
            "Extracting  /content/Ultra/ds3/train/images/Cars322.png                  \b\b\b\b 44%\b\b\b\b\b  OK \n",
            "Extracting  /content/Ultra/ds3/train/images/Cars324.png                  \b\b\b\b 45%\b\b\b\b\b  OK \n",
            "Extracting  /content/Ultra/ds3/train/images/Cars325.png                  \b\b\b\b 45%\b\b\b\b\b  OK \n",
            "Extracting  /content/Ultra/ds3/train/images/Cars326.png                  \b\b\b\b 45%\b\b\b\b\b  OK \n",
            "Extracting  /content/Ultra/ds3/train/images/Cars327.png                  \b\b\b\b 45%\b\b\b\b\b  OK \n",
            "Extracting  /content/Ultra/ds3/train/images/Cars329.png                  \b\b\b\b 46%\b\b\b\b\b  OK \n",
            "Extracting  /content/Ultra/ds3/train/images/Cars330.png                  \b\b\b\b 46%\b\b\b\b\b  OK \n",
            "Extracting  /content/Ultra/ds3/train/images/Cars331.png                  \b\b\b\b 46%\b\b\b\b\b  OK \n",
            "Extracting  /content/Ultra/ds3/train/images/Cars332.png                  \b\b\b\b 46%\b\b\b\b\b  OK \n",
            "Extracting  /content/Ultra/ds3/train/images/Cars335.png                  \b\b\b\b 47%\b\b\b\b\b  OK \n",
            "Extracting  /content/Ultra/ds3/train/images/Cars336.png                  \b\b\b\b 47%\b\b\b\b\b  OK \n",
            "Extracting  /content/Ultra/ds3/train/images/Cars337.png                  \b\b\b\b 47%\b\b\b\b\b  OK \n",
            "Extracting  /content/Ultra/ds3/train/images/Cars338.png                  \b\b\b\b 48%\b\b\b\b\b  OK \n",
            "Extracting  /content/Ultra/ds3/train/images/Cars339.png                  \b\b\b\b 48%\b\b\b\b\b  OK \n",
            "Extracting  /content/Ultra/ds3/train/images/Cars341.png                  \b\b\b\b 48%\b\b\b\b\b  OK \n",
            "Extracting  /content/Ultra/ds3/train/images/Cars342.png                  \b\b\b\b 48%\b\b\b\b\b  OK \n",
            "Extracting  /content/Ultra/ds3/train/images/Cars344.png                  \b\b\b\b 48%\b\b\b\b\b  OK \n",
            "Extracting  /content/Ultra/ds3/train/images/Cars345.png                  \b\b\b\b 49%\b\b\b\b\b  OK \n",
            "Extracting  /content/Ultra/ds3/train/images/Cars346.png                  \b\b\b\b 49%\b\b\b\b\b  OK \n",
            "Extracting  /content/Ultra/ds3/train/images/Cars347.png                  \b\b\b\b 49%\b\b\b\b\b  OK \n",
            "Extracting  /content/Ultra/ds3/train/images/Cars348.png                  \b\b\b\b 49%\b\b\b\b\b  OK \n",
            "Extracting  /content/Ultra/ds3/train/images/Cars349.png                  \b\b\b\b 50%\b\b\b\b\b  OK \n",
            "Extracting  /content/Ultra/ds3/train/images/Cars35.png                   \b\b\b\b 50%\b\b\b\b\b  OK \n",
            "Extracting  /content/Ultra/ds3/train/images/Cars351.png                  \b\b\b\b 50%\b\b\b\b\b  OK \n",
            "Extracting  /content/Ultra/ds3/train/images/Cars352.png                  \b\b\b\b 51%\b\b\b\b\b  OK \n",
            "Extracting  /content/Ultra/ds3/train/images/Cars353.png                  \b\b\b\b 51%\b\b\b\b\b  OK \n",
            "Extracting  /content/Ultra/ds3/train/images/Cars354.png                  \b\b\b\b 51%\b\b\b\b\b  OK \n",
            "Extracting  /content/Ultra/ds3/train/images/Cars356.png                  \b\b\b\b 51%\b\b\b\b\b  OK \n",
            "Extracting  /content/Ultra/ds3/train/images/Cars357.png                  \b\b\b\b 52%\b\b\b\b\b  OK \n",
            "Extracting  /content/Ultra/ds3/train/images/Cars358.png                  \b\b\b\b 52%\b\b\b\b\b  OK \n",
            "Extracting  /content/Ultra/ds3/train/images/Cars359.png                  \b\b\b\b 52%\b\b\b\b\b  OK \n",
            "Extracting  /content/Ultra/ds3/train/images/Cars36.png                   \b\b\b\b 52%\b\b\b\b\b  OK \n",
            "Extracting  /content/Ultra/ds3/train/images/Cars361.png                  \b\b\b\b 53%\b\b\b\b\b  OK \n",
            "Extracting  /content/Ultra/ds3/train/images/Cars362.png                  \b\b\b\b 53%\b\b\b\b\b  OK \n",
            "Extracting  /content/Ultra/ds3/train/images/Cars363.png                  \b\b\b\b 53%\b\b\b\b\b  OK \n",
            "Extracting  /content/Ultra/ds3/train/images/Cars364.png                  \b\b\b\b 53%\b\b\b\b\b  OK \n",
            "Extracting  /content/Ultra/ds3/train/images/Cars365.png                  \b\b\b\b 54%\b\b\b\b\b  OK \n",
            "Extracting  /content/Ultra/ds3/train/images/Cars366.png                  \b\b\b\b 54%\b\b\b\b\b  OK \n",
            "Extracting  /content/Ultra/ds3/train/images/Cars367.png                  \b\b\b\b 54%\b\b\b\b\b  OK \n",
            "Extracting  /content/Ultra/ds3/train/images/Cars368.png                  \b\b\b\b 54%\b\b\b\b\b  OK \n",
            "Extracting  /content/Ultra/ds3/train/images/Cars369.png                  \b\b\b\b 54%\b\b\b\b\b  OK \n",
            "Extracting  /content/Ultra/ds3/train/images/Cars37.png                   \b\b\b\b 54%\b\b\b\b\b  OK \n",
            "Extracting  /content/Ultra/ds3/train/images/Cars371.png                  \b\b\b\b 55%\b\b\b\b\b  OK \n",
            "Extracting  /content/Ultra/ds3/train/images/Cars372.png                  \b\b\b\b 55%\b\b\b\b\b  OK \n",
            "Extracting  /content/Ultra/ds3/train/images/Cars373.png                  \b\b\b\b 55%\b\b\b\b\b  OK \n",
            "Extracting  /content/Ultra/ds3/train/images/Cars374.png                  \b\b\b\b 55%\b\b\b\b\b  OK \n",
            "Extracting  /content/Ultra/ds3/train/images/Cars375.png                  \b\b\b\b 55%\b\b\b\b\b  OK \n",
            "Extracting  /content/Ultra/ds3/train/images/Cars376.png                  \b\b\b\b 56%\b\b\b\b\b  OK \n",
            "Extracting  /content/Ultra/ds3/train/images/Cars377.png                  \b\b\b\b 56%\b\b\b\b\b  OK \n",
            "Extracting  /content/Ultra/ds3/train/images/Cars378.png                  \b\b\b\b 56%\b\b\b\b\b  OK \n",
            "Extracting  /content/Ultra/ds3/train/images/Cars379.png                  \b\b\b\b 56%\b\b\b\b\b  OK \n",
            "Extracting  /content/Ultra/ds3/train/images/Cars38.png                   \b\b\b\b 57%\b\b\b\b\b  OK \n",
            "Extracting  /content/Ultra/ds3/train/images/Cars380.png                  \b\b\b\b 57%\b\b\b\b\b  OK \n",
            "Extracting  /content/Ultra/ds3/train/images/Cars381.png                  \b\b\b\b 57%\b\b\b\b\b  OK \n",
            "Extracting  /content/Ultra/ds3/train/images/Cars382.png                  \b\b\b\b 57%\b\b\b\b\b  OK \n",
            "Extracting  /content/Ultra/ds3/train/images/Cars383.png                  \b\b\b\b 58%\b\b\b\b\b  OK \n",
            "Extracting  /content/Ultra/ds3/train/images/Cars384.png                  \b\b\b\b 58%\b\b\b\b\b  OK \n",
            "Extracting  /content/Ultra/ds3/train/images/Cars385.png                  \b\b\b\b 58%\b\b\b\b\b  OK \n",
            "Extracting  /content/Ultra/ds3/train/images/Cars386.png                  \b\b\b\b 58%\b\b\b\b\b  OK \n",
            "Extracting  /content/Ultra/ds3/train/images/Cars387.png                  \b\b\b\b 59%\b\b\b\b\b  OK \n",
            "Extracting  /content/Ultra/ds3/train/images/Cars389.png                  \b\b\b\b 59%\b\b\b\b\b  OK \n",
            "Extracting  /content/Ultra/ds3/train/images/Cars39.png                   \b\b\b\b 59%\b\b\b\b\b  OK \n",
            "Extracting  /content/Ultra/ds3/train/images/Cars390.png                  \b\b\b\b 59%\b\b\b\b\b  OK \n",
            "Extracting  /content/Ultra/ds3/train/images/Cars391.png                  \b\b\b\b 59%\b\b\b\b\b  OK \n",
            "Extracting  /content/Ultra/ds3/train/images/Cars392.png                  \b\b\b\b 60%\b\b\b\b\b  OK \n",
            "Extracting  /content/Ultra/ds3/train/images/Cars395.png                  \b\b\b\b 60%\b\b\b\b\b  OK \n",
            "Extracting  /content/Ultra/ds3/train/images/Cars397.png                  \b\b\b\b 60%\b\b\b\b\b  OK \n",
            "Extracting  /content/Ultra/ds3/train/images/Cars398.png                  \b\b\b\b 61%\b\b\b\b\b  OK \n",
            "Extracting  /content/Ultra/ds3/train/images/Cars399.png                  \b\b\b\b 61%\b\b\b\b\b  OK \n",
            "Extracting  /content/Ultra/ds3/train/images/Cars4.png                    \b\b\b\b 61%\b\b\b\b\b  OK \n",
            "Extracting  /content/Ultra/ds3/train/images/Cars40.png                   \b\b\b\b 61%\b\b\b\b\b  OK \n",
            "Extracting  /content/Ultra/ds3/train/images/Cars400.png                  \b\b\b\b 61%\b\b\b\b\b  OK \n",
            "Extracting  /content/Ultra/ds3/train/images/Cars402.png                  \b\b\b\b 62%\b\b\b\b\b  OK \n",
            "Extracting  /content/Ultra/ds3/train/images/Cars403.png                  \b\b\b\b 62%\b\b\b\b\b  OK \n",
            "Extracting  /content/Ultra/ds3/train/images/Cars404.png                  \b\b\b\b 62%\b\b\b\b\b  OK \n",
            "Extracting  /content/Ultra/ds3/train/images/Cars405.png                  \b\b\b\b 62%\b\b\b\b\b  OK \n",
            "Extracting  /content/Ultra/ds3/train/images/Cars406.png                  \b\b\b\b 63%\b\b\b\b\b  OK \n",
            "Extracting  /content/Ultra/ds3/train/images/Cars407.png                  \b\b\b\b 63%\b\b\b\b\b  OK \n",
            "Extracting  /content/Ultra/ds3/train/images/Cars408.png                  \b\b\b\b 63%\b\b\b\b\b  OK \n",
            "Extracting  /content/Ultra/ds3/train/images/Cars409.png                  \b\b\b\b 63%\b\b\b\b\b  OK \n",
            "Extracting  /content/Ultra/ds3/train/images/Cars41.png                   \b\b\b\b 63%\b\b\b\b\b  OK \n",
            "Extracting  /content/Ultra/ds3/train/images/Cars410.png                  \b\b\b\b 64%\b\b\b\b\b  OK \n",
            "Extracting  /content/Ultra/ds3/train/images/Cars411.png                  \b\b\b\b 64%\b\b\b\b\b  OK \n",
            "Extracting  /content/Ultra/ds3/train/images/Cars412.png                  \b\b\b\b 64%\b\b\b\b\b  OK \n",
            "Extracting  /content/Ultra/ds3/train/images/Cars413.png                  \b\b\b\b 64%\b\b\b\b\b  OK \n",
            "Extracting  /content/Ultra/ds3/train/images/Cars414.png                  \b\b\b\b 65%\b\b\b\b\b  OK \n",
            "Extracting  /content/Ultra/ds3/train/images/Cars417.png                  \b\b\b\b 65%\b\b\b\b\b  OK \n",
            "Extracting  /content/Ultra/ds3/train/images/Cars418.png                  \b\b\b\b 65%\b\b\b\b\b  OK \n",
            "Extracting  /content/Ultra/ds3/train/images/Cars420.png                  \b\b\b\b 66%\b\b\b\b\b  OK \n",
            "Extracting  /content/Ultra/ds3/train/images/Cars421.png                  \b\b\b\b 66%\b\b\b\b\b  OK \n",
            "Extracting  /content/Ultra/ds3/train/images/Cars424.png                  \b\b\b\b 66%\b\b\b\b\b  OK \n",
            "Extracting  /content/Ultra/ds3/train/images/Cars425.png                  \b\b\b\b 66%\b\b\b\b\b  OK \n",
            "Extracting  /content/Ultra/ds3/train/images/Cars426.png                  \b\b\b\b 66%\b\b\b\b\b  OK \n",
            "Extracting  /content/Ultra/ds3/train/images/Cars427.png                  \b\b\b\b 66%\b\b\b\b\b  OK \n",
            "Extracting  /content/Ultra/ds3/train/images/Cars428.png                  \b\b\b\b 67%\b\b\b\b\b  OK \n",
            "Extracting  /content/Ultra/ds3/train/images/Cars429.png                  \b\b\b\b 67%\b\b\b\b\b  OK \n",
            "Extracting  /content/Ultra/ds3/train/images/Cars43.png                   \b\b\b\b 67%\b\b\b\b\b  OK \n",
            "Extracting  /content/Ultra/ds3/train/images/Cars430.png                  \b\b\b\b 67%\b\b\b\b\b  OK \n",
            "Extracting  /content/Ultra/ds3/train/images/Cars431.png                  \b\b\b\b 67%\b\b\b\b\b  OK \n",
            "Extracting  /content/Ultra/ds3/train/images/Cars432.png                  \b\b\b\b 67%\b\b\b\b\b  OK \n",
            "Extracting  /content/Ultra/ds3/train/images/Cars45.png                   \b\b\b\b 68%\b\b\b\b\b  OK \n",
            "Extracting  /content/Ultra/ds3/train/images/Cars46.png                   \b\b\b\b 68%\b\b\b\b\b  OK \n",
            "Extracting  /content/Ultra/ds3/train/images/Cars47.png                   \b\b\b\b 68%\b\b\b\b\b  OK \n",
            "Extracting  /content/Ultra/ds3/train/images/Cars48.png                   \b\b\b\b 69%\b\b\b\b\b  OK \n",
            "Extracting  /content/Ultra/ds3/train/images/Cars49.png                   \b\b\b\b 69%\b\b\b\b\b  OK \n",
            "Extracting  /content/Ultra/ds3/train/images/Cars5.png                    \b\b\b\b 69%\b\b\b\b\b  OK \n",
            "Extracting  /content/Ultra/ds3/train/images/Cars50.png                   \b\b\b\b 69%\b\b\b\b\b  OK \n",
            "Extracting  /content/Ultra/ds3/train/images/Cars51.png                   \b\b\b\b 70%\b\b\b\b\b  OK \n",
            "Extracting  /content/Ultra/ds3/train/images/Cars52.png                   \b\b\b\b 70%\b\b\b\b\b  OK \n",
            "Extracting  /content/Ultra/ds3/train/images/Cars53.png                   \b\b\b\b 70%\b\b\b\b\b  OK \n",
            "Extracting  /content/Ultra/ds3/train/images/Cars54.png                   \b\b\b\b 70%\b\b\b\b\b  OK \n",
            "Extracting  /content/Ultra/ds3/train/images/Cars55.png                   \b\b\b\b 70%\b\b\b\b\b  OK \n",
            "Extracting  /content/Ultra/ds3/train/images/Cars56.png                   \b\b\b\b 71%\b\b\b\b\b  OK \n",
            "Extracting  /content/Ultra/ds3/train/images/Cars57.png                   \b\b\b\b 71%\b\b\b\b\b  OK \n",
            "Extracting  /content/Ultra/ds3/train/images/Cars58.png                   \b\b\b\b 71%\b\b\b\b\b  OK \n",
            "Extracting  /content/Ultra/ds3/train/images/Cars59.png                   \b\b\b\b 71%\b\b\b\b\b  OK \n",
            "Extracting  /content/Ultra/ds3/train/images/Cars6.png                    \b\b\b\b 71%\b\b\b\b\b  OK \n",
            "Extracting  /content/Ultra/ds3/train/images/Cars60.png                   \b\b\b\b 72%\b\b\b\b\b  OK \n",
            "Extracting  /content/Ultra/ds3/train/images/Cars61.png                   \b\b\b\b 72%\b\b\b\b\b  OK \n",
            "Extracting  /content/Ultra/ds3/train/images/Cars64.png                   \b\b\b\b 72%\b\b\b\b\b  OK \n",
            "Extracting  /content/Ultra/ds3/train/images/Cars65.png                   \b\b\b\b 72%\b\b\b\b\b  OK \n",
            "Extracting  /content/Ultra/ds3/train/images/Cars67.png                   \b\b\b\b 72%\b\b\b\b\b  OK \n",
            "Extracting  /content/Ultra/ds3/train/images/Cars68.png                   \b\b\b\b 73%\b\b\b\b\b  OK \n",
            "Extracting  /content/Ultra/ds3/train/images/Cars69.png                   \b\b\b\b 73%\b\b\b\b\b  OK \n",
            "Extracting  /content/Ultra/ds3/train/images/Cars7.png                    \b\b\b\b 73%\b\b\b\b\b  OK \n",
            "Extracting  /content/Ultra/ds3/train/images/Cars70.png                   \b\b\b\b 74%\b\b\b\b\b  OK \n",
            "Extracting  /content/Ultra/ds3/train/images/Cars73.png                   \b\b\b\b 74%\b\b\b\b\b  OK \n",
            "Extracting  /content/Ultra/ds3/train/images/Cars74.png                   \b\b\b\b 74%\b\b\b\b\b  OK \n",
            "Extracting  /content/Ultra/ds3/train/images/Cars76.png                   \b\b\b\b 74%\b\b\b\b\b  OK \n",
            "Extracting  /content/Ultra/ds3/train/images/Cars78.png                   \b\b\b\b 75%\b\b\b\b\b  OK \n",
            "Extracting  /content/Ultra/ds3/train/images/Cars79.png                   \b\b\b\b 75%\b\b\b\b\b  OK \n",
            "Extracting  /content/Ultra/ds3/train/images/Cars80.png                   \b\b\b\b 75%\b\b\b\b\b  OK \n",
            "Extracting  /content/Ultra/ds3/train/images/Cars81.png                   \b\b\b\b 75%\b\b\b\b\b  OK \n",
            "Extracting  /content/Ultra/ds3/train/images/Cars83.png                   \b\b\b\b 76%\b\b\b\b\b  OK \n",
            "Extracting  /content/Ultra/ds3/train/images/Cars88.png                   \b\b\b\b 76%\b\b\b\b\b  OK \n",
            "Extracting  /content/Ultra/ds3/train/images/Cars89.png                   \b\b\b\b 76%\b\b\b\b\b  OK \n",
            "Extracting  /content/Ultra/ds3/train/images/Cars9.png                    \b\b\b\b 76%\b\b\b\b\b  OK \n",
            "Extracting  /content/Ultra/ds3/train/images/Cars90.png                   \b\b\b\b 77%\b\b\b\b\b  OK \n",
            "Extracting  /content/Ultra/ds3/train/images/Cars91.png                   \b\b\b\b 77%\b\b\b\b\b  OK \n",
            "Extracting  /content/Ultra/ds3/train/images/Cars92.png                   \b\b\b\b 77%\b\b\b\b\b  OK \n",
            "Extracting  /content/Ultra/ds3/train/images/Cars93.png                   \b\b\b\b 77%\b\b\b\b\b  OK \n",
            "Extracting  /content/Ultra/ds3/train/images/Cars94.png                   \b\b\b\b 78%\b\b\b\b\b  OK \n",
            "Extracting  /content/Ultra/ds3/train/images/Cars95.png                   \b\b\b\b 78%\b\b\b\b\b  OK \n",
            "Extracting  /content/Ultra/ds3/train/images/Cars96.png                   \b\b\b\b 78%\b\b\b\b\b  OK \n",
            "Extracting  /content/Ultra/ds3/train/images/Cars97.png                   \b\b\b\b 78%\b\b\b\b\b  OK \n",
            "Extracting  /content/Ultra/ds3/train/images/Cars98.png                   \b\b\b\b 79%\b\b\b\b\b  OK \n",
            "Extracting  /content/Ultra/ds3/train/images/Cars99.png                   \b\b\b\b 79%\b\b\b\b\b  OK \n",
            "Creating    /content/Ultra/ds3/train/labels                           OK\n",
            "Extracting  /content/Ultra/ds3/train/labels/Cars0.txt                    \b\b\b\b 79%\b\b\b\b\b  OK \n",
            "Extracting  /content/Ultra/ds3/train/labels/Cars1.txt                    \b\b\b\b 79%\b\b\b\b\b  OK \n",
            "Extracting  /content/Ultra/ds3/train/labels/Cars10.txt                   \b\b\b\b 79%\b\b\b\b\b  OK \n",
            "Extracting  /content/Ultra/ds3/train/labels/Cars100.txt                  \b\b\b\b 79%\b\b\b\b\b  OK \n",
            "Extracting  /content/Ultra/ds3/train/labels/Cars101.txt                  \b\b\b\b 79%\b\b\b\b\b  OK \n",
            "Extracting  /content/Ultra/ds3/train/labels/Cars102.txt                  \b\b\b\b 79%\b\b\b\b\b  OK \n",
            "Extracting  /content/Ultra/ds3/train/labels/Cars103.txt                  \b\b\b\b 79%\b\b\b\b\b  OK \n",
            "Extracting  /content/Ultra/ds3/train/labels/Cars104.txt                  \b\b\b\b 79%\b\b\b\b\b  OK \n",
            "Extracting  /content/Ultra/ds3/train/labels/Cars105.txt                  \b\b\b\b 79%\b\b\b\b\b  OK \n",
            "Extracting  /content/Ultra/ds3/train/labels/Cars106.txt                  \b\b\b\b 79%\b\b\b\b\b  OK \n",
            "Extracting  /content/Ultra/ds3/train/labels/Cars107.txt                  \b\b\b\b 79%\b\b\b\b\b  OK \n",
            "Extracting  /content/Ultra/ds3/train/labels/Cars108.txt                  \b\b\b\b 79%\b\b\b\b\b  OK \n",
            "Extracting  /content/Ultra/ds3/train/labels/Cars11.txt                   \b\b\b\b 79%\b\b\b\b\b  OK \n",
            "Extracting  /content/Ultra/ds3/train/labels/Cars111.txt                  \b\b\b\b 79%\b\b\b\b\b  OK \n",
            "Extracting  /content/Ultra/ds3/train/labels/Cars112.txt                  \b\b\b\b 79%\b\b\b\b\b  OK \n",
            "Extracting  /content/Ultra/ds3/train/labels/Cars113.txt                  \b\b\b\b 79%\b\b\b\b\b  OK \n",
            "Extracting  /content/Ultra/ds3/train/labels/Cars114.txt                  \b\b\b\b 79%\b\b\b\b\b  OK \n",
            "Extracting  /content/Ultra/ds3/train/labels/Cars115.txt                  \b\b\b\b 79%\b\b\b\b\b  OK \n",
            "Extracting  /content/Ultra/ds3/train/labels/Cars116.txt                  \b\b\b\b 79%\b\b\b\b\b  OK \n",
            "Extracting  /content/Ultra/ds3/train/labels/Cars117.txt                  \b\b\b\b 79%\b\b\b\b\b  OK \n",
            "Extracting  /content/Ultra/ds3/train/labels/Cars118.txt                  \b\b\b\b 79%\b\b\b\b\b  OK \n",
            "Extracting  /content/Ultra/ds3/train/labels/Cars121.txt                  \b\b\b\b 79%\b\b\b\b\b  OK \n",
            "Extracting  /content/Ultra/ds3/train/labels/Cars122.txt                  \b\b\b\b 79%\b\b\b\b\b  OK \n",
            "Extracting  /content/Ultra/ds3/train/labels/Cars123.txt                  \b\b\b\b 79%\b\b\b\b\b  OK \n",
            "Extracting  /content/Ultra/ds3/train/labels/Cars124.txt                  \b\b\b\b 79%\b\b\b\b\b  OK \n",
            "Extracting  /content/Ultra/ds3/train/labels/Cars125.txt                  \b\b\b\b 79%\b\b\b\b\b  OK \n",
            "Extracting  /content/Ultra/ds3/train/labels/Cars126.txt                  \b\b\b\b 79%\b\b\b\b\b  OK \n",
            "Extracting  /content/Ultra/ds3/train/labels/Cars128.txt                  \b\b\b\b 79%\b\b\b\b\b  OK \n",
            "Extracting  /content/Ultra/ds3/train/labels/Cars129.txt                  \b\b\b\b 79%\b\b\b\b\b  OK \n",
            "Extracting  /content/Ultra/ds3/train/labels/Cars13.txt                   \b\b\b\b 79%\b\b\b\b\b  OK \n",
            "Extracting  /content/Ultra/ds3/train/labels/Cars130.txt                  \b\b\b\b 79%\b\b\b\b\b  OK \n",
            "Extracting  /content/Ultra/ds3/train/labels/Cars131.txt                  \b\b\b\b 79%\b\b\b\b\b  OK \n",
            "Extracting  /content/Ultra/ds3/train/labels/Cars132.txt                  \b\b\b\b 79%\b\b\b\b\b  OK \n",
            "Extracting  /content/Ultra/ds3/train/labels/Cars133.txt                  \b\b\b\b 79%\b\b\b\b\b  OK \n",
            "Extracting  /content/Ultra/ds3/train/labels/Cars134.txt                  \b\b\b\b 79%\b\b\b\b\b  OK \n",
            "Extracting  /content/Ultra/ds3/train/labels/Cars136.txt                  \b\b\b\b 79%\b\b\b\b\b  OK \n",
            "Extracting  /content/Ultra/ds3/train/labels/Cars137.txt                  \b\b\b\b 79%\b\b\b\b\b  OK \n",
            "Extracting  /content/Ultra/ds3/train/labels/Cars138.txt                  \b\b\b\b 79%\b\b\b\b\b  OK \n",
            "Extracting  /content/Ultra/ds3/train/labels/Cars139.txt                  \b\b\b\b 79%\b\b\b\b\b  OK \n",
            "Extracting  /content/Ultra/ds3/train/labels/Cars14.txt                   \b\b\b\b 79%\b\b\b\b\b  OK \n",
            "Extracting  /content/Ultra/ds3/train/labels/Cars140.txt                  \b\b\b\b 79%\b\b\b\b\b  OK \n",
            "Extracting  /content/Ultra/ds3/train/labels/Cars141.txt                  \b\b\b\b 79%\b\b\b\b\b  OK \n",
            "Extracting  /content/Ultra/ds3/train/labels/Cars142.txt                  \b\b\b\b 79%\b\b\b\b\b  OK \n",
            "Extracting  /content/Ultra/ds3/train/labels/Cars143.txt                  \b\b\b\b 79%\b\b\b\b\b  OK \n",
            "Extracting  /content/Ultra/ds3/train/labels/Cars144.txt                  \b\b\b\b 79%\b\b\b\b\b  OK \n",
            "Extracting  /content/Ultra/ds3/train/labels/Cars145.txt                  \b\b\b\b 79%\b\b\b\b\b  OK \n",
            "Extracting  /content/Ultra/ds3/train/labels/Cars146.txt                  \b\b\b\b 79%\b\b\b\b\b  OK \n",
            "Extracting  /content/Ultra/ds3/train/labels/Cars147.txt                  \b\b\b\b 79%\b\b\b\b\b  OK \n",
            "Extracting  /content/Ultra/ds3/train/labels/Cars148.txt                  \b\b\b\b 79%\b\b\b\b\b  OK \n",
            "Extracting  /content/Ultra/ds3/train/labels/Cars149.txt                  \b\b\b\b 79%\b\b\b\b\b  OK \n",
            "Extracting  /content/Ultra/ds3/train/labels/Cars15.txt                   \b\b\b\b 79%\b\b\b\b\b  OK \n",
            "Extracting  /content/Ultra/ds3/train/labels/Cars150.txt                  \b\b\b\b 79%\b\b\b\b\b  OK \n",
            "Extracting  /content/Ultra/ds3/train/labels/Cars151.txt                  \b\b\b\b 79%\b\b\b\b\b  OK \n",
            "Extracting  /content/Ultra/ds3/train/labels/Cars152.txt                  \b\b\b\b 79%\b\b\b\b\b  OK \n",
            "Extracting  /content/Ultra/ds3/train/labels/Cars153.txt                  \b\b\b\b 79%\b\b\b\b\b  OK \n",
            "Extracting  /content/Ultra/ds3/train/labels/Cars154.txt                  \b\b\b\b 79%\b\b\b\b\b  OK \n",
            "Extracting  /content/Ultra/ds3/train/labels/Cars155.txt                  \b\b\b\b 79%\b\b\b\b\b  OK \n",
            "Extracting  /content/Ultra/ds3/train/labels/Cars158.txt                  \b\b\b\b 79%\b\b\b\b\b  OK \n",
            "Extracting  /content/Ultra/ds3/train/labels/Cars16.txt                   \b\b\b\b 79%\b\b\b\b\b  OK \n",
            "Extracting  /content/Ultra/ds3/train/labels/Cars160.txt                  \b\b\b\b 79%\b\b\b\b\b  OK \n",
            "Extracting  /content/Ultra/ds3/train/labels/Cars163.txt                  \b\b\b\b 79%\b\b\b\b\b  OK \n",
            "Extracting  /content/Ultra/ds3/train/labels/Cars167.txt                  \b\b\b\b 79%\b\b\b\b\b  OK \n",
            "Extracting  /content/Ultra/ds3/train/labels/Cars168.txt                  \b\b\b\b 79%\b\b\b\b\b  OK \n",
            "Extracting  /content/Ultra/ds3/train/labels/Cars169.txt                  \b\b\b\b 79%\b\b\b\b\b  OK \n",
            "Extracting  /content/Ultra/ds3/train/labels/Cars17.txt                   \b\b\b\b 79%\b\b\b\b\b  OK \n",
            "Extracting  /content/Ultra/ds3/train/labels/Cars170.txt                  \b\b\b\b 79%\b\b\b\b\b  OK \n",
            "Extracting  /content/Ultra/ds3/train/labels/Cars171.txt                  \b\b\b\b 79%\b\b\b\b\b  OK \n",
            "Extracting  /content/Ultra/ds3/train/labels/Cars172.txt                  \b\b\b\b 79%\b\b\b\b\b  OK \n",
            "Extracting  /content/Ultra/ds3/train/labels/Cars173.txt                  \b\b\b\b 79%\b\b\b\b\b  OK \n",
            "Extracting  /content/Ultra/ds3/train/labels/Cars175.txt                  \b\b\b\b 79%\b\b\b\b\b  OK \n",
            "Extracting  /content/Ultra/ds3/train/labels/Cars176.txt                  \b\b\b\b 79%\b\b\b\b\b  OK \n",
            "Extracting  /content/Ultra/ds3/train/labels/Cars177.txt                  \b\b\b\b 79%\b\b\b\b\b  OK \n",
            "Extracting  /content/Ultra/ds3/train/labels/Cars18.txt                   \b\b\b\b 79%\b\b\b\b\b  OK \n",
            "Extracting  /content/Ultra/ds3/train/labels/Cars180.txt                  \b\b\b\b 79%\b\b\b\b\b  OK \n",
            "Extracting  /content/Ultra/ds3/train/labels/Cars181.txt                  \b\b\b\b 79%\b\b\b\b\b  OK \n",
            "Extracting  /content/Ultra/ds3/train/labels/Cars182.txt                  \b\b\b\b 79%\b\b\b\b\b  OK \n",
            "Extracting  /content/Ultra/ds3/train/labels/Cars184.txt                  \b\b\b\b 79%\b\b\b\b\b  OK \n",
            "Extracting  /content/Ultra/ds3/train/labels/Cars185.txt                  \b\b\b\b 79%\b\b\b\b\b  OK \n",
            "Extracting  /content/Ultra/ds3/train/labels/Cars186.txt                  \b\b\b\b 79%\b\b\b\b\b  OK \n",
            "Extracting  /content/Ultra/ds3/train/labels/Cars187.txt                  \b\b\b\b 79%\b\b\b\b\b  OK \n",
            "Extracting  /content/Ultra/ds3/train/labels/Cars188.txt                  \b\b\b\b 79%\b\b\b\b\b  OK \n",
            "Extracting  /content/Ultra/ds3/train/labels/Cars189.txt                  \b\b\b\b 79%\b\b\b\b\b  OK \n",
            "Extracting  /content/Ultra/ds3/train/labels/Cars19.txt                   \b\b\b\b 79%\b\b\b\b\b  OK \n",
            "Extracting  /content/Ultra/ds3/train/labels/Cars190.txt                  \b\b\b\b 79%\b\b\b\b\b  OK \n",
            "Extracting  /content/Ultra/ds3/train/labels/Cars191.txt                  \b\b\b\b 79%\b\b\b\b\b  OK \n",
            "Extracting  /content/Ultra/ds3/train/labels/Cars192.txt                  \b\b\b\b 79%\b\b\b\b\b  OK \n",
            "Extracting  /content/Ultra/ds3/train/labels/Cars193.txt                  \b\b\b\b 79%\b\b\b\b\b  OK \n",
            "Extracting  /content/Ultra/ds3/train/labels/Cars195.txt                  \b\b\b\b 79%\b\b\b\b\b  OK \n",
            "Extracting  /content/Ultra/ds3/train/labels/Cars196.txt                  \b\b\b\b 79%\b\b\b\b\b  OK \n",
            "Extracting  /content/Ultra/ds3/train/labels/Cars197.txt                  \b\b\b\b 79%\b\b\b\b\b  OK \n",
            "Extracting  /content/Ultra/ds3/train/labels/Cars199.txt                  \b\b\b\b 79%\b\b\b\b\b  OK \n",
            "Extracting  /content/Ultra/ds3/train/labels/Cars20.txt                   \b\b\b\b 79%\b\b\b\b\b  OK \n",
            "Extracting  /content/Ultra/ds3/train/labels/Cars200.txt                  \b\b\b\b 79%\b\b\b\b\b  OK \n",
            "Extracting  /content/Ultra/ds3/train/labels/Cars201.txt                  \b\b\b\b 79%\b\b\b\b\b  OK \n",
            "Extracting  /content/Ultra/ds3/train/labels/Cars203.txt                  \b\b\b\b 79%\b\b\b\b\b  OK \n",
            "Extracting  /content/Ultra/ds3/train/labels/Cars204.txt                  \b\b\b\b 79%\b\b\b\b\b  OK \n",
            "Extracting  /content/Ultra/ds3/train/labels/Cars205.txt                  \b\b\b\b 79%\b\b\b\b\b  OK \n",
            "Extracting  /content/Ultra/ds3/train/labels/Cars206.txt                  \b\b\b\b 79%\b\b\b\b\b  OK \n",
            "Extracting  /content/Ultra/ds3/train/labels/Cars207.txt                  \b\b\b\b 79%\b\b\b\b\b  OK \n",
            "Extracting  /content/Ultra/ds3/train/labels/Cars209.txt                  \b\b\b\b 79%\b\b\b\b\b  OK \n",
            "Extracting  /content/Ultra/ds3/train/labels/Cars211.txt                  \b\b\b\b 79%\b\b\b\b\b  OK \n",
            "Extracting  /content/Ultra/ds3/train/labels/Cars212.txt                  \b\b\b\b 79%\b\b\b\b\b  OK \n",
            "Extracting  /content/Ultra/ds3/train/labels/Cars213.txt                  \b\b\b\b 79%\b\b\b\b\b  OK \n",
            "Extracting  /content/Ultra/ds3/train/labels/Cars214.txt                  \b\b\b\b 79%\b\b\b\b\b  OK \n",
            "Extracting  /content/Ultra/ds3/train/labels/Cars215.txt                  \b\b\b\b 79%\b\b\b\b\b  OK \n",
            "Extracting  /content/Ultra/ds3/train/labels/Cars216.txt                  \b\b\b\b 79%\b\b\b\b\b  OK \n",
            "Extracting  /content/Ultra/ds3/train/labels/Cars217.txt                  \b\b\b\b 79%\b\b\b\b\b  OK \n",
            "Extracting  /content/Ultra/ds3/train/labels/Cars219.txt                  \b\b\b\b 79%\b\b\b\b\b  OK \n",
            "Extracting  /content/Ultra/ds3/train/labels/Cars22.txt                   \b\b\b\b 79%\b\b\b\b\b  OK \n",
            "Extracting  /content/Ultra/ds3/train/labels/Cars220.txt                  \b\b\b\b 79%\b\b\b\b\b  OK \n",
            "Extracting  /content/Ultra/ds3/train/labels/Cars221.txt                  \b\b\b\b 79%\b\b\b\b\b  OK \n",
            "Extracting  /content/Ultra/ds3/train/labels/Cars222.txt                  \b\b\b\b 79%\b\b\b\b\b  OK \n",
            "Extracting  /content/Ultra/ds3/train/labels/Cars223.txt                  \b\b\b\b 79%\b\b\b\b\b  OK \n",
            "Extracting  /content/Ultra/ds3/train/labels/Cars224.txt                  \b\b\b\b 79%\b\b\b\b\b  OK \n",
            "Extracting  /content/Ultra/ds3/train/labels/Cars225.txt                  \b\b\b\b 79%\b\b\b\b\b  OK \n",
            "Extracting  /content/Ultra/ds3/train/labels/Cars226.txt                  \b\b\b\b 79%\b\b\b\b\b  OK \n",
            "Extracting  /content/Ultra/ds3/train/labels/Cars227.txt                  \b\b\b\b 79%\b\b\b\b\b  OK \n",
            "Extracting  /content/Ultra/ds3/train/labels/Cars228.txt                  \b\b\b\b 79%\b\b\b\b\b  OK \n",
            "Extracting  /content/Ultra/ds3/train/labels/Cars23.txt                   \b\b\b\b 79%\b\b\b\b\b  OK \n",
            "Extracting  /content/Ultra/ds3/train/labels/Cars231.txt                  \b\b\b\b 79%\b\b\b\b\b  OK \n",
            "Extracting  /content/Ultra/ds3/train/labels/Cars232.txt                  \b\b\b\b 79%\b\b\b\b\b  OK \n",
            "Extracting  /content/Ultra/ds3/train/labels/Cars233.txt                  \b\b\b\b 79%\b\b\b\b\b  OK \n",
            "Extracting  /content/Ultra/ds3/train/labels/Cars234.txt                  \b\b\b\b 79%\b\b\b\b\b  OK \n",
            "Extracting  /content/Ultra/ds3/train/labels/Cars235.txt                  \b\b\b\b 79%\b\b\b\b\b  OK \n",
            "Extracting  /content/Ultra/ds3/train/labels/Cars236.txt                  \b\b\b\b 79%\b\b\b\b\b  OK \n",
            "Extracting  /content/Ultra/ds3/train/labels/Cars237.txt                  \b\b\b\b 79%\b\b\b\b\b  OK \n",
            "Extracting  /content/Ultra/ds3/train/labels/Cars238.txt                  \b\b\b\b 79%\b\b\b\b\b  OK \n",
            "Extracting  /content/Ultra/ds3/train/labels/Cars239.txt                  \b\b\b\b 79%\b\b\b\b\b  OK \n",
            "Extracting  /content/Ultra/ds3/train/labels/Cars24.txt                   \b\b\b\b 79%\b\b\b\b\b  OK \n",
            "Extracting  /content/Ultra/ds3/train/labels/Cars240.txt                  \b\b\b\b 79%\b\b\b\b\b  OK \n",
            "Extracting  /content/Ultra/ds3/train/labels/Cars241.txt                  \b\b\b\b 79%\b\b\b\b\b  OK \n",
            "Extracting  /content/Ultra/ds3/train/labels/Cars243.txt                  \b\b\b\b 79%\b\b\b\b\b  OK \n",
            "Extracting  /content/Ultra/ds3/train/labels/Cars244.txt                  \b\b\b\b 79%\b\b\b\b\b  OK \n",
            "Extracting  /content/Ultra/ds3/train/labels/Cars245.txt                  \b\b\b\b 79%\b\b\b\b\b  OK \n",
            "Extracting  /content/Ultra/ds3/train/labels/Cars247.txt                  \b\b\b\b 79%\b\b\b\b\b  OK \n",
            "Extracting  /content/Ultra/ds3/train/labels/Cars248.txt                  \b\b\b\b 79%\b\b\b\b\b  OK \n",
            "Extracting  /content/Ultra/ds3/train/labels/Cars249.txt                  \b\b\b\b 79%\b\b\b\b\b  OK \n",
            "Extracting  /content/Ultra/ds3/train/labels/Cars250.txt                  \b\b\b\b 79%\b\b\b\b\b  OK \n",
            "Extracting  /content/Ultra/ds3/train/labels/Cars251.txt                  \b\b\b\b 79%\b\b\b\b\b  OK \n",
            "Extracting  /content/Ultra/ds3/train/labels/Cars252.txt                  \b\b\b\b 79%\b\b\b\b\b  OK \n",
            "Extracting  /content/Ultra/ds3/train/labels/Cars256.txt                  \b\b\b\b 79%\b\b\b\b\b  OK \n",
            "Extracting  /content/Ultra/ds3/train/labels/Cars258.txt                  \b\b\b\b 79%\b\b\b\b\b  OK \n",
            "Extracting  /content/Ultra/ds3/train/labels/Cars259.txt                  \b\b\b\b 79%\b\b\b\b\b  OK \n",
            "Extracting  /content/Ultra/ds3/train/labels/Cars26.txt                   \b\b\b\b 79%\b\b\b\b\b  OK \n",
            "Extracting  /content/Ultra/ds3/train/labels/Cars261.txt                  \b\b\b\b 79%\b\b\b\b\b  OK \n",
            "Extracting  /content/Ultra/ds3/train/labels/Cars262.txt                  \b\b\b\b 79%\b\b\b\b\b  OK \n",
            "Extracting  /content/Ultra/ds3/train/labels/Cars263.txt                  \b\b\b\b 79%\b\b\b\b\b  OK \n",
            "Extracting  /content/Ultra/ds3/train/labels/Cars264.txt                  \b\b\b\b 79%\b\b\b\b\b  OK \n",
            "Extracting  /content/Ultra/ds3/train/labels/Cars267.txt                  \b\b\b\b 79%\b\b\b\b\b  OK \n",
            "Extracting  /content/Ultra/ds3/train/labels/Cars268.txt                  \b\b\b\b 79%\b\b\b\b\b  OK \n",
            "Extracting  /content/Ultra/ds3/train/labels/Cars269.txt                  \b\b\b\b 79%\b\b\b\b\b  OK \n",
            "Extracting  /content/Ultra/ds3/train/labels/Cars27.txt                   \b\b\b\b 79%\b\b\b\b\b  OK \n",
            "Extracting  /content/Ultra/ds3/train/labels/Cars270.txt                  \b\b\b\b 79%\b\b\b\b\b  OK \n",
            "Extracting  /content/Ultra/ds3/train/labels/Cars271.txt                  \b\b\b\b 79%\b\b\b\b\b  OK \n",
            "Extracting  /content/Ultra/ds3/train/labels/Cars272.txt                  \b\b\b\b 79%\b\b\b\b\b  OK \n",
            "Extracting  /content/Ultra/ds3/train/labels/Cars274.txt                  \b\b\b\b 79%\b\b\b\b\b  OK \n",
            "Extracting  /content/Ultra/ds3/train/labels/Cars275.txt                  \b\b\b\b 79%\b\b\b\b\b  OK \n",
            "Extracting  /content/Ultra/ds3/train/labels/Cars277.txt                  \b\b\b\b 79%\b\b\b\b\b  OK \n",
            "Extracting  /content/Ultra/ds3/train/labels/Cars278.txt                  \b\b\b\b 79%\b\b\b\b\b  OK \n",
            "Extracting  /content/Ultra/ds3/train/labels/Cars279.txt                  \b\b\b\b 79%\b\b\b\b\b  OK \n",
            "Extracting  /content/Ultra/ds3/train/labels/Cars280.txt                  \b\b\b\b 79%\b\b\b\b\b  OK \n",
            "Extracting  /content/Ultra/ds3/train/labels/Cars282.txt                  \b\b\b\b 79%\b\b\b\b\b  OK \n",
            "Extracting  /content/Ultra/ds3/train/labels/Cars283.txt                  \b\b\b\b 79%\b\b\b\b\b  OK \n",
            "Extracting  /content/Ultra/ds3/train/labels/Cars285.txt                  \b\b\b\b 79%\b\b\b\b\b  OK \n",
            "Extracting  /content/Ultra/ds3/train/labels/Cars286.txt                  \b\b\b\b 79%\b\b\b\b\b  OK \n",
            "Extracting  /content/Ultra/ds3/train/labels/Cars288.txt                  \b\b\b\b 79%\b\b\b\b\b  OK \n",
            "Extracting  /content/Ultra/ds3/train/labels/Cars289.txt                  \b\b\b\b 79%\b\b\b\b\b  OK \n",
            "Extracting  /content/Ultra/ds3/train/labels/Cars29.txt                   \b\b\b\b 79%\b\b\b\b\b  OK \n",
            "Extracting  /content/Ultra/ds3/train/labels/Cars290.txt                  \b\b\b\b 79%\b\b\b\b\b  OK \n",
            "Extracting  /content/Ultra/ds3/train/labels/Cars291.txt                  \b\b\b\b 79%\b\b\b\b\b  OK \n",
            "Extracting  /content/Ultra/ds3/train/labels/Cars292.txt                  \b\b\b\b 79%\b\b\b\b\b  OK \n",
            "Extracting  /content/Ultra/ds3/train/labels/Cars293.txt                  \b\b\b\b 79%\b\b\b\b\b  OK \n",
            "Extracting  /content/Ultra/ds3/train/labels/Cars294.txt                  \b\b\b\b 79%\b\b\b\b\b  OK \n",
            "Extracting  /content/Ultra/ds3/train/labels/Cars295.txt                  \b\b\b\b 79%\b\b\b\b\b  OK \n",
            "Extracting  /content/Ultra/ds3/train/labels/Cars296.txt                  \b\b\b\b 79%\b\b\b\b\b  OK \n",
            "Extracting  /content/Ultra/ds3/train/labels/Cars297.txt                  \b\b\b\b 79%\b\b\b\b\b  OK \n",
            "Extracting  /content/Ultra/ds3/train/labels/Cars298.txt                  \b\b\b\b 79%\b\b\b\b\b  OK \n",
            "Extracting  /content/Ultra/ds3/train/labels/Cars299.txt                  \b\b\b\b 79%\b\b\b\b\b  OK \n",
            "Extracting  /content/Ultra/ds3/train/labels/Cars3.txt                    \b\b\b\b 79%\b\b\b\b\b  OK \n",
            "Extracting  /content/Ultra/ds3/train/labels/Cars30.txt                   \b\b\b\b 79%\b\b\b\b\b  OK \n",
            "Extracting  /content/Ultra/ds3/train/labels/Cars300.txt                  \b\b\b\b 79%\b\b\b\b\b  OK \n",
            "Extracting  /content/Ultra/ds3/train/labels/Cars301.txt                  \b\b\b\b 79%\b\b\b\b\b  OK \n",
            "Extracting  /content/Ultra/ds3/train/labels/Cars302.txt                  \b\b\b\b 79%\b\b\b\b\b  OK \n",
            "Extracting  /content/Ultra/ds3/train/labels/Cars303.txt                  \b\b\b\b 79%\b\b\b\b\b  OK \n",
            "Extracting  /content/Ultra/ds3/train/labels/Cars304.txt                  \b\b\b\b 79%\b\b\b\b\b  OK \n",
            "Extracting  /content/Ultra/ds3/train/labels/Cars305.txt                  \b\b\b\b 79%\b\b\b\b\b  OK \n",
            "Extracting  /content/Ultra/ds3/train/labels/Cars306.txt                  \b\b\b\b 79%\b\b\b\b\b  OK \n",
            "Extracting  /content/Ultra/ds3/train/labels/Cars308.txt                  \b\b\b\b 79%\b\b\b\b\b  OK \n",
            "Extracting  /content/Ultra/ds3/train/labels/Cars309.txt                  \b\b\b\b 79%\b\b\b\b\b  OK \n",
            "Extracting  /content/Ultra/ds3/train/labels/Cars31.txt                   \b\b\b\b 79%\b\b\b\b\b  OK \n",
            "Extracting  /content/Ultra/ds3/train/labels/Cars310.txt                  \b\b\b\b 79%\b\b\b\b\b  OK \n",
            "Extracting  /content/Ultra/ds3/train/labels/Cars312.txt                  \b\b\b\b 79%\b\b\b\b\b  OK \n",
            "Extracting  /content/Ultra/ds3/train/labels/Cars313.txt                  \b\b\b\b 79%\b\b\b\b\b  OK \n",
            "Extracting  /content/Ultra/ds3/train/labels/Cars314.txt                  \b\b\b\b 79%\b\b\b\b\b  OK \n",
            "Extracting  /content/Ultra/ds3/train/labels/Cars315.txt                  \b\b\b\b 79%\b\b\b\b\b  OK \n",
            "Extracting  /content/Ultra/ds3/train/labels/Cars316.txt                  \b\b\b\b 79%\b\b\b\b\b  OK \n",
            "Extracting  /content/Ultra/ds3/train/labels/Cars317.txt                  \b\b\b\b 79%\b\b\b\b\b  OK \n",
            "Extracting  /content/Ultra/ds3/train/labels/Cars318.txt                  \b\b\b\b 79%\b\b\b\b\b  OK \n",
            "Extracting  /content/Ultra/ds3/train/labels/Cars321.txt                  \b\b\b\b 79%\b\b\b\b\b  OK \n",
            "Extracting  /content/Ultra/ds3/train/labels/Cars322.txt                  \b\b\b\b 79%\b\b\b\b\b  OK \n",
            "Extracting  /content/Ultra/ds3/train/labels/Cars324.txt                  \b\b\b\b 79%\b\b\b\b\b  OK \n",
            "Extracting  /content/Ultra/ds3/train/labels/Cars325.txt                  \b\b\b\b 79%\b\b\b\b\b  OK \n",
            "Extracting  /content/Ultra/ds3/train/labels/Cars326.txt                  \b\b\b\b 79%\b\b\b\b\b  OK \n",
            "Extracting  /content/Ultra/ds3/train/labels/Cars327.txt                  \b\b\b\b 79%\b\b\b\b\b  OK \n",
            "Extracting  /content/Ultra/ds3/train/labels/Cars329.txt                  \b\b\b\b 79%\b\b\b\b\b  OK \n",
            "Extracting  /content/Ultra/ds3/train/labels/Cars330.txt                  \b\b\b\b 79%\b\b\b\b\b  OK \n",
            "Extracting  /content/Ultra/ds3/train/labels/Cars331.txt                  \b\b\b\b 79%\b\b\b\b\b  OK \n",
            "Extracting  /content/Ultra/ds3/train/labels/Cars332.txt                  \b\b\b\b 79%\b\b\b\b\b  OK \n",
            "Extracting  /content/Ultra/ds3/train/labels/Cars335.txt                  \b\b\b\b 79%\b\b\b\b\b  OK \n",
            "Extracting  /content/Ultra/ds3/train/labels/Cars336.txt                  \b\b\b\b 79%\b\b\b\b\b  OK \n",
            "Extracting  /content/Ultra/ds3/train/labels/Cars337.txt                  \b\b\b\b 79%\b\b\b\b\b  OK \n",
            "Extracting  /content/Ultra/ds3/train/labels/Cars338.txt                  \b\b\b\b 79%\b\b\b\b\b  OK \n",
            "Extracting  /content/Ultra/ds3/train/labels/Cars339.txt                  \b\b\b\b 79%\b\b\b\b\b  OK \n",
            "Extracting  /content/Ultra/ds3/train/labels/Cars341.txt                  \b\b\b\b 79%\b\b\b\b\b  OK \n",
            "Extracting  /content/Ultra/ds3/train/labels/Cars342.txt                  \b\b\b\b 79%\b\b\b\b\b  OK \n",
            "Extracting  /content/Ultra/ds3/train/labels/Cars344.txt                  \b\b\b\b 79%\b\b\b\b\b  OK \n",
            "Extracting  /content/Ultra/ds3/train/labels/Cars345.txt                  \b\b\b\b 79%\b\b\b\b\b  OK \n",
            "Extracting  /content/Ultra/ds3/train/labels/Cars346.txt                  \b\b\b\b 79%\b\b\b\b\b  OK \n",
            "Extracting  /content/Ultra/ds3/train/labels/Cars347.txt                  \b\b\b\b 79%\b\b\b\b\b  OK \n",
            "Extracting  /content/Ultra/ds3/train/labels/Cars348.txt                  \b\b\b\b 79%\b\b\b\b\b  OK \n",
            "Extracting  /content/Ultra/ds3/train/labels/Cars349.txt                  \b\b\b\b 79%\b\b\b\b\b  OK \n",
            "Extracting  /content/Ultra/ds3/train/labels/Cars35.txt                   \b\b\b\b 79%\b\b\b\b\b  OK \n",
            "Extracting  /content/Ultra/ds3/train/labels/Cars351.txt                  \b\b\b\b 79%\b\b\b\b\b  OK \n",
            "Extracting  /content/Ultra/ds3/train/labels/Cars352.txt                  \b\b\b\b 79%\b\b\b\b\b  OK \n",
            "Extracting  /content/Ultra/ds3/train/labels/Cars353.txt                  \b\b\b\b 79%\b\b\b\b\b  OK \n",
            "Extracting  /content/Ultra/ds3/train/labels/Cars354.txt                  \b\b\b\b 79%\b\b\b\b\b  OK \n",
            "Extracting  /content/Ultra/ds3/train/labels/Cars356.txt                  \b\b\b\b 79%\b\b\b\b\b  OK \n",
            "Extracting  /content/Ultra/ds3/train/labels/Cars357.txt                  \b\b\b\b 79%\b\b\b\b\b  OK \n",
            "Extracting  /content/Ultra/ds3/train/labels/Cars358.txt                  \b\b\b\b 79%\b\b\b\b\b  OK \n",
            "Extracting  /content/Ultra/ds3/train/labels/Cars359.txt                  \b\b\b\b 79%\b\b\b\b\b  OK \n",
            "Extracting  /content/Ultra/ds3/train/labels/Cars36.txt                   \b\b\b\b 79%\b\b\b\b\b  OK \n",
            "Extracting  /content/Ultra/ds3/train/labels/Cars361.txt                  \b\b\b\b 79%\b\b\b\b\b  OK \n",
            "Extracting  /content/Ultra/ds3/train/labels/Cars362.txt                  \b\b\b\b 79%\b\b\b\b\b  OK \n",
            "Extracting  /content/Ultra/ds3/train/labels/Cars363.txt                  \b\b\b\b 79%\b\b\b\b\b  OK \n",
            "Extracting  /content/Ultra/ds3/train/labels/Cars364.txt                  \b\b\b\b 79%\b\b\b\b\b  OK \n",
            "Extracting  /content/Ultra/ds3/train/labels/Cars365.txt                  \b\b\b\b 79%\b\b\b\b\b  OK \n",
            "Extracting  /content/Ultra/ds3/train/labels/Cars366.txt                  \b\b\b\b 79%\b\b\b\b\b  OK \n",
            "Extracting  /content/Ultra/ds3/train/labels/Cars367.txt                  \b\b\b\b 79%\b\b\b\b\b  OK \n",
            "Extracting  /content/Ultra/ds3/train/labels/Cars368.txt                  \b\b\b\b 79%\b\b\b\b\b  OK \n",
            "Extracting  /content/Ultra/ds3/train/labels/Cars369.txt                  \b\b\b\b 79%\b\b\b\b\b  OK \n",
            "Extracting  /content/Ultra/ds3/train/labels/Cars37.txt                   \b\b\b\b 79%\b\b\b\b\b  OK \n",
            "Extracting  /content/Ultra/ds3/train/labels/Cars371.txt                  \b\b\b\b 79%\b\b\b\b\b  OK \n",
            "Extracting  /content/Ultra/ds3/train/labels/Cars372.txt                  \b\b\b\b 79%\b\b\b\b\b  OK \n",
            "Extracting  /content/Ultra/ds3/train/labels/Cars373.txt                  \b\b\b\b 79%\b\b\b\b\b  OK \n",
            "Extracting  /content/Ultra/ds3/train/labels/Cars374.txt                  \b\b\b\b 79%\b\b\b\b\b  OK \n",
            "Extracting  /content/Ultra/ds3/train/labels/Cars375.txt                  \b\b\b\b 79%\b\b\b\b\b  OK \n",
            "Extracting  /content/Ultra/ds3/train/labels/Cars376.txt                  \b\b\b\b 79%\b\b\b\b\b  OK \n",
            "Extracting  /content/Ultra/ds3/train/labels/Cars377.txt                  \b\b\b\b 79%\b\b\b\b\b  OK \n",
            "Extracting  /content/Ultra/ds3/train/labels/Cars378.txt                  \b\b\b\b 79%\b\b\b\b\b  OK \n",
            "Extracting  /content/Ultra/ds3/train/labels/Cars379.txt                  \b\b\b\b 79%\b\b\b\b\b  OK \n",
            "Extracting  /content/Ultra/ds3/train/labels/Cars38.txt                   \b\b\b\b 79%\b\b\b\b\b  OK \n",
            "Extracting  /content/Ultra/ds3/train/labels/Cars380.txt                  \b\b\b\b 79%\b\b\b\b\b  OK \n",
            "Extracting  /content/Ultra/ds3/train/labels/Cars381.txt                  \b\b\b\b 79%\b\b\b\b\b  OK \n",
            "Extracting  /content/Ultra/ds3/train/labels/Cars382.txt                  \b\b\b\b 79%\b\b\b\b\b  OK \n",
            "Extracting  /content/Ultra/ds3/train/labels/Cars383.txt                  \b\b\b\b 79%\b\b\b\b\b  OK \n",
            "Extracting  /content/Ultra/ds3/train/labels/Cars384.txt                  \b\b\b\b 79%\b\b\b\b\b  OK \n",
            "Extracting  /content/Ultra/ds3/train/labels/Cars385.txt                  \b\b\b\b 79%\b\b\b\b\b  OK \n",
            "Extracting  /content/Ultra/ds3/train/labels/Cars386.txt                  \b\b\b\b 79%\b\b\b\b\b  OK \n",
            "Extracting  /content/Ultra/ds3/train/labels/Cars387.txt                  \b\b\b\b 79%\b\b\b\b\b  OK \n",
            "Extracting  /content/Ultra/ds3/train/labels/Cars389.txt                  \b\b\b\b 79%\b\b\b\b\b  OK \n",
            "Extracting  /content/Ultra/ds3/train/labels/Cars39.txt                   \b\b\b\b 79%\b\b\b\b\b  OK \n",
            "Extracting  /content/Ultra/ds3/train/labels/Cars390.txt                  \b\b\b\b 79%\b\b\b\b\b  OK \n",
            "Extracting  /content/Ultra/ds3/train/labels/Cars391.txt                  \b\b\b\b 79%\b\b\b\b\b  OK \n",
            "Extracting  /content/Ultra/ds3/train/labels/Cars392.txt                  \b\b\b\b 79%\b\b\b\b\b  OK \n",
            "Extracting  /content/Ultra/ds3/train/labels/Cars395.txt                  \b\b\b\b 79%\b\b\b\b\b  OK \n",
            "Extracting  /content/Ultra/ds3/train/labels/Cars397.txt                  \b\b\b\b 79%\b\b\b\b\b  OK \n",
            "Extracting  /content/Ultra/ds3/train/labels/Cars398.txt                  \b\b\b\b 79%\b\b\b\b\b  OK \n",
            "Extracting  /content/Ultra/ds3/train/labels/Cars399.txt                  \b\b\b\b 79%\b\b\b\b\b  OK \n",
            "Extracting  /content/Ultra/ds3/train/labels/Cars4.txt                    \b\b\b\b 79%\b\b\b\b\b  OK \n",
            "Extracting  /content/Ultra/ds3/train/labels/Cars40.txt                   \b\b\b\b 79%\b\b\b\b\b  OK \n",
            "Extracting  /content/Ultra/ds3/train/labels/Cars400.txt                  \b\b\b\b 79%\b\b\b\b\b  OK \n",
            "Extracting  /content/Ultra/ds3/train/labels/Cars402.txt                  \b\b\b\b 79%\b\b\b\b\b  OK \n",
            "Extracting  /content/Ultra/ds3/train/labels/Cars403.txt                  \b\b\b\b 79%\b\b\b\b\b  OK \n",
            "Extracting  /content/Ultra/ds3/train/labels/Cars404.txt                  \b\b\b\b 79%\b\b\b\b\b  OK \n",
            "Extracting  /content/Ultra/ds3/train/labels/Cars405.txt                  \b\b\b\b 79%\b\b\b\b\b  OK \n",
            "Extracting  /content/Ultra/ds3/train/labels/Cars406.txt                  \b\b\b\b 79%\b\b\b\b\b  OK \n",
            "Extracting  /content/Ultra/ds3/train/labels/Cars407.txt                  \b\b\b\b 79%\b\b\b\b\b  OK \n",
            "Extracting  /content/Ultra/ds3/train/labels/Cars408.txt                  \b\b\b\b 79%\b\b\b\b\b  OK \n",
            "Extracting  /content/Ultra/ds3/train/labels/Cars409.txt                  \b\b\b\b 79%\b\b\b\b\b  OK \n",
            "Extracting  /content/Ultra/ds3/train/labels/Cars41.txt                   \b\b\b\b 79%\b\b\b\b\b  OK \n",
            "Extracting  /content/Ultra/ds3/train/labels/Cars410.txt                  \b\b\b\b 79%\b\b\b\b\b  OK \n",
            "Extracting  /content/Ultra/ds3/train/labels/Cars411.txt                  \b\b\b\b 79%\b\b\b\b\b  OK \n",
            "Extracting  /content/Ultra/ds3/train/labels/Cars412.txt                  \b\b\b\b 79%\b\b\b\b\b  OK \n",
            "Extracting  /content/Ultra/ds3/train/labels/Cars413.txt                  \b\b\b\b 79%\b\b\b\b\b  OK \n",
            "Extracting  /content/Ultra/ds3/train/labels/Cars414.txt                  \b\b\b\b 79%\b\b\b\b\b  OK \n",
            "Extracting  /content/Ultra/ds3/train/labels/Cars417.txt                  \b\b\b\b 79%\b\b\b\b\b  OK \n",
            "Extracting  /content/Ultra/ds3/train/labels/Cars418.txt                  \b\b\b\b 79%\b\b\b\b\b  OK \n",
            "Extracting  /content/Ultra/ds3/train/labels/Cars420.txt                  \b\b\b\b 79%\b\b\b\b\b  OK \n",
            "Extracting  /content/Ultra/ds3/train/labels/Cars421.txt                  \b\b\b\b 79%\b\b\b\b\b  OK \n",
            "Extracting  /content/Ultra/ds3/train/labels/Cars424.txt                  \b\b\b\b 79%\b\b\b\b\b  OK \n",
            "Extracting  /content/Ultra/ds3/train/labels/Cars425.txt                  \b\b\b\b 79%\b\b\b\b\b  OK \n",
            "Extracting  /content/Ultra/ds3/train/labels/Cars426.txt                  \b\b\b\b 79%\b\b\b\b\b  OK \n",
            "Extracting  /content/Ultra/ds3/train/labels/Cars427.txt                  \b\b\b\b 79%\b\b\b\b\b  OK \n",
            "Extracting  /content/Ultra/ds3/train/labels/Cars428.txt                  \b\b\b\b 79%\b\b\b\b\b  OK \n",
            "Extracting  /content/Ultra/ds3/train/labels/Cars429.txt                  \b\b\b\b 79%\b\b\b\b\b  OK \n",
            "Extracting  /content/Ultra/ds3/train/labels/Cars43.txt                   \b\b\b\b 79%\b\b\b\b\b  OK \n",
            "Extracting  /content/Ultra/ds3/train/labels/Cars430.txt                  \b\b\b\b 79%\b\b\b\b\b  OK \n",
            "Extracting  /content/Ultra/ds3/train/labels/Cars431.txt                  \b\b\b\b 79%\b\b\b\b\b  OK \n",
            "Extracting  /content/Ultra/ds3/train/labels/Cars432.txt                  \b\b\b\b 79%\b\b\b\b\b  OK \n",
            "Extracting  /content/Ultra/ds3/train/labels/Cars45.txt                   \b\b\b\b 79%\b\b\b\b\b  OK \n",
            "Extracting  /content/Ultra/ds3/train/labels/Cars46.txt                   \b\b\b\b 79%\b\b\b\b\b  OK \n",
            "Extracting  /content/Ultra/ds3/train/labels/Cars47.txt                   \b\b\b\b 79%\b\b\b\b\b  OK \n",
            "Extracting  /content/Ultra/ds3/train/labels/Cars48.txt                   \b\b\b\b 79%\b\b\b\b\b  OK \n",
            "Extracting  /content/Ultra/ds3/train/labels/Cars49.txt                   \b\b\b\b 79%\b\b\b\b\b  OK \n",
            "Extracting  /content/Ultra/ds3/train/labels/Cars5.txt                    \b\b\b\b 79%\b\b\b\b\b  OK \n",
            "Extracting  /content/Ultra/ds3/train/labels/Cars50.txt                   \b\b\b\b 79%\b\b\b\b\b  OK \n",
            "Extracting  /content/Ultra/ds3/train/labels/Cars51.txt                   \b\b\b\b 79%\b\b\b\b\b  OK \n",
            "Extracting  /content/Ultra/ds3/train/labels/Cars52.txt                   \b\b\b\b 79%\b\b\b\b\b  OK \n",
            "Extracting  /content/Ultra/ds3/train/labels/Cars53.txt                   \b\b\b\b 79%\b\b\b\b\b  OK \n",
            "Extracting  /content/Ultra/ds3/train/labels/Cars54.txt                   \b\b\b\b 79%\b\b\b\b\b  OK \n",
            "Extracting  /content/Ultra/ds3/train/labels/Cars55.txt                   \b\b\b\b 79%\b\b\b\b\b  OK \n",
            "Extracting  /content/Ultra/ds3/train/labels/Cars56.txt                   \b\b\b\b 79%\b\b\b\b\b  OK \n",
            "Extracting  /content/Ultra/ds3/train/labels/Cars57.txt                   \b\b\b\b 79%\b\b\b\b\b  OK \n",
            "Extracting  /content/Ultra/ds3/train/labels/Cars58.txt                   \b\b\b\b 79%\b\b\b\b\b  OK \n",
            "Extracting  /content/Ultra/ds3/train/labels/Cars59.txt                   \b\b\b\b 79%\b\b\b\b\b  OK \n",
            "Extracting  /content/Ultra/ds3/train/labels/Cars6.txt                    \b\b\b\b 79%\b\b\b\b\b  OK \n",
            "Extracting  /content/Ultra/ds3/train/labels/Cars60.txt                   \b\b\b\b 79%\b\b\b\b\b  OK \n",
            "Extracting  /content/Ultra/ds3/train/labels/Cars61.txt                   \b\b\b\b 79%\b\b\b\b\b  OK \n",
            "Extracting  /content/Ultra/ds3/train/labels/Cars64.txt                   \b\b\b\b 79%\b\b\b\b\b  OK \n",
            "Extracting  /content/Ultra/ds3/train/labels/Cars65.txt                   \b\b\b\b 79%\b\b\b\b\b  OK \n",
            "Extracting  /content/Ultra/ds3/train/labels/Cars67.txt                   \b\b\b\b 79%\b\b\b\b\b  OK \n",
            "Extracting  /content/Ultra/ds3/train/labels/Cars68.txt                   \b\b\b\b 79%\b\b\b\b\b  OK \n",
            "Extracting  /content/Ultra/ds3/train/labels/Cars69.txt                   \b\b\b\b 79%\b\b\b\b\b  OK \n",
            "Extracting  /content/Ultra/ds3/train/labels/Cars7.txt                    \b\b\b\b 79%\b\b\b\b\b  OK \n",
            "Extracting  /content/Ultra/ds3/train/labels/Cars70.txt                   \b\b\b\b 79%\b\b\b\b\b  OK \n",
            "Extracting  /content/Ultra/ds3/train/labels/Cars73.txt                   \b\b\b\b 79%\b\b\b\b\b  OK \n",
            "Extracting  /content/Ultra/ds3/train/labels/Cars74.txt                   \b\b\b\b 79%\b\b\b\b\b  OK \n",
            "Extracting  /content/Ultra/ds3/train/labels/Cars76.txt                   \b\b\b\b 79%\b\b\b\b\b  OK \n",
            "Extracting  /content/Ultra/ds3/train/labels/Cars78.txt                   \b\b\b\b 79%\b\b\b\b\b  OK \n",
            "Extracting  /content/Ultra/ds3/train/labels/Cars79.txt                   \b\b\b\b 79%\b\b\b\b\b  OK \n",
            "Extracting  /content/Ultra/ds3/train/labels/Cars80.txt                   \b\b\b\b 79%\b\b\b\b\b  OK \n",
            "Extracting  /content/Ultra/ds3/train/labels/Cars81.txt                   \b\b\b\b 79%\b\b\b\b\b  OK \n",
            "Extracting  /content/Ultra/ds3/train/labels/Cars83.txt                   \b\b\b\b 79%\b\b\b\b\b  OK \n",
            "Extracting  /content/Ultra/ds3/train/labels/Cars88.txt                   \b\b\b\b 79%\b\b\b\b\b  OK \n",
            "Extracting  /content/Ultra/ds3/train/labels/Cars89.txt                   \b\b\b\b 79%\b\b\b\b\b  OK \n",
            "Extracting  /content/Ultra/ds3/train/labels/Cars9.txt                    \b\b\b\b 79%\b\b\b\b\b  OK \n",
            "Extracting  /content/Ultra/ds3/train/labels/Cars90.txt                   \b\b\b\b 79%\b\b\b\b\b  OK \n",
            "Extracting  /content/Ultra/ds3/train/labels/Cars91.txt                   \b\b\b\b 79%\b\b\b\b\b  OK \n",
            "Extracting  /content/Ultra/ds3/train/labels/Cars92.txt                   \b\b\b\b 79%\b\b\b\b\b  OK \n",
            "Extracting  /content/Ultra/ds3/train/labels/Cars93.txt                   \b\b\b\b 79%\b\b\b\b\b  OK \n",
            "Extracting  /content/Ultra/ds3/train/labels/Cars94.txt                   \b\b\b\b 79%\b\b\b\b\b  OK \n",
            "Extracting  /content/Ultra/ds3/train/labels/Cars95.txt                   \b\b\b\b 79%\b\b\b\b\b  OK \n",
            "Extracting  /content/Ultra/ds3/train/labels/Cars96.txt                   \b\b\b\b 79%\b\b\b\b\b  OK \n",
            "Extracting  /content/Ultra/ds3/train/labels/Cars97.txt                   \b\b\b\b 79%\b\b\b\b\b  OK \n",
            "Extracting  /content/Ultra/ds3/train/labels/Cars98.txt                   \b\b\b\b 79%\b\b\b\b\b  OK \n",
            "Extracting  /content/Ultra/ds3/train/labels/Cars99.txt                   \b\b\b\b 79%\b\b\b\b\b  OK \n",
            "Extracting  /content/Ultra/ds3/train/labels.cache                        \b\b\b\b 79%\b\b\b\b\b  OK \n",
            "Creating    /content/Ultra/ds3/val                                    OK\n",
            "Creating    /content/Ultra/ds3/val/images                             OK\n",
            "Extracting  /content/Ultra/ds3/val/images/Cars109.png                    \b\b\b\b 79%\b\b\b\b\b  OK \n",
            "Extracting  /content/Ultra/ds3/val/images/Cars110.png                    \b\b\b\b 79%\b\b\b\b\b  OK \n",
            "Extracting  /content/Ultra/ds3/val/images/Cars119.png                    \b\b\b\b 79%\b\b\b\b\b  OK \n",
            "Extracting  /content/Ultra/ds3/val/images/Cars12.png                     \b\b\b\b 80%\b\b\b\b\b  OK \n",
            "Extracting  /content/Ultra/ds3/val/images/Cars120.png                    \b\b\b\b 80%\b\b\b\b\b  OK \n",
            "Extracting  /content/Ultra/ds3/val/images/Cars127.png                    \b\b\b\b 80%\b\b\b\b\b  OK \n",
            "Extracting  /content/Ultra/ds3/val/images/Cars135.png                    \b\b\b\b 80%\b\b\b\b\b  OK \n",
            "Extracting  /content/Ultra/ds3/val/images/Cars156.png                    \b\b\b\b 81%\b\b\b\b\b  OK \n",
            "Extracting  /content/Ultra/ds3/val/images/Cars157.png                    \b\b\b\b 81%\b\b\b\b\b  OK \n",
            "Extracting  /content/Ultra/ds3/val/images/Cars159.png                    \b\b\b\b 81%\b\b\b\b\b  OK \n",
            "Extracting  /content/Ultra/ds3/val/images/Cars161.png                    \b\b\b\b 81%\b\b\b\b\b  OK \n",
            "Extracting  /content/Ultra/ds3/val/images/Cars162.png                    \b\b\b\b 81%\b\b\b\b\b  OK \n",
            "Extracting  /content/Ultra/ds3/val/images/Cars164.png                    \b\b\b\b 82%\b\b\b\b\b  OK \n",
            "Extracting  /content/Ultra/ds3/val/images/Cars165.png                    \b\b\b\b 82%\b\b\b\b\b  OK \n",
            "Extracting  /content/Ultra/ds3/val/images/Cars166.png                    \b\b\b\b 82%\b\b\b\b\b  OK \n",
            "Extracting  /content/Ultra/ds3/val/images/Cars174.png                    \b\b\b\b 82%\b\b\b\b\b  OK \n",
            "Extracting  /content/Ultra/ds3/val/images/Cars178.png                    \b\b\b\b 83%\b\b\b\b\b  OK \n",
            "Extracting  /content/Ultra/ds3/val/images/Cars179.png                    \b\b\b\b 83%\b\b\b\b\b  OK \n",
            "Extracting  /content/Ultra/ds3/val/images/Cars183.png                    \b\b\b\b 83%\b\b\b\b\b  OK \n",
            "Extracting  /content/Ultra/ds3/val/images/Cars194.png                    \b\b\b\b 83%\b\b\b\b\b  OK \n",
            "Extracting  /content/Ultra/ds3/val/images/Cars198.png                    \b\b\b\b 83%\b\b\b\b\b  OK \n",
            "Extracting  /content/Ultra/ds3/val/images/Cars2.png                      \b\b\b\b 84%\b\b\b\b\b  OK \n",
            "Extracting  /content/Ultra/ds3/val/images/Cars202.png                    \b\b\b\b 84%\b\b\b\b\b  OK \n",
            "Extracting  /content/Ultra/ds3/val/images/Cars208.png                    \b\b\b\b 84%\b\b\b\b\b  OK \n",
            "Extracting  /content/Ultra/ds3/val/images/Cars21.png                     \b\b\b\b 84%\b\b\b\b\b  OK \n",
            "Extracting  /content/Ultra/ds3/val/images/Cars210.png                    \b\b\b\b 85%\b\b\b\b\b  OK \n",
            "Extracting  /content/Ultra/ds3/val/images/Cars218.png                    \b\b\b\b 85%\b\b\b\b\b  OK \n",
            "Extracting  /content/Ultra/ds3/val/images/Cars229.png                    \b\b\b\b 85%\b\b\b\b\b  OK \n",
            "Extracting  /content/Ultra/ds3/val/images/Cars230.png                    \b\b\b\b 85%\b\b\b\b\b  OK \n",
            "Extracting  /content/Ultra/ds3/val/images/Cars242.png                    \b\b\b\b 86%\b\b\b\b\b  OK \n",
            "Extracting  /content/Ultra/ds3/val/images/Cars246.png                    \b\b\b\b 86%\b\b\b\b\b  OK \n",
            "Extracting  /content/Ultra/ds3/val/images/Cars25.png                     \b\b\b\b 86%\b\b\b\b\b  OK \n",
            "Extracting  /content/Ultra/ds3/val/images/Cars253.png                    \b\b\b\b 86%\b\b\b\b\b  OK \n",
            "Extracting  /content/Ultra/ds3/val/images/Cars254.png                    \b\b\b\b 87%\b\b\b\b\b  OK \n",
            "Extracting  /content/Ultra/ds3/val/images/Cars255.png                    \b\b\b\b 87%\b\b\b\b\b  OK \n",
            "Extracting  /content/Ultra/ds3/val/images/Cars257.png                    \b\b\b\b 87%\b\b\b\b\b  OK \n",
            "Extracting  /content/Ultra/ds3/val/images/Cars260.png                    \b\b\b\b 88%\b\b\b\b\b  OK \n",
            "Extracting  /content/Ultra/ds3/val/images/Cars265.png                    \b\b\b\b 88%\b\b\b\b\b  OK \n",
            "Extracting  /content/Ultra/ds3/val/images/Cars266.png                    \b\b\b\b 88%\b\b\b\b\b  OK \n",
            "Extracting  /content/Ultra/ds3/val/images/Cars273.png                    \b\b\b\b 88%\b\b\b\b\b  OK \n",
            "Extracting  /content/Ultra/ds3/val/images/Cars276.png                    \b\b\b\b 88%\b\b\b\b\b  OK \n",
            "Extracting  /content/Ultra/ds3/val/images/Cars28.png                     \b\b\b\b 89%\b\b\b\b\b  OK \n",
            "Extracting  /content/Ultra/ds3/val/images/Cars281.png                    \b\b\b\b 89%\b\b\b\b\b  OK \n",
            "Extracting  /content/Ultra/ds3/val/images/Cars284.png                    \b\b\b\b 89%\b\b\b\b\b  OK \n",
            "Extracting  /content/Ultra/ds3/val/images/Cars287.png                    \b\b\b\b 89%\b\b\b\b\b  OK \n",
            "Extracting  /content/Ultra/ds3/val/images/Cars307.png                    \b\b\b\b 89%\b\b\b\b\b  OK \n",
            "Extracting  /content/Ultra/ds3/val/images/Cars311.png                    \b\b\b\b 90%\b\b\b\b\b  OK \n",
            "Extracting  /content/Ultra/ds3/val/images/Cars319.png                    \b\b\b\b 90%\b\b\b\b\b  OK \n",
            "Extracting  /content/Ultra/ds3/val/images/Cars32.png                     \b\b\b\b 90%\b\b\b\b\b  OK \n",
            "Extracting  /content/Ultra/ds3/val/images/Cars320.png                    \b\b\b\b 90%\b\b\b\b\b  OK \n",
            "Extracting  /content/Ultra/ds3/val/images/Cars323.png                    \b\b\b\b 91%\b\b\b\b\b  OK \n",
            "Extracting  /content/Ultra/ds3/val/images/Cars328.png                    \b\b\b\b 91%\b\b\b\b\b  OK \n",
            "Extracting  /content/Ultra/ds3/val/images/Cars33.png                     \b\b\b\b 91%\b\b\b\b\b  OK \n",
            "Extracting  /content/Ultra/ds3/val/images/Cars333.png                    \b\b\b\b 91%\b\b\b\b\b  OK \n",
            "Extracting  /content/Ultra/ds3/val/images/Cars334.png                    \b\b\b\b 91%\b\b\b\b\b  OK \n",
            "Extracting  /content/Ultra/ds3/val/images/Cars34.png                     \b\b\b\b 92%\b\b\b\b\b  OK \n",
            "Extracting  /content/Ultra/ds3/val/images/Cars340.png                    \b\b\b\b 92%\b\b\b\b\b  OK \n",
            "Extracting  /content/Ultra/ds3/val/images/Cars343.png                    \b\b\b\b 92%\b\b\b\b\b  OK \n",
            "Extracting  /content/Ultra/ds3/val/images/Cars350.png                    \b\b\b\b 93%\b\b\b\b\b  OK \n",
            "Extracting  /content/Ultra/ds3/val/images/Cars355.png                    \b\b\b\b 93%\b\b\b\b\b  OK \n",
            "Extracting  /content/Ultra/ds3/val/images/Cars360.png                    \b\b\b\b 93%\b\b\b\b\b  OK \n",
            "Extracting  /content/Ultra/ds3/val/images/Cars370.png                    \b\b\b\b 93%\b\b\b\b\b  OK \n",
            "Extracting  /content/Ultra/ds3/val/images/Cars388.png                    \b\b\b\b 94%\b\b\b\b\b  OK \n",
            "Extracting  /content/Ultra/ds3/val/images/Cars393.png                    \b\b\b\b 94%\b\b\b\b\b  OK \n",
            "Extracting  /content/Ultra/ds3/val/images/Cars394.png                    \b\b\b\b 94%\b\b\b\b\b  OK \n",
            "Extracting  /content/Ultra/ds3/val/images/Cars396.png                    \b\b\b\b 94%\b\b\b\b\b  OK \n",
            "Extracting  /content/Ultra/ds3/val/images/Cars401.png                    \b\b\b\b 95%\b\b\b\b\b  OK \n",
            "Extracting  /content/Ultra/ds3/val/images/Cars415.png                    \b\b\b\b 95%\b\b\b\b\b  OK \n",
            "Extracting  /content/Ultra/ds3/val/images/Cars416.png                    \b\b\b\b 95%\b\b\b\b\b  OK \n",
            "Extracting  /content/Ultra/ds3/val/images/Cars419.png                    \b\b\b\b 96%\b\b\b\b\b  OK \n",
            "Extracting  /content/Ultra/ds3/val/images/Cars42.png                     \b\b\b\b 96%\b\b\b\b\b  OK \n",
            "Extracting  /content/Ultra/ds3/val/images/Cars422.png                    \b\b\b\b 96%\b\b\b\b\b  OK \n",
            "Extracting  /content/Ultra/ds3/val/images/Cars423.png                    \b\b\b\b 96%\b\b\b\b\b  OK \n",
            "Extracting  /content/Ultra/ds3/val/images/Cars44.png                     \b\b\b\b 96%\b\b\b\b\b  OK \n",
            "Extracting  /content/Ultra/ds3/val/images/Cars62.png                     \b\b\b\b 96%\b\b\b\b\b  OK \n",
            "Extracting  /content/Ultra/ds3/val/images/Cars63.png                     \b\b\b\b 97%\b\b\b\b\b  OK \n",
            "Extracting  /content/Ultra/ds3/val/images/Cars66.png                     \b\b\b\b 97%\b\b\b\b\b  OK \n",
            "Extracting  /content/Ultra/ds3/val/images/Cars71.png                     \b\b\b\b 97%\b\b\b\b\b  OK \n",
            "Extracting  /content/Ultra/ds3/val/images/Cars72.png                     \b\b\b\b 98%\b\b\b\b\b  OK \n",
            "Extracting  /content/Ultra/ds3/val/images/Cars75.png                     \b\b\b\b 98%\b\b\b\b\b  OK \n",
            "Extracting  /content/Ultra/ds3/val/images/Cars77.png                     \b\b\b\b 98%\b\b\b\b\b  OK \n",
            "Extracting  /content/Ultra/ds3/val/images/Cars8.png                      \b\b\b\b 98%\b\b\b\b\b  OK \n",
            "Extracting  /content/Ultra/ds3/val/images/Cars82.png                     \b\b\b\b 98%\b\b\b\b\b  OK \n",
            "Extracting  /content/Ultra/ds3/val/images/Cars84.png                     \b\b\b\b 99%\b\b\b\b\b  OK \n",
            "Extracting  /content/Ultra/ds3/val/images/Cars85.png                     \b\b\b\b 99%\b\b\b\b\b  OK \n",
            "Extracting  /content/Ultra/ds3/val/images/Cars86.png                     \b\b\b\b 99%\b\b\b\b\b  OK \n",
            "Extracting  /content/Ultra/ds3/val/images/Cars87.png                     \b\b\b\b 99%\b\b\b\b\b  OK \n",
            "Creating    /content/Ultra/ds3/val/labels                             OK\n",
            "Extracting  /content/Ultra/ds3/val/labels/Cars109.txt                    \b\b\b\b 99%\b\b\b\b\b  OK \n",
            "Extracting  /content/Ultra/ds3/val/labels/Cars110.txt                    \b\b\b\b 99%\b\b\b\b\b  OK \n",
            "Extracting  /content/Ultra/ds3/val/labels/Cars119.txt                    \b\b\b\b 99%\b\b\b\b\b  OK \n",
            "Extracting  /content/Ultra/ds3/val/labels/Cars12.txt                     \b\b\b\b 99%\b\b\b\b\b  OK \n",
            "Extracting  /content/Ultra/ds3/val/labels/Cars120.txt                    \b\b\b\b 99%\b\b\b\b\b  OK \n",
            "Extracting  /content/Ultra/ds3/val/labels/Cars127.txt                    \b\b\b\b 99%\b\b\b\b\b  OK \n",
            "Extracting  /content/Ultra/ds3/val/labels/Cars135.txt                    \b\b\b\b 99%\b\b\b\b\b  OK \n",
            "Extracting  /content/Ultra/ds3/val/labels/Cars156.txt                    \b\b\b\b 99%\b\b\b\b\b  OK \n",
            "Extracting  /content/Ultra/ds3/val/labels/Cars157.txt                    \b\b\b\b 99%\b\b\b\b\b  OK \n",
            "Extracting  /content/Ultra/ds3/val/labels/Cars159.txt                    \b\b\b\b 99%\b\b\b\b\b  OK \n",
            "Extracting  /content/Ultra/ds3/val/labels/Cars161.txt                    \b\b\b\b 99%\b\b\b\b\b  OK \n",
            "Extracting  /content/Ultra/ds3/val/labels/Cars162.txt                    \b\b\b\b 99%\b\b\b\b\b  OK \n",
            "Extracting  /content/Ultra/ds3/val/labels/Cars164.txt                    \b\b\b\b 99%\b\b\b\b\b  OK \n",
            "Extracting  /content/Ultra/ds3/val/labels/Cars165.txt                    \b\b\b\b 99%\b\b\b\b\b  OK \n",
            "Extracting  /content/Ultra/ds3/val/labels/Cars166.txt                    \b\b\b\b 99%\b\b\b\b\b  OK \n",
            "Extracting  /content/Ultra/ds3/val/labels/Cars174.txt                    \b\b\b\b 99%\b\b\b\b\b  OK \n",
            "Extracting  /content/Ultra/ds3/val/labels/Cars178.txt                    \b\b\b\b 99%\b\b\b\b\b  OK \n",
            "Extracting  /content/Ultra/ds3/val/labels/Cars179.txt                    \b\b\b\b 99%\b\b\b\b\b  OK \n",
            "Extracting  /content/Ultra/ds3/val/labels/Cars183.txt                    \b\b\b\b 99%\b\b\b\b\b  OK \n",
            "Extracting  /content/Ultra/ds3/val/labels/Cars194.txt                    \b\b\b\b 99%\b\b\b\b\b  OK \n",
            "Extracting  /content/Ultra/ds3/val/labels/Cars198.txt                    \b\b\b\b 99%\b\b\b\b\b  OK \n",
            "Extracting  /content/Ultra/ds3/val/labels/Cars2.txt                      \b\b\b\b 99%\b\b\b\b\b  OK \n",
            "Extracting  /content/Ultra/ds3/val/labels/Cars202.txt                    \b\b\b\b 99%\b\b\b\b\b  OK \n",
            "Extracting  /content/Ultra/ds3/val/labels/Cars208.txt                    \b\b\b\b 99%\b\b\b\b\b  OK \n",
            "Extracting  /content/Ultra/ds3/val/labels/Cars21.txt                     \b\b\b\b 99%\b\b\b\b\b  OK \n",
            "Extracting  /content/Ultra/ds3/val/labels/Cars210.txt                    \b\b\b\b 99%\b\b\b\b\b  OK \n",
            "Extracting  /content/Ultra/ds3/val/labels/Cars218.txt                    \b\b\b\b 99%\b\b\b\b\b  OK \n",
            "Extracting  /content/Ultra/ds3/val/labels/Cars229.txt                    \b\b\b\b 99%\b\b\b\b\b  OK \n",
            "Extracting  /content/Ultra/ds3/val/labels/Cars230.txt                    \b\b\b\b 99%\b\b\b\b\b  OK \n",
            "Extracting  /content/Ultra/ds3/val/labels/Cars242.txt                    \b\b\b\b 99%\b\b\b\b\b  OK \n",
            "Extracting  /content/Ultra/ds3/val/labels/Cars246.txt                    \b\b\b\b 99%\b\b\b\b\b  OK \n",
            "Extracting  /content/Ultra/ds3/val/labels/Cars25.txt                     \b\b\b\b 99%\b\b\b\b\b  OK \n",
            "Extracting  /content/Ultra/ds3/val/labels/Cars253.txt                    \b\b\b\b 99%\b\b\b\b\b  OK \n",
            "Extracting  /content/Ultra/ds3/val/labels/Cars254.txt                    \b\b\b\b 99%\b\b\b\b\b  OK \n",
            "Extracting  /content/Ultra/ds3/val/labels/Cars255.txt                    \b\b\b\b 99%\b\b\b\b\b  OK \n",
            "Extracting  /content/Ultra/ds3/val/labels/Cars257.txt                    \b\b\b\b 99%\b\b\b\b\b  OK \n",
            "Extracting  /content/Ultra/ds3/val/labels/Cars260.txt                    \b\b\b\b 99%\b\b\b\b\b  OK \n",
            "Extracting  /content/Ultra/ds3/val/labels/Cars265.txt                    \b\b\b\b 99%\b\b\b\b\b  OK \n",
            "Extracting  /content/Ultra/ds3/val/labels/Cars266.txt                    \b\b\b\b 99%\b\b\b\b\b  OK \n",
            "Extracting  /content/Ultra/ds3/val/labels/Cars273.txt                    \b\b\b\b 99%\b\b\b\b\b  OK \n",
            "Extracting  /content/Ultra/ds3/val/labels/Cars276.txt                    \b\b\b\b 99%\b\b\b\b\b  OK \n",
            "Extracting  /content/Ultra/ds3/val/labels/Cars28.txt                     \b\b\b\b 99%\b\b\b\b\b  OK \n",
            "Extracting  /content/Ultra/ds3/val/labels/Cars281.txt                    \b\b\b\b 99%\b\b\b\b\b  OK \n",
            "Extracting  /content/Ultra/ds3/val/labels/Cars284.txt                    \b\b\b\b 99%\b\b\b\b\b  OK \n",
            "Extracting  /content/Ultra/ds3/val/labels/Cars287.txt                    \b\b\b\b 99%\b\b\b\b\b  OK \n",
            "Extracting  /content/Ultra/ds3/val/labels/Cars307.txt                    \b\b\b\b 99%\b\b\b\b\b  OK \n",
            "Extracting  /content/Ultra/ds3/val/labels/Cars311.txt                    \b\b\b\b 99%\b\b\b\b\b  OK \n",
            "Extracting  /content/Ultra/ds3/val/labels/Cars319.txt                    \b\b\b\b 99%\b\b\b\b\b  OK \n",
            "Extracting  /content/Ultra/ds3/val/labels/Cars32.txt                     \b\b\b\b 99%\b\b\b\b\b  OK \n",
            "Extracting  /content/Ultra/ds3/val/labels/Cars320.txt                    \b\b\b\b 99%\b\b\b\b\b  OK \n",
            "Extracting  /content/Ultra/ds3/val/labels/Cars323.txt                    \b\b\b\b 99%\b\b\b\b\b  OK \n",
            "Extracting  /content/Ultra/ds3/val/labels/Cars328.txt                    \b\b\b\b 99%\b\b\b\b\b  OK \n",
            "Extracting  /content/Ultra/ds3/val/labels/Cars33.txt                     \b\b\b\b 99%\b\b\b\b\b  OK \n",
            "Extracting  /content/Ultra/ds3/val/labels/Cars333.txt                    \b\b\b\b 99%\b\b\b\b\b  OK \n",
            "Extracting  /content/Ultra/ds3/val/labels/Cars334.txt                    \b\b\b\b 99%\b\b\b\b\b  OK \n",
            "Extracting  /content/Ultra/ds3/val/labels/Cars34.txt                     \b\b\b\b 99%\b\b\b\b\b  OK \n",
            "Extracting  /content/Ultra/ds3/val/labels/Cars340.txt                    \b\b\b\b 99%\b\b\b\b\b  OK \n",
            "Extracting  /content/Ultra/ds3/val/labels/Cars343.txt                    \b\b\b\b 99%\b\b\b\b\b  OK \n",
            "Extracting  /content/Ultra/ds3/val/labels/Cars350.txt                    \b\b\b\b 99%\b\b\b\b\b  OK \n",
            "Extracting  /content/Ultra/ds3/val/labels/Cars355.txt                    \b\b\b\b 99%\b\b\b\b\b  OK \n",
            "Extracting  /content/Ultra/ds3/val/labels/Cars360.txt                    \b\b\b\b 99%\b\b\b\b\b  OK \n",
            "Extracting  /content/Ultra/ds3/val/labels/Cars370.txt                    \b\b\b\b 99%\b\b\b\b\b  OK \n",
            "Extracting  /content/Ultra/ds3/val/labels/Cars388.txt                    \b\b\b\b 99%\b\b\b\b\b  OK \n",
            "Extracting  /content/Ultra/ds3/val/labels/Cars393.txt                    \b\b\b\b 99%\b\b\b\b\b  OK \n",
            "Extracting  /content/Ultra/ds3/val/labels/Cars394.txt                    \b\b\b\b 99%\b\b\b\b\b  OK \n",
            "Extracting  /content/Ultra/ds3/val/labels/Cars396.txt                    \b\b\b\b 99%\b\b\b\b\b  OK \n",
            "Extracting  /content/Ultra/ds3/val/labels/Cars401.txt                    \b\b\b\b 99%\b\b\b\b\b  OK \n",
            "Extracting  /content/Ultra/ds3/val/labels/Cars415.txt                    \b\b\b\b 99%\b\b\b\b\b  OK \n",
            "Extracting  /content/Ultra/ds3/val/labels/Cars416.txt                    \b\b\b\b 99%\b\b\b\b\b  OK \n",
            "Extracting  /content/Ultra/ds3/val/labels/Cars419.txt                    \b\b\b\b 99%\b\b\b\b\b  OK \n",
            "Extracting  /content/Ultra/ds3/val/labels/Cars42.txt                     \b\b\b\b 99%\b\b\b\b\b  OK \n",
            "Extracting  /content/Ultra/ds3/val/labels/Cars422.txt                    \b\b\b\b 99%\b\b\b\b\b  OK \n",
            "Extracting  /content/Ultra/ds3/val/labels/Cars423.txt                    \b\b\b\b 99%\b\b\b\b\b  OK \n",
            "Extracting  /content/Ultra/ds3/val/labels/Cars44.txt                     \b\b\b\b 99%\b\b\b\b\b  OK \n",
            "Extracting  /content/Ultra/ds3/val/labels/Cars62.txt                     \b\b\b\b 99%\b\b\b\b\b  OK \n",
            "Extracting  /content/Ultra/ds3/val/labels/Cars63.txt                     \b\b\b\b 99%\b\b\b\b\b  OK \n",
            "Extracting  /content/Ultra/ds3/val/labels/Cars66.txt                     \b\b\b\b 99%\b\b\b\b\b  OK \n",
            "Extracting  /content/Ultra/ds3/val/labels/Cars71.txt                     \b\b\b\b 99%\b\b\b\b\b  OK \n",
            "Extracting  /content/Ultra/ds3/val/labels/Cars72.txt                     \b\b\b\b 99%\b\b\b\b\b  OK \n",
            "Extracting  /content/Ultra/ds3/val/labels/Cars75.txt                     \b\b\b\b 99%\b\b\b\b\b  OK \n",
            "Extracting  /content/Ultra/ds3/val/labels/Cars77.txt                     \b\b\b\b 99%\b\b\b\b\b  OK \n",
            "Extracting  /content/Ultra/ds3/val/labels/Cars8.txt                      \b\b\b\b 99%\b\b\b\b\b  OK \n",
            "Extracting  /content/Ultra/ds3/val/labels/Cars82.txt                     \b\b\b\b 99%\b\b\b\b\b  OK \n",
            "Extracting  /content/Ultra/ds3/val/labels/Cars84.txt                     \b\b\b\b 99%\b\b\b\b\b  OK \n",
            "Extracting  /content/Ultra/ds3/val/labels/Cars85.txt                     \b\b\b\b 99%\b\b\b\b\b  OK \n",
            "Extracting  /content/Ultra/ds3/val/labels/Cars86.txt                     \b\b\b\b 99%\b\b\b\b\b  OK \n",
            "Extracting  /content/Ultra/ds3/val/labels/Cars87.txt                     \b\b\b\b 99%\b\b\b\b\b  OK \n",
            "Extracting  /content/Ultra/ds3/val/labels.cache                          \b\b\b\b 99%\b\b\b\b\b  OK \n",
            "All OK\n"
          ]
        }
      ]
    },
    {
      "cell_type": "markdown",
      "source": [
        "# Nova secção"
      ],
      "metadata": {
        "id": "gMMFkVtZhcq5"
      }
    }
  ]
}